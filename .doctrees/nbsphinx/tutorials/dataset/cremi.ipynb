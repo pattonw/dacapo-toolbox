{
 "cells": [
  {
   "cell_type": "markdown",
   "id": "fb8d3b88",
   "metadata": {},
   "source": [
    "# Cremi Example\n",
    "This tutorial demonstrates some simple pipelines using the dacapo_toolbox\n",
    "dataset on [cremi data](https://cremi.org/data/). We'll cover a fun method\n",
    "for instance segmentation using a 2.5D U-Net."
   ]
  },
  {
   "cell_type": "markdown",
   "id": "b299541c",
   "metadata": {},
   "source": [
    "## Introduction and overview\n",
    "\n",
    "In this tutorial we will cover a few basic ML tasks using the DaCapo toolbox. We will:\n",
    "\n",
    "- Prepare a dataloader for the CREMI dataset\n",
    "- Train a simple 2D U-Net for both instance and semantic segmentation\n",
    "- Visualize the results\n"
   ]
  },
  {
   "cell_type": "markdown",
   "id": "84185b1f",
   "metadata": {},
   "source": [
    "## Environment setup\n",
    "If you have not already done so, you will need to install DaCapo. You can do this\n",
    "by first creating a new environment and then installing the DaCapo Toolbox.\n",
    "\n",
    "I highly recommend using [uv](https://docs.astral.sh/uv/) for environment management,\n",
    "but there are many tools to choose from.\n",
    "\n",
    "```bash\n",
    "uv init\n",
    "uv add git+https://github.com/pattonw/dacapo-toolbox.git\n",
    "```"
   ]
  },
  {
   "cell_type": "markdown",
   "id": "513b5bfd",
   "metadata": {},
   "source": [
    "## Data Preparation\n",
    "DaCapo works with zarr, so we will download [CREMI Sample A](https://cremi.org/static/data/sample_A%2B_20160601.hdf)\n",
    "and save it as a zarr file."
   ]
  },
  {
   "cell_type": "code",
   "execution_count": 1,
   "id": "43a7c72d",
   "metadata": {
    "execution": {
     "iopub.execute_input": "2025-09-12T20:13:17.227975Z",
     "iopub.status.busy": "2025-09-12T20:13:17.227827Z",
     "iopub.status.idle": "2025-09-12T20:13:28.448180Z",
     "shell.execute_reply": "2025-09-12T20:13:28.447718Z"
    },
    "lines_to_next_cell": 2
   },
   "outputs": [],
   "source": [
    "import multiprocessing as mp\n",
    "\n",
    "mp.set_start_method(\"fork\", force=True)\n",
    "import dask\n",
    "\n",
    "dask.config.set(scheduler=\"single-threaded\")\n",
    "\n",
    "from pathlib import Path\n",
    "from tqdm import tqdm\n",
    "\n",
    "from funlib.persistence import Array\n",
    "from funlib.geometry import Coordinate, Roi\n",
    "from dacapo_toolbox.sample_datasets import cremi\n",
    "\n",
    "if not Path(\"_static/cremi\").exists():\n",
    "    Path(\"_static/cremi\").mkdir(parents=True, exist_ok=True)\n",
    "\n",
    "raw_train, labels_train, raw_test, labels_test = cremi(Path(\"cremi.zarr\"))\n",
    "\n",
    "# define some variables that we will use later\n",
    "# The number of iterations we will train\n",
    "NUM_ITERATIONS = 300\n",
    "# A reasonable block size for processing image data with a UNet\n",
    "blocksize = Coordinate(32, 256, 256)\n",
    "# We choose a small and large eval roi for performance evaluation\n",
    "# The small roi will be processed in memory, the large will be processed blockwise\n",
    "offset = Coordinate(78, 465, 465)\n",
    "small_eval_roi = Roi(offset, blocksize) * raw_test.voxel_size\n",
    "large_eval_roi = (\n",
    "    Roi(offset - blocksize, blocksize * Coordinate(1, 3, 3)) * raw_test.voxel_size\n",
    ")"
   ]
  },
  {
   "cell_type": "markdown",
   "id": "38cb7954",
   "metadata": {},
   "source": [
    "Lets visualize our train and test data"
   ]
  },
  {
   "cell_type": "markdown",
   "id": "d69b2293",
   "metadata": {},
   "source": [
    "### Training data"
   ]
  },
  {
   "cell_type": "code",
   "execution_count": 2,
   "id": "686c3757",
   "metadata": {
    "execution": {
     "iopub.execute_input": "2025-09-12T20:13:28.450094Z",
     "iopub.status.busy": "2025-09-12T20:13:28.449737Z",
     "iopub.status.idle": "2025-09-12T20:13:29.172796Z",
     "shell.execute_reply": "2025-09-12T20:13:29.172266Z"
    }
   },
   "outputs": [],
   "source": [
    "\n",
    "from dacapo_toolbox.vis.preview import gif_2d, cube"
   ]
  },
  {
   "cell_type": "code",
   "execution_count": 3,
   "id": "026b89e5",
   "metadata": {
    "execution": {
     "iopub.execute_input": "2025-09-12T20:13:29.174913Z",
     "iopub.status.busy": "2025-09-12T20:13:29.174480Z",
     "iopub.status.idle": "2025-09-12T20:14:06.630499Z",
     "shell.execute_reply": "2025-09-12T20:14:06.629984Z"
    }
   },
   "outputs": [],
   "source": [
    "\n",
    "# create a 2D gif of the training data\n",
    "gif_2d(\n",
    "    arrays={\"Train Raw\": raw_train, \"Train Labels\": labels_train},\n",
    "    array_types={\"Train Raw\": \"raw\", \"Train Labels\": \"labels\"},\n",
    "    filename=\"_static/cremi/training-data.gif\",\n",
    "    title=\"Training Data\",\n",
    "    fps=10,\n",
    ")\n",
    "cube(\n",
    "    arrays={\"Train Raw\": raw_train, \"Train Labels\": labels_train},\n",
    "    array_types={\"Train Raw\": \"raw\", \"Train Labels\": \"labels\"},\n",
    "    filename=\"_static/cremi/training-data.jpg\",\n",
    "    title=\"Training Data\",\n",
    ")"
   ]
  },
  {
   "cell_type": "markdown",
   "id": "09d78dff",
   "metadata": {},
   "source": [
    "Here we visualize the training data:\n",
    "![training-data](_static/cremi/training-data.gif)\n",
    "![training-data-cube](_static/cremi/training-data.jpg)"
   ]
  },
  {
   "cell_type": "markdown",
   "id": "09ea8d87",
   "metadata": {},
   "source": [
    "### Testing data"
   ]
  },
  {
   "cell_type": "code",
   "execution_count": 4,
   "id": "ee556912",
   "metadata": {
    "execution": {
     "iopub.execute_input": "2025-09-12T20:14:06.632342Z",
     "iopub.status.busy": "2025-09-12T20:14:06.632178Z",
     "iopub.status.idle": "2025-09-12T20:14:44.117207Z",
     "shell.execute_reply": "2025-09-12T20:14:44.116694Z"
    }
   },
   "outputs": [],
   "source": [
    "gif_2d(\n",
    "    arrays={\"Test Raw\": raw_test, \"Test Labels\": labels_test},\n",
    "    array_types={\"Test Raw\": \"raw\", \"Test Labels\": \"labels\"},\n",
    "    filename=\"_static/cremi/testing-data.gif\",\n",
    "    title=\"Testing Data\",\n",
    "    fps=10,\n",
    ")\n",
    "cube(\n",
    "    arrays={\"Test Raw\": raw_test, \"Test Labels\": labels_test},\n",
    "    array_types={\"Test Raw\": \"raw\", \"Test Labels\": \"labels\"},\n",
    "    filename=\"_static/cremi/testing-data.jpg\",\n",
    "    title=\"Testing Data\",\n",
    ")"
   ]
  },
  {
   "cell_type": "markdown",
   "id": "7bf597a5",
   "metadata": {},
   "source": [
    "Here we visualize the test data:\n",
    "![test-data](_static/cremi/test-data.gif)\n",
    "![test-data-cube](_static/cremi/test-data.jpg)"
   ]
  },
  {
   "cell_type": "markdown",
   "id": "d876300c",
   "metadata": {},
   "source": [
    "### DaCapo\n",
    "Now that we have some data, lets look at how we can use DaCapo to interface with it for some common ML use cases."
   ]
  },
  {
   "cell_type": "markdown",
   "id": "cbba9594",
   "metadata": {},
   "source": [
    "### Data Split\n",
    "We always want to be explicit when we define our data split for training and validation so that we are aware what data is being used for training and validation."
   ]
  },
  {
   "cell_type": "code",
   "execution_count": 5,
   "id": "f4b96089",
   "metadata": {
    "execution": {
     "iopub.execute_input": "2025-09-12T20:14:44.118987Z",
     "iopub.status.busy": "2025-09-12T20:14:44.118832Z",
     "iopub.status.idle": "2025-09-12T20:14:45.625150Z",
     "shell.execute_reply": "2025-09-12T20:14:45.624603Z"
    }
   },
   "outputs": [
    {
     "name": "stderr",
     "output_type": "stream",
     "text": [
      "/home/runner/work/dacapo-toolbox/dacapo-toolbox/.venv/lib/python3.11/site-packages/tqdm/auto.py:21: TqdmWarning: IProgress not found. Please update jupyter and ipywidgets. See https://ipywidgets.readthedocs.io/en/stable/user_install.html\n",
      "  from .autonotebook import tqdm as notebook_tqdm\n"
     ]
    }
   ],
   "source": [
    "from dacapo_toolbox.dataset import (\n",
    "    iterable_dataset,\n",
    "    DeformAugmentConfig,\n",
    "    SimpleAugmentConfig,\n",
    ")"
   ]
  },
  {
   "cell_type": "code",
   "execution_count": 6,
   "id": "33a355d6",
   "metadata": {
    "execution": {
     "iopub.execute_input": "2025-09-12T20:14:45.627104Z",
     "iopub.status.busy": "2025-09-12T20:14:45.626581Z",
     "iopub.status.idle": "2025-09-12T20:14:45.636943Z",
     "shell.execute_reply": "2025-09-12T20:14:45.636407Z"
    }
   },
   "outputs": [
    {
     "name": "stderr",
     "output_type": "stream",
     "text": [
      "/home/runner/work/dacapo-toolbox/dacapo-toolbox/.venv/lib/python3.11/site-packages/gunpowder/nodes/deform_augment.py:164: UserWarning: Rotating with anisotropic control point spacingmay lead to exaggerated stretching.\n",
      "  warnings.warn(\n"
     ]
    }
   ],
   "source": [
    "train_dataset = iterable_dataset(\n",
    "    datasets={\"raw\": raw_train, \"gt\": labels_train},\n",
    "    shapes={\"raw\": (13, 256, 256), \"gt\": (13, 256, 256)},\n",
    "    deform_augment_config=DeformAugmentConfig(\n",
    "        p=0.1,\n",
    "        control_point_spacing=(2, 10, 10),\n",
    "        jitter_sigma=(0.5, 2, 2),\n",
    "        rotate=True,\n",
    "        subsample=4,\n",
    "        rotation_axes=(1, 2),\n",
    "        scale_interval=(1.0, 1.0),\n",
    "    ),\n",
    "    simple_augment_config=SimpleAugmentConfig(\n",
    "        p=1.0,\n",
    "        mirror_only=(1, 2),\n",
    "        transpose_only=(1, 2),\n",
    "    ),\n",
    "    trim=Coordinate(5, 5, 5),\n",
    ")\n",
    "batch_gen = iter(train_dataset)"
   ]
  },
  {
   "cell_type": "code",
   "execution_count": 7,
   "id": "7e3f6d84",
   "metadata": {
    "execution": {
     "iopub.execute_input": "2025-09-12T20:14:45.638325Z",
     "iopub.status.busy": "2025-09-12T20:14:45.638178Z",
     "iopub.status.idle": "2025-09-12T20:14:55.048720Z",
     "shell.execute_reply": "2025-09-12T20:14:55.048182Z"
    }
   },
   "outputs": [],
   "source": [
    "batch = next(batch_gen)\n",
    "gif_2d(\n",
    "    arrays={\n",
    "        \"Raw\": Array(batch[\"raw\"].numpy(), voxel_size=raw_train.voxel_size),\n",
    "        \"Labels\": Array(batch[\"gt\"].numpy(), voxel_size=labels_train.voxel_size),\n",
    "    },\n",
    "    array_types={\"Raw\": \"raw\", \"Labels\": \"labels\"},\n",
    "    filename=\"_static/cremi/simple-batch.gif\",\n",
    "    title=\"Simple Batch\",\n",
    "    fps=10,\n",
    ")\n",
    "cube(\n",
    "    arrays={\n",
    "        \"Raw\": Array(batch[\"raw\"].numpy(), voxel_size=raw_train.voxel_size),\n",
    "        \"Labels\": Array(batch[\"gt\"].numpy(), voxel_size=labels_train.voxel_size),\n",
    "    },\n",
    "    array_types={\"Raw\": \"raw\", \"Labels\": \"labels\"},\n",
    "    filename=\"_static/cremi/simple-batch.jpg\",\n",
    "    title=\"Simple Batch\",\n",
    ")"
   ]
  },
  {
   "cell_type": "markdown",
   "id": "667b2512",
   "metadata": {
    "lines_to_next_cell": 2
   },
   "source": [
    "Here we visualize the training data:\n",
    "![simple-batch](_static/cremi/simple-batch.gif)\n",
    "![simple-batch-cube](_static/cremi/simple-batch.jpg)"
   ]
  },
  {
   "cell_type": "markdown",
   "id": "9ecd7e5a",
   "metadata": {},
   "source": [
    "### Tasks\n",
    "When training for instance segmentation, it is not possible to directly predict label ids since the ids have to be unique accross the full volume which is not possible to do with the local context that a UNet operates on. So instead we need to transform our labels into some intermediate representation that is both easy to predict and easy to post process. The most common method we use is a combination of [affinities](https://arxiv.org/pdf/1706.00120) with optional [lsds](https://github.com/funkelab/lsd) for prediction plus [mutex watershed](https://arxiv.org/abs/1904.12654) for post processing.\n",
    "\n",
    "Next we will define the task that encapsulates this process."
   ]
  },
  {
   "cell_type": "code",
   "execution_count": 8,
   "id": "7ecec7af",
   "metadata": {
    "execution": {
     "iopub.execute_input": "2025-09-12T20:14:55.050550Z",
     "iopub.status.busy": "2025-09-12T20:14:55.050375Z",
     "iopub.status.idle": "2025-09-12T20:14:58.007778Z",
     "shell.execute_reply": "2025-09-12T20:14:58.007279Z"
    }
   },
   "outputs": [
    {
     "name": "stderr",
     "output_type": "stream",
     "text": [
      "/home/runner/work/dacapo-toolbox/dacapo-toolbox/.venv/lib/python3.11/site-packages/gunpowder/nodes/deform_augment.py:164: UserWarning: Rotating with anisotropic control point spacingmay lead to exaggerated stretching.\n",
      "  warnings.warn(\n"
     ]
    }
   ],
   "source": [
    "from dacapo_toolbox.transforms.affs import Affs, AffsMask\n",
    "from dacapo_toolbox.transforms.weight_balancing import BalanceLabels\n",
    "import torchvision\n",
    "\n",
    "neighborhood = [\n",
    "    (1, 0, 0),\n",
    "    (0, 1, 0),\n",
    "    (0, 0, 1),\n",
    "    (0, 7, 0),\n",
    "    (0, 0, 7),\n",
    "    (0, 23, 0),\n",
    "    (0, 0, 23),\n",
    "]\n",
    "train_dataset = iterable_dataset(\n",
    "    datasets={\"raw\": raw_train, \"gt\": labels_train},\n",
    "    shapes={\"raw\": (13, 256, 256), \"gt\": (13, 256, 256)},\n",
    "    transforms={\n",
    "        (\"gt\", \"affs\"): Affs(neighborhood=neighborhood, concat_dim=0),\n",
    "        (\"gt\", \"affs_mask\"): AffsMask(neighborhood=neighborhood),\n",
    "        ((\"affs\", \"affs_mask\"), \"weights\"): BalanceLabels((1, -1, -1, -1)),\n",
    "    },\n",
    "    deform_augment_config=DeformAugmentConfig(\n",
    "        p=0.1,\n",
    "        control_point_spacing=(2, 10, 10),\n",
    "        jitter_sigma=(0.5, 2, 2),\n",
    "        rotate=True,\n",
    "        subsample=4,\n",
    "        rotation_axes=(1, 2),\n",
    "        scale_interval=(1.0, 1.0),\n",
    "    ),\n",
    "    simple_augment_config=SimpleAugmentConfig(\n",
    "        p=1.0,\n",
    "        mirror_only=(1, 2),\n",
    "        transpose_only=(1, 2),\n",
    "    ),\n",
    ")\n",
    "\n",
    "batch_gen = iter(train_dataset)"
   ]
  },
  {
   "cell_type": "code",
   "execution_count": 9,
   "id": "a7f48db0",
   "metadata": {
    "execution": {
     "iopub.execute_input": "2025-09-12T20:14:58.009698Z",
     "iopub.status.busy": "2025-09-12T20:14:58.009165Z",
     "iopub.status.idle": "2025-09-12T20:15:16.449393Z",
     "shell.execute_reply": "2025-09-12T20:15:16.448809Z"
    }
   },
   "outputs": [],
   "source": [
    "batch = next(batch_gen)\n",
    "gif_2d(\n",
    "    arrays={\n",
    "        \"Raw\": Array(batch[\"raw\"].numpy(), voxel_size=raw_train.voxel_size),\n",
    "        \"GT\": Array(batch[\"gt\"].numpy() % 256, voxel_size=raw_train.voxel_size),\n",
    "        \"Affs\": Array(\n",
    "            batch[\"affs\"].float().numpy()[[0, 3, 4]],\n",
    "            voxel_size=raw_train.voxel_size,\n",
    "        ),\n",
    "        \"Affs Mask\": Array(\n",
    "            batch[\"affs_mask\"].float().numpy()[[0, 3, 4]],\n",
    "            voxel_size=raw_train.voxel_size,\n",
    "        ),\n",
    "    },\n",
    "    array_types={\n",
    "        \"Raw\": \"raw\",\n",
    "        \"GT\": \"labels\",\n",
    "        \"Affs\": \"affs\",\n",
    "        \"Affs Mask\": \"affs\",\n",
    "    },\n",
    "    filename=\"_static/cremi/affs-batch.gif\",\n",
    "    title=\"Affinities Batch\",\n",
    "    fps=10,\n",
    ")\n",
    "cube(\n",
    "    arrays={\n",
    "        \"Raw\": Array(batch[\"raw\"].numpy(), voxel_size=raw_train.voxel_size),\n",
    "        \"GT\": Array(batch[\"gt\"].numpy(), voxel_size=raw_train.voxel_size),\n",
    "        \"Affs\": Array(\n",
    "            batch[\"affs\"].float().numpy()[[0, 3, 4]],\n",
    "            voxel_size=raw_train.voxel_size,\n",
    "        ),\n",
    "        \"Affs Mask\": Array(\n",
    "            batch[\"affs_mask\"].float().numpy()[[0, 3, 4]],\n",
    "            voxel_size=raw_train.voxel_size,\n",
    "        ),\n",
    "    },\n",
    "    array_types={\n",
    "        \"Raw\": \"raw\",\n",
    "        \"GT\": \"labels\",\n",
    "        \"Affs\": \"affs\",\n",
    "        \"Affs Mask\": \"affs\",\n",
    "    },\n",
    "    filename=\"_static/cremi/affs-batch.jpg\",\n",
    "    title=\"Affinities Batch\",\n",
    ")"
   ]
  },
  {
   "cell_type": "markdown",
   "id": "5afacd0b",
   "metadata": {},
   "source": [
    "Here we visualize a batch with (raw, gt, target) triplets for the affinities task:\n",
    "![affs-batch](_static/cremi/affs-batch.gif)\n",
    "![affs-batch-cube](_static/cremi/affs-batch.jpg)"
   ]
  },
  {
   "cell_type": "markdown",
   "id": "5ec372bd",
   "metadata": {},
   "source": [
    "### Models\n",
    "Lets define our model"
   ]
  },
  {
   "cell_type": "code",
   "execution_count": 10,
   "id": "35932d07",
   "metadata": {
    "execution": {
     "iopub.execute_input": "2025-09-12T20:15:16.451361Z",
     "iopub.status.busy": "2025-09-12T20:15:16.451200Z",
     "iopub.status.idle": "2025-09-12T20:15:17.192262Z",
     "shell.execute_reply": "2025-09-12T20:15:17.191727Z"
    }
   },
   "outputs": [],
   "source": [
    "import tems\n",
    "import torch\n",
    "\n",
    "\n",
    "if torch.cuda.is_available():\n",
    "    device = torch.device(\"cuda\")\n",
    "elif torch.backends.mps.is_available():\n",
    "    device = torch.device(\"cpu\")\n",
    "else:\n",
    "    device = torch.device(\"cpu\")\n",
    "\n",
    "unet = tems.UNet.funlib_api(\n",
    "    dims=3,\n",
    "    in_channels=1,\n",
    "    num_fmaps=32,\n",
    "    fmap_inc_factor=4,\n",
    "    downsample_factors=[(1, 2, 2), (1, 2, 2), (1, 2, 2)],\n",
    "    kernel_size_down=[\n",
    "        [(1, 3, 3), (1, 3, 3)],\n",
    "        [(1, 3, 3), (1, 3, 3)],\n",
    "        [(1, 3, 3), (1, 3, 3)],\n",
    "        [(1, 3, 3), (1, 3, 3)],\n",
    "    ],\n",
    "    kernel_size_up=[\n",
    "        [(1, 3, 3), (1, 3, 3)],\n",
    "        [(1, 3, 3), (1, 3, 3)],\n",
    "        [(3, 3, 3), (3, 3, 3)],\n",
    "    ],\n",
    "    activation=\"LeakyReLU\",\n",
    ")\n",
    "\n",
    "module = torch.nn.Sequential(\n",
    "    unet, torch.nn.Conv3d(32, len(neighborhood), kernel_size=1), torch.nn.Sigmoid()\n",
    ").to(device)"
   ]
  },
  {
   "cell_type": "markdown",
   "id": "10c6a845",
   "metadata": {},
   "source": [
    "### Training loop\n",
    "Now we can bring everything together and train our model."
   ]
  },
  {
   "cell_type": "code",
   "execution_count": 11,
   "id": "d41e56da",
   "metadata": {
    "execution": {
     "iopub.execute_input": "2025-09-12T20:15:17.193986Z",
     "iopub.status.busy": "2025-09-12T20:15:17.193819Z",
     "iopub.status.idle": "2025-09-12T21:57:24.368148Z",
     "shell.execute_reply": "2025-09-12T21:57:24.367561Z"
    }
   },
   "outputs": [
    {
     "name": "stderr",
     "output_type": "stream",
     "text": [
      "/home/runner/work/dacapo-toolbox/dacapo-toolbox/.venv/lib/python3.11/site-packages/gunpowder/nodes/deform_augment.py:164: UserWarning: Rotating with anisotropic control point spacingmay lead to exaggerated stretching.\n",
      "  warnings.warn(\n"
     ]
    },
    {
     "name": "stderr",
     "output_type": "stream",
     "text": [
      "\r",
      "0it [00:00, ?it/s]"
     ]
    },
    {
     "name": "stderr",
     "output_type": "stream",
     "text": [
      "\r",
      "1it [00:21, 21.88s/it]"
     ]
    },
    {
     "name": "stderr",
     "output_type": "stream",
     "text": [
      "\r",
      "2it [00:42, 21.15s/it]"
     ]
    },
    {
     "name": "stderr",
     "output_type": "stream",
     "text": [
      "\r",
      "3it [01:02, 20.82s/it]"
     ]
    },
    {
     "name": "stderr",
     "output_type": "stream",
     "text": [
      "\r",
      "4it [01:23, 20.61s/it]"
     ]
    },
    {
     "name": "stderr",
     "output_type": "stream",
     "text": [
      "\r",
      "5it [01:43, 20.47s/it]"
     ]
    },
    {
     "name": "stderr",
     "output_type": "stream",
     "text": [
      "\r",
      "6it [02:03, 20.39s/it]"
     ]
    },
    {
     "name": "stderr",
     "output_type": "stream",
     "text": [
      "\r",
      "7it [02:23, 20.34s/it]"
     ]
    },
    {
     "name": "stderr",
     "output_type": "stream",
     "text": [
      "\r",
      "8it [02:44, 20.32s/it]"
     ]
    },
    {
     "name": "stderr",
     "output_type": "stream",
     "text": [
      "\r",
      "9it [03:04, 20.31s/it]"
     ]
    },
    {
     "name": "stderr",
     "output_type": "stream",
     "text": [
      "\r",
      "10it [03:24, 20.29s/it]"
     ]
    },
    {
     "name": "stderr",
     "output_type": "stream",
     "text": [
      "\r",
      "11it [03:44, 20.28s/it]"
     ]
    },
    {
     "name": "stderr",
     "output_type": "stream",
     "text": [
      "\r",
      "12it [04:05, 20.27s/it]"
     ]
    },
    {
     "name": "stderr",
     "output_type": "stream",
     "text": [
      "\r",
      "13it [04:25, 20.26s/it]"
     ]
    },
    {
     "name": "stderr",
     "output_type": "stream",
     "text": [
      "\r",
      "14it [04:45, 20.25s/it]"
     ]
    },
    {
     "name": "stderr",
     "output_type": "stream",
     "text": [
      "\r",
      "15it [05:05, 20.24s/it]"
     ]
    },
    {
     "name": "stderr",
     "output_type": "stream",
     "text": [
      "\r",
      "16it [05:26, 20.25s/it]"
     ]
    },
    {
     "name": "stderr",
     "output_type": "stream",
     "text": [
      "\r",
      "17it [05:46, 20.23s/it]"
     ]
    },
    {
     "name": "stderr",
     "output_type": "stream",
     "text": [
      "\r",
      "18it [06:06, 20.33s/it]"
     ]
    },
    {
     "name": "stderr",
     "output_type": "stream",
     "text": [
      "\r",
      "19it [06:27, 20.31s/it]"
     ]
    },
    {
     "name": "stderr",
     "output_type": "stream",
     "text": [
      "\r",
      "20it [06:47, 20.39s/it]"
     ]
    },
    {
     "name": "stderr",
     "output_type": "stream",
     "text": [
      "\r",
      "21it [07:08, 20.36s/it]"
     ]
    },
    {
     "name": "stderr",
     "output_type": "stream",
     "text": [
      "\r",
      "22it [07:28, 20.38s/it]"
     ]
    },
    {
     "name": "stderr",
     "output_type": "stream",
     "text": [
      "\r",
      "23it [07:48, 20.36s/it]"
     ]
    },
    {
     "name": "stderr",
     "output_type": "stream",
     "text": [
      "\r",
      "24it [08:09, 20.40s/it]"
     ]
    },
    {
     "name": "stderr",
     "output_type": "stream",
     "text": [
      "\r",
      "25it [08:29, 20.36s/it]"
     ]
    },
    {
     "name": "stderr",
     "output_type": "stream",
     "text": [
      "\r",
      "26it [08:49, 20.32s/it]"
     ]
    },
    {
     "name": "stderr",
     "output_type": "stream",
     "text": [
      "\r",
      "27it [09:10, 20.39s/it]"
     ]
    },
    {
     "name": "stderr",
     "output_type": "stream",
     "text": [
      "\r",
      "28it [09:30, 20.35s/it]"
     ]
    },
    {
     "name": "stderr",
     "output_type": "stream",
     "text": [
      "\r",
      "29it [09:50, 20.31s/it]"
     ]
    },
    {
     "name": "stderr",
     "output_type": "stream",
     "text": [
      "\r",
      "30it [10:11, 20.29s/it]"
     ]
    },
    {
     "name": "stderr",
     "output_type": "stream",
     "text": [
      "\r",
      "31it [10:31, 20.27s/it]"
     ]
    },
    {
     "name": "stderr",
     "output_type": "stream",
     "text": [
      "\r",
      "32it [10:51, 20.25s/it]"
     ]
    },
    {
     "name": "stderr",
     "output_type": "stream",
     "text": [
      "\r",
      "33it [11:11, 20.24s/it]"
     ]
    },
    {
     "name": "stderr",
     "output_type": "stream",
     "text": [
      "\r",
      "34it [11:31, 20.24s/it]"
     ]
    },
    {
     "name": "stderr",
     "output_type": "stream",
     "text": [
      "\r",
      "35it [11:52, 20.23s/it]"
     ]
    },
    {
     "name": "stderr",
     "output_type": "stream",
     "text": [
      "\r",
      "36it [12:12, 20.23s/it]"
     ]
    },
    {
     "name": "stderr",
     "output_type": "stream",
     "text": [
      "\r",
      "37it [12:32, 20.24s/it]"
     ]
    },
    {
     "name": "stderr",
     "output_type": "stream",
     "text": [
      "\r",
      "38it [12:53, 20.43s/it]"
     ]
    },
    {
     "name": "stderr",
     "output_type": "stream",
     "text": [
      "\r",
      "39it [13:14, 20.48s/it]"
     ]
    },
    {
     "name": "stderr",
     "output_type": "stream",
     "text": [
      "\r",
      "40it [13:34, 20.41s/it]"
     ]
    },
    {
     "name": "stderr",
     "output_type": "stream",
     "text": [
      "\r",
      "41it [13:54, 20.35s/it]"
     ]
    },
    {
     "name": "stderr",
     "output_type": "stream",
     "text": [
      "\r",
      "42it [14:14, 20.32s/it]"
     ]
    },
    {
     "name": "stderr",
     "output_type": "stream",
     "text": [
      "\r",
      "43it [14:35, 20.38s/it]"
     ]
    },
    {
     "name": "stderr",
     "output_type": "stream",
     "text": [
      "\r",
      "44it [14:55, 20.33s/it]"
     ]
    },
    {
     "name": "stderr",
     "output_type": "stream",
     "text": [
      "\r",
      "45it [15:15, 20.31s/it]"
     ]
    },
    {
     "name": "stderr",
     "output_type": "stream",
     "text": [
      "\r",
      "46it [15:35, 20.27s/it]"
     ]
    },
    {
     "name": "stderr",
     "output_type": "stream",
     "text": [
      "\r",
      "47it [15:56, 20.32s/it]"
     ]
    },
    {
     "name": "stderr",
     "output_type": "stream",
     "text": [
      "\r",
      "48it [16:16, 20.28s/it]"
     ]
    },
    {
     "name": "stderr",
     "output_type": "stream",
     "text": [
      "\r",
      "49it [16:37, 20.37s/it]"
     ]
    },
    {
     "name": "stderr",
     "output_type": "stream",
     "text": [
      "\r",
      "50it [16:57, 20.34s/it]"
     ]
    },
    {
     "name": "stderr",
     "output_type": "stream",
     "text": [
      "\r",
      "51it [17:17, 20.32s/it]"
     ]
    },
    {
     "name": "stderr",
     "output_type": "stream",
     "text": [
      "\r",
      "52it [17:37, 20.29s/it]"
     ]
    },
    {
     "name": "stderr",
     "output_type": "stream",
     "text": [
      "\r",
      "53it [17:58, 20.28s/it]"
     ]
    },
    {
     "name": "stderr",
     "output_type": "stream",
     "text": [
      "\r",
      "54it [18:18, 20.28s/it]"
     ]
    },
    {
     "name": "stderr",
     "output_type": "stream",
     "text": [
      "\r",
      "55it [18:38, 20.35s/it]"
     ]
    },
    {
     "name": "stderr",
     "output_type": "stream",
     "text": [
      "\r",
      "56it [18:59, 20.32s/it]"
     ]
    },
    {
     "name": "stderr",
     "output_type": "stream",
     "text": [
      "\r",
      "57it [19:19, 20.29s/it]"
     ]
    },
    {
     "name": "stderr",
     "output_type": "stream",
     "text": [
      "\r",
      "58it [19:39, 20.27s/it]"
     ]
    },
    {
     "name": "stderr",
     "output_type": "stream",
     "text": [
      "\r",
      "59it [19:59, 20.26s/it]"
     ]
    },
    {
     "name": "stderr",
     "output_type": "stream",
     "text": [
      "\r",
      "60it [20:20, 20.24s/it]"
     ]
    },
    {
     "name": "stderr",
     "output_type": "stream",
     "text": [
      "\r",
      "61it [20:40, 20.23s/it]"
     ]
    },
    {
     "name": "stderr",
     "output_type": "stream",
     "text": [
      "\r",
      "62it [21:00, 20.22s/it]"
     ]
    },
    {
     "name": "stderr",
     "output_type": "stream",
     "text": [
      "\r",
      "63it [21:20, 20.29s/it]"
     ]
    },
    {
     "name": "stderr",
     "output_type": "stream",
     "text": [
      "\r",
      "64it [21:41, 20.26s/it]"
     ]
    },
    {
     "name": "stderr",
     "output_type": "stream",
     "text": [
      "\r",
      "65it [22:01, 20.25s/it]"
     ]
    },
    {
     "name": "stderr",
     "output_type": "stream",
     "text": [
      "\r",
      "66it [22:21, 20.24s/it]"
     ]
    },
    {
     "name": "stderr",
     "output_type": "stream",
     "text": [
      "\r",
      "67it [22:42, 20.32s/it]"
     ]
    },
    {
     "name": "stderr",
     "output_type": "stream",
     "text": [
      "\r",
      "68it [23:02, 20.39s/it]"
     ]
    },
    {
     "name": "stderr",
     "output_type": "stream",
     "text": [
      "\r",
      "69it [23:22, 20.35s/it]"
     ]
    },
    {
     "name": "stderr",
     "output_type": "stream",
     "text": [
      "\r",
      "70it [23:43, 20.32s/it]"
     ]
    },
    {
     "name": "stderr",
     "output_type": "stream",
     "text": [
      "\r",
      "71it [24:03, 20.33s/it]"
     ]
    },
    {
     "name": "stderr",
     "output_type": "stream",
     "text": [
      "\r",
      "72it [24:23, 20.30s/it]"
     ]
    },
    {
     "name": "stderr",
     "output_type": "stream",
     "text": [
      "\r",
      "73it [24:43, 20.28s/it]"
     ]
    },
    {
     "name": "stderr",
     "output_type": "stream",
     "text": [
      "\r",
      "74it [25:04, 20.27s/it]"
     ]
    },
    {
     "name": "stderr",
     "output_type": "stream",
     "text": [
      "\r",
      "75it [25:24, 20.25s/it]"
     ]
    },
    {
     "name": "stderr",
     "output_type": "stream",
     "text": [
      "\r",
      "76it [25:44, 20.24s/it]"
     ]
    },
    {
     "name": "stderr",
     "output_type": "stream",
     "text": [
      "\r",
      "77it [26:04, 20.25s/it]"
     ]
    },
    {
     "name": "stderr",
     "output_type": "stream",
     "text": [
      "\r",
      "78it [26:25, 20.33s/it]"
     ]
    },
    {
     "name": "stderr",
     "output_type": "stream",
     "text": [
      "\r",
      "79it [26:45, 20.31s/it]"
     ]
    },
    {
     "name": "stderr",
     "output_type": "stream",
     "text": [
      "\r",
      "80it [27:05, 20.30s/it]"
     ]
    },
    {
     "name": "stderr",
     "output_type": "stream",
     "text": [
      "\r",
      "81it [27:26, 20.35s/it]"
     ]
    },
    {
     "name": "stderr",
     "output_type": "stream",
     "text": [
      "\r",
      "82it [27:46, 20.33s/it]"
     ]
    },
    {
     "name": "stderr",
     "output_type": "stream",
     "text": [
      "\r",
      "83it [28:07, 20.33s/it]"
     ]
    },
    {
     "name": "stderr",
     "output_type": "stream",
     "text": [
      "\r",
      "84it [28:27, 20.30s/it]"
     ]
    },
    {
     "name": "stderr",
     "output_type": "stream",
     "text": [
      "\r",
      "85it [28:47, 20.29s/it]"
     ]
    },
    {
     "name": "stderr",
     "output_type": "stream",
     "text": [
      "\r",
      "86it [29:07, 20.30s/it]"
     ]
    },
    {
     "name": "stderr",
     "output_type": "stream",
     "text": [
      "\r",
      "87it [29:28, 20.28s/it]"
     ]
    },
    {
     "name": "stderr",
     "output_type": "stream",
     "text": [
      "\r",
      "88it [29:48, 20.34s/it]"
     ]
    },
    {
     "name": "stderr",
     "output_type": "stream",
     "text": [
      "\r",
      "89it [30:09, 20.50s/it]"
     ]
    },
    {
     "name": "stderr",
     "output_type": "stream",
     "text": [
      "\r",
      "90it [30:29, 20.51s/it]"
     ]
    },
    {
     "name": "stderr",
     "output_type": "stream",
     "text": [
      "\r",
      "91it [30:50, 20.42s/it]"
     ]
    },
    {
     "name": "stderr",
     "output_type": "stream",
     "text": [
      "\r",
      "92it [31:10, 20.46s/it]"
     ]
    },
    {
     "name": "stderr",
     "output_type": "stream",
     "text": [
      "\r",
      "93it [31:30, 20.38s/it]"
     ]
    },
    {
     "name": "stderr",
     "output_type": "stream",
     "text": [
      "\r",
      "94it [31:51, 20.33s/it]"
     ]
    },
    {
     "name": "stderr",
     "output_type": "stream",
     "text": [
      "\r",
      "95it [32:11, 20.41s/it]"
     ]
    },
    {
     "name": "stderr",
     "output_type": "stream",
     "text": [
      "\r",
      "96it [32:32, 20.36s/it]"
     ]
    },
    {
     "name": "stderr",
     "output_type": "stream",
     "text": [
      "\r",
      "97it [32:52, 20.33s/it]"
     ]
    },
    {
     "name": "stderr",
     "output_type": "stream",
     "text": [
      "\r",
      "98it [33:12, 20.31s/it]"
     ]
    },
    {
     "name": "stderr",
     "output_type": "stream",
     "text": [
      "\r",
      "99it [33:32, 20.29s/it]"
     ]
    },
    {
     "name": "stderr",
     "output_type": "stream",
     "text": [
      "\r",
      "100it [33:52, 20.26s/it]"
     ]
    },
    {
     "name": "stderr",
     "output_type": "stream",
     "text": [
      "\r",
      "101it [34:13, 20.27s/it]"
     ]
    },
    {
     "name": "stderr",
     "output_type": "stream",
     "text": [
      "\r",
      "102it [34:33, 20.26s/it]"
     ]
    },
    {
     "name": "stderr",
     "output_type": "stream",
     "text": [
      "\r",
      "103it [34:53, 20.26s/it]"
     ]
    },
    {
     "name": "stderr",
     "output_type": "stream",
     "text": [
      "\r",
      "104it [35:13, 20.25s/it]"
     ]
    },
    {
     "name": "stderr",
     "output_type": "stream",
     "text": [
      "\r",
      "105it [35:34, 20.32s/it]"
     ]
    },
    {
     "name": "stderr",
     "output_type": "stream",
     "text": [
      "\r",
      "106it [35:54, 20.35s/it]"
     ]
    },
    {
     "name": "stderr",
     "output_type": "stream",
     "text": [
      "\r",
      "107it [36:15, 20.32s/it]"
     ]
    },
    {
     "name": "stderr",
     "output_type": "stream",
     "text": [
      "\r",
      "108it [36:35, 20.38s/it]"
     ]
    },
    {
     "name": "stderr",
     "output_type": "stream",
     "text": [
      "\r",
      "109it [36:55, 20.34s/it]"
     ]
    },
    {
     "name": "stderr",
     "output_type": "stream",
     "text": [
      "\r",
      "110it [37:16, 20.31s/it]"
     ]
    },
    {
     "name": "stderr",
     "output_type": "stream",
     "text": [
      "\r",
      "111it [37:36, 20.30s/it]"
     ]
    },
    {
     "name": "stderr",
     "output_type": "stream",
     "text": [
      "\r",
      "112it [37:56, 20.30s/it]"
     ]
    },
    {
     "name": "stderr",
     "output_type": "stream",
     "text": [
      "\r",
      "113it [38:17, 20.31s/it]"
     ]
    },
    {
     "name": "stderr",
     "output_type": "stream",
     "text": [
      "\r",
      "114it [38:37, 20.31s/it]"
     ]
    },
    {
     "name": "stderr",
     "output_type": "stream",
     "text": [
      "\r",
      "115it [38:57, 20.39s/it]"
     ]
    },
    {
     "name": "stderr",
     "output_type": "stream",
     "text": [
      "\r",
      "116it [39:18, 20.35s/it]"
     ]
    },
    {
     "name": "stderr",
     "output_type": "stream",
     "text": [
      "\r",
      "117it [39:38, 20.33s/it]"
     ]
    },
    {
     "name": "stderr",
     "output_type": "stream",
     "text": [
      "\r",
      "118it [39:58, 20.39s/it]"
     ]
    },
    {
     "name": "stderr",
     "output_type": "stream",
     "text": [
      "\r",
      "119it [40:19, 20.36s/it]"
     ]
    },
    {
     "name": "stderr",
     "output_type": "stream",
     "text": [
      "\r",
      "120it [40:39, 20.32s/it]"
     ]
    },
    {
     "name": "stderr",
     "output_type": "stream",
     "text": [
      "\r",
      "121it [40:59, 20.28s/it]"
     ]
    },
    {
     "name": "stderr",
     "output_type": "stream",
     "text": [
      "\r",
      "122it [41:20, 20.41s/it]"
     ]
    },
    {
     "name": "stderr",
     "output_type": "stream",
     "text": [
      "\r",
      "123it [41:40, 20.35s/it]"
     ]
    },
    {
     "name": "stderr",
     "output_type": "stream",
     "text": [
      "\r",
      "124it [42:00, 20.32s/it]"
     ]
    },
    {
     "name": "stderr",
     "output_type": "stream",
     "text": [
      "\r",
      "125it [42:21, 20.39s/it]"
     ]
    },
    {
     "name": "stderr",
     "output_type": "stream",
     "text": [
      "\r",
      "126it [42:41, 20.44s/it]"
     ]
    },
    {
     "name": "stderr",
     "output_type": "stream",
     "text": [
      "\r",
      "127it [43:02, 20.40s/it]"
     ]
    },
    {
     "name": "stderr",
     "output_type": "stream",
     "text": [
      "\r",
      "128it [43:22, 20.37s/it]"
     ]
    },
    {
     "name": "stderr",
     "output_type": "stream",
     "text": [
      "\r",
      "129it [43:42, 20.34s/it]"
     ]
    },
    {
     "name": "stderr",
     "output_type": "stream",
     "text": [
      "\r",
      "130it [44:03, 20.31s/it]"
     ]
    },
    {
     "name": "stderr",
     "output_type": "stream",
     "text": [
      "\r",
      "131it [44:23, 20.28s/it]"
     ]
    },
    {
     "name": "stderr",
     "output_type": "stream",
     "text": [
      "\r",
      "132it [44:43, 20.26s/it]"
     ]
    },
    {
     "name": "stderr",
     "output_type": "stream",
     "text": [
      "\r",
      "133it [45:03, 20.25s/it]"
     ]
    },
    {
     "name": "stderr",
     "output_type": "stream",
     "text": [
      "\r",
      "134it [45:23, 20.24s/it]"
     ]
    },
    {
     "name": "stderr",
     "output_type": "stream",
     "text": [
      "\r",
      "135it [45:44, 20.23s/it]"
     ]
    },
    {
     "name": "stderr",
     "output_type": "stream",
     "text": [
      "\r",
      "136it [46:04, 20.22s/it]"
     ]
    },
    {
     "name": "stderr",
     "output_type": "stream",
     "text": [
      "\r",
      "137it [46:24, 20.24s/it]"
     ]
    },
    {
     "name": "stderr",
     "output_type": "stream",
     "text": [
      "\r",
      "138it [46:44, 20.24s/it]"
     ]
    },
    {
     "name": "stderr",
     "output_type": "stream",
     "text": [
      "\r",
      "139it [47:05, 20.24s/it]"
     ]
    },
    {
     "name": "stderr",
     "output_type": "stream",
     "text": [
      "\r",
      "140it [47:25, 20.24s/it]"
     ]
    },
    {
     "name": "stderr",
     "output_type": "stream",
     "text": [
      "\r",
      "141it [47:45, 20.24s/it]"
     ]
    },
    {
     "name": "stderr",
     "output_type": "stream",
     "text": [
      "\r",
      "142it [48:05, 20.27s/it]"
     ]
    },
    {
     "name": "stderr",
     "output_type": "stream",
     "text": [
      "\r",
      "143it [48:26, 20.35s/it]"
     ]
    },
    {
     "name": "stderr",
     "output_type": "stream",
     "text": [
      "\r",
      "144it [48:46, 20.33s/it]"
     ]
    },
    {
     "name": "stderr",
     "output_type": "stream",
     "text": [
      "\r",
      "145it [49:07, 20.32s/it]"
     ]
    },
    {
     "name": "stderr",
     "output_type": "stream",
     "text": [
      "\r",
      "146it [49:27, 20.39s/it]"
     ]
    },
    {
     "name": "stderr",
     "output_type": "stream",
     "text": [
      "\r",
      "147it [49:47, 20.34s/it]"
     ]
    },
    {
     "name": "stderr",
     "output_type": "stream",
     "text": [
      "\r",
      "148it [50:08, 20.40s/it]"
     ]
    },
    {
     "name": "stderr",
     "output_type": "stream",
     "text": [
      "\r",
      "149it [50:28, 20.35s/it]"
     ]
    },
    {
     "name": "stderr",
     "output_type": "stream",
     "text": [
      "\r",
      "150it [50:49, 20.40s/it]"
     ]
    },
    {
     "name": "stderr",
     "output_type": "stream",
     "text": [
      "\r",
      "151it [51:09, 20.45s/it]"
     ]
    },
    {
     "name": "stderr",
     "output_type": "stream",
     "text": [
      "\r",
      "152it [51:30, 20.40s/it]"
     ]
    },
    {
     "name": "stderr",
     "output_type": "stream",
     "text": [
      "\r",
      "153it [51:50, 20.37s/it]"
     ]
    },
    {
     "name": "stderr",
     "output_type": "stream",
     "text": [
      "\r",
      "154it [52:10, 20.35s/it]"
     ]
    },
    {
     "name": "stderr",
     "output_type": "stream",
     "text": [
      "\r",
      "155it [52:30, 20.34s/it]"
     ]
    },
    {
     "name": "stderr",
     "output_type": "stream",
     "text": [
      "\r",
      "156it [52:51, 20.31s/it]"
     ]
    },
    {
     "name": "stderr",
     "output_type": "stream",
     "text": [
      "\r",
      "157it [53:11, 20.31s/it]"
     ]
    },
    {
     "name": "stderr",
     "output_type": "stream",
     "text": [
      "\r",
      "158it [53:32, 20.49s/it]"
     ]
    },
    {
     "name": "stderr",
     "output_type": "stream",
     "text": [
      "\r",
      "159it [53:52, 20.43s/it]"
     ]
    },
    {
     "name": "stderr",
     "output_type": "stream",
     "text": [
      "\r",
      "160it [54:13, 20.44s/it]"
     ]
    },
    {
     "name": "stderr",
     "output_type": "stream",
     "text": [
      "\r",
      "161it [54:33, 20.49s/it]"
     ]
    },
    {
     "name": "stderr",
     "output_type": "stream",
     "text": [
      "\r",
      "162it [54:53, 20.41s/it]"
     ]
    },
    {
     "name": "stderr",
     "output_type": "stream",
     "text": [
      "\r",
      "163it [55:14, 20.36s/it]"
     ]
    },
    {
     "name": "stderr",
     "output_type": "stream",
     "text": [
      "\r",
      "164it [55:34, 20.32s/it]"
     ]
    },
    {
     "name": "stderr",
     "output_type": "stream",
     "text": [
      "\r",
      "165it [55:54, 20.33s/it]"
     ]
    },
    {
     "name": "stderr",
     "output_type": "stream",
     "text": [
      "\r",
      "166it [56:15, 20.40s/it]"
     ]
    },
    {
     "name": "stderr",
     "output_type": "stream",
     "text": [
      "\r",
      "167it [56:35, 20.37s/it]"
     ]
    },
    {
     "name": "stderr",
     "output_type": "stream",
     "text": [
      "\r",
      "168it [56:56, 20.55s/it]"
     ]
    },
    {
     "name": "stderr",
     "output_type": "stream",
     "text": [
      "\r",
      "169it [57:17, 20.51s/it]"
     ]
    },
    {
     "name": "stderr",
     "output_type": "stream",
     "text": [
      "\r",
      "170it [57:37, 20.48s/it]"
     ]
    },
    {
     "name": "stderr",
     "output_type": "stream",
     "text": [
      "\r",
      "171it [57:58, 20.61s/it]"
     ]
    },
    {
     "name": "stderr",
     "output_type": "stream",
     "text": [
      "\r",
      "172it [58:18, 20.54s/it]"
     ]
    },
    {
     "name": "stderr",
     "output_type": "stream",
     "text": [
      "\r",
      "173it [58:39, 20.56s/it]"
     ]
    },
    {
     "name": "stderr",
     "output_type": "stream",
     "text": [
      "\r",
      "174it [58:59, 20.49s/it]"
     ]
    },
    {
     "name": "stderr",
     "output_type": "stream",
     "text": [
      "\r",
      "175it [59:20, 20.45s/it]"
     ]
    },
    {
     "name": "stderr",
     "output_type": "stream",
     "text": [
      "\r",
      "176it [59:40, 20.49s/it]"
     ]
    },
    {
     "name": "stderr",
     "output_type": "stream",
     "text": [
      "\r",
      "177it [1:00:01, 20.56s/it]"
     ]
    },
    {
     "name": "stderr",
     "output_type": "stream",
     "text": [
      "\r",
      "178it [1:00:21, 20.50s/it]"
     ]
    },
    {
     "name": "stderr",
     "output_type": "stream",
     "text": [
      "\r",
      "179it [1:00:41, 20.42s/it]"
     ]
    },
    {
     "name": "stderr",
     "output_type": "stream",
     "text": [
      "\r",
      "180it [1:01:02, 20.39s/it]"
     ]
    },
    {
     "name": "stderr",
     "output_type": "stream",
     "text": [
      "\r",
      "181it [1:01:22, 20.45s/it]"
     ]
    },
    {
     "name": "stderr",
     "output_type": "stream",
     "text": [
      "\r",
      "182it [1:01:43, 20.40s/it]"
     ]
    },
    {
     "name": "stderr",
     "output_type": "stream",
     "text": [
      "\r",
      "183it [1:02:03, 20.36s/it]"
     ]
    },
    {
     "name": "stderr",
     "output_type": "stream",
     "text": [
      "\r",
      "184it [1:02:23, 20.34s/it]"
     ]
    },
    {
     "name": "stderr",
     "output_type": "stream",
     "text": [
      "\r",
      "185it [1:02:43, 20.32s/it]"
     ]
    },
    {
     "name": "stderr",
     "output_type": "stream",
     "text": [
      "\r",
      "186it [1:03:04, 20.39s/it]"
     ]
    },
    {
     "name": "stderr",
     "output_type": "stream",
     "text": [
      "\r",
      "187it [1:03:24, 20.36s/it]"
     ]
    },
    {
     "name": "stderr",
     "output_type": "stream",
     "text": [
      "\r",
      "188it [1:03:45, 20.45s/it]"
     ]
    },
    {
     "name": "stderr",
     "output_type": "stream",
     "text": [
      "\r",
      "189it [1:04:06, 20.51s/it]"
     ]
    },
    {
     "name": "stderr",
     "output_type": "stream",
     "text": [
      "\r",
      "190it [1:04:26, 20.46s/it]"
     ]
    },
    {
     "name": "stderr",
     "output_type": "stream",
     "text": [
      "\r",
      "191it [1:04:47, 20.61s/it]"
     ]
    },
    {
     "name": "stderr",
     "output_type": "stream",
     "text": [
      "\r",
      "192it [1:05:07, 20.59s/it]"
     ]
    },
    {
     "name": "stderr",
     "output_type": "stream",
     "text": [
      "\r",
      "193it [1:05:28, 20.50s/it]"
     ]
    },
    {
     "name": "stderr",
     "output_type": "stream",
     "text": [
      "\r",
      "194it [1:05:48, 20.44s/it]"
     ]
    },
    {
     "name": "stderr",
     "output_type": "stream",
     "text": [
      "\r",
      "195it [1:06:08, 20.40s/it]"
     ]
    },
    {
     "name": "stderr",
     "output_type": "stream",
     "text": [
      "\r",
      "196it [1:06:29, 20.37s/it]"
     ]
    },
    {
     "name": "stderr",
     "output_type": "stream",
     "text": [
      "\r",
      "197it [1:06:49, 20.34s/it]"
     ]
    },
    {
     "name": "stderr",
     "output_type": "stream",
     "text": [
      "\r",
      "198it [1:07:09, 20.34s/it]"
     ]
    },
    {
     "name": "stderr",
     "output_type": "stream",
     "text": [
      "\r",
      "199it [1:07:30, 20.41s/it]"
     ]
    },
    {
     "name": "stderr",
     "output_type": "stream",
     "text": [
      "\r",
      "200it [1:07:50, 20.37s/it]"
     ]
    },
    {
     "name": "stderr",
     "output_type": "stream",
     "text": [
      "\r",
      "201it [1:08:10, 20.36s/it]"
     ]
    },
    {
     "name": "stderr",
     "output_type": "stream",
     "text": [
      "\r",
      "202it [1:08:31, 20.34s/it]"
     ]
    },
    {
     "name": "stderr",
     "output_type": "stream",
     "text": [
      "\r",
      "203it [1:08:51, 20.41s/it]"
     ]
    },
    {
     "name": "stderr",
     "output_type": "stream",
     "text": [
      "\r",
      "204it [1:09:12, 20.49s/it]"
     ]
    },
    {
     "name": "stderr",
     "output_type": "stream",
     "text": [
      "\r",
      "205it [1:09:32, 20.44s/it]"
     ]
    },
    {
     "name": "stderr",
     "output_type": "stream",
     "text": [
      "\r",
      "206it [1:09:53, 20.41s/it]"
     ]
    },
    {
     "name": "stderr",
     "output_type": "stream",
     "text": [
      "\r",
      "207it [1:10:13, 20.46s/it]"
     ]
    },
    {
     "name": "stderr",
     "output_type": "stream",
     "text": [
      "\r",
      "208it [1:10:34, 20.42s/it]"
     ]
    },
    {
     "name": "stderr",
     "output_type": "stream",
     "text": [
      "\r",
      "209it [1:10:54, 20.39s/it]"
     ]
    },
    {
     "name": "stderr",
     "output_type": "stream",
     "text": [
      "\r",
      "210it [1:11:14, 20.45s/it]"
     ]
    },
    {
     "name": "stderr",
     "output_type": "stream",
     "text": [
      "\r",
      "211it [1:11:35, 20.46s/it]"
     ]
    },
    {
     "name": "stderr",
     "output_type": "stream",
     "text": [
      "\r",
      "212it [1:11:55, 20.49s/it]"
     ]
    },
    {
     "name": "stderr",
     "output_type": "stream",
     "text": [
      "\r",
      "213it [1:12:16, 20.49s/it]"
     ]
    },
    {
     "name": "stderr",
     "output_type": "stream",
     "text": [
      "\r",
      "214it [1:12:36, 20.41s/it]"
     ]
    },
    {
     "name": "stderr",
     "output_type": "stream",
     "text": [
      "\r",
      "215it [1:12:56, 20.37s/it]"
     ]
    },
    {
     "name": "stderr",
     "output_type": "stream",
     "text": [
      "\r",
      "216it [1:13:17, 20.35s/it]"
     ]
    },
    {
     "name": "stderr",
     "output_type": "stream",
     "text": [
      "\r",
      "217it [1:13:37, 20.33s/it]"
     ]
    },
    {
     "name": "stderr",
     "output_type": "stream",
     "text": [
      "\r",
      "218it [1:13:58, 20.42s/it]"
     ]
    },
    {
     "name": "stderr",
     "output_type": "stream",
     "text": [
      "\r",
      "219it [1:14:18, 20.41s/it]"
     ]
    },
    {
     "name": "stderr",
     "output_type": "stream",
     "text": [
      "\r",
      "220it [1:14:39, 20.46s/it]"
     ]
    },
    {
     "name": "stderr",
     "output_type": "stream",
     "text": [
      "\r",
      "221it [1:14:59, 20.42s/it]"
     ]
    },
    {
     "name": "stderr",
     "output_type": "stream",
     "text": [
      "\r",
      "222it [1:15:19, 20.38s/it]"
     ]
    },
    {
     "name": "stderr",
     "output_type": "stream",
     "text": [
      "\r",
      "223it [1:15:40, 20.35s/it]"
     ]
    },
    {
     "name": "stderr",
     "output_type": "stream",
     "text": [
      "\r",
      "224it [1:16:00, 20.33s/it]"
     ]
    },
    {
     "name": "stderr",
     "output_type": "stream",
     "text": [
      "\r",
      "225it [1:16:20, 20.33s/it]"
     ]
    },
    {
     "name": "stderr",
     "output_type": "stream",
     "text": [
      "\r",
      "226it [1:16:41, 20.33s/it]"
     ]
    },
    {
     "name": "stderr",
     "output_type": "stream",
     "text": [
      "\r",
      "227it [1:17:01, 20.33s/it]"
     ]
    },
    {
     "name": "stderr",
     "output_type": "stream",
     "text": [
      "\r",
      "228it [1:17:21, 20.32s/it]"
     ]
    },
    {
     "name": "stderr",
     "output_type": "stream",
     "text": [
      "\r",
      "229it [1:17:41, 20.32s/it]"
     ]
    },
    {
     "name": "stderr",
     "output_type": "stream",
     "text": [
      "\r",
      "230it [1:18:02, 20.32s/it]"
     ]
    },
    {
     "name": "stderr",
     "output_type": "stream",
     "text": [
      "\r",
      "231it [1:18:22, 20.31s/it]"
     ]
    },
    {
     "name": "stderr",
     "output_type": "stream",
     "text": [
      "\r",
      "232it [1:18:42, 20.30s/it]"
     ]
    },
    {
     "name": "stderr",
     "output_type": "stream",
     "text": [
      "\r",
      "233it [1:19:03, 20.31s/it]"
     ]
    },
    {
     "name": "stderr",
     "output_type": "stream",
     "text": [
      "\r",
      "234it [1:19:23, 20.32s/it]"
     ]
    },
    {
     "name": "stderr",
     "output_type": "stream",
     "text": [
      "\r",
      "235it [1:19:43, 20.32s/it]"
     ]
    },
    {
     "name": "stderr",
     "output_type": "stream",
     "text": [
      "\r",
      "236it [1:20:04, 20.32s/it]"
     ]
    },
    {
     "name": "stderr",
     "output_type": "stream",
     "text": [
      "\r",
      "237it [1:20:24, 20.31s/it]"
     ]
    },
    {
     "name": "stderr",
     "output_type": "stream",
     "text": [
      "\r",
      "238it [1:20:44, 20.30s/it]"
     ]
    },
    {
     "name": "stderr",
     "output_type": "stream",
     "text": [
      "\r",
      "239it [1:21:05, 20.29s/it]"
     ]
    },
    {
     "name": "stderr",
     "output_type": "stream",
     "text": [
      "\r",
      "240it [1:21:25, 20.29s/it]"
     ]
    },
    {
     "name": "stderr",
     "output_type": "stream",
     "text": [
      "\r",
      "241it [1:21:45, 20.36s/it]"
     ]
    },
    {
     "name": "stderr",
     "output_type": "stream",
     "text": [
      "\r",
      "242it [1:22:06, 20.34s/it]"
     ]
    },
    {
     "name": "stderr",
     "output_type": "stream",
     "text": [
      "\r",
      "243it [1:22:26, 20.33s/it]"
     ]
    },
    {
     "name": "stderr",
     "output_type": "stream",
     "text": [
      "\r",
      "244it [1:22:46, 20.31s/it]"
     ]
    },
    {
     "name": "stderr",
     "output_type": "stream",
     "text": [
      "\r",
      "245it [1:23:06, 20.31s/it]"
     ]
    },
    {
     "name": "stderr",
     "output_type": "stream",
     "text": [
      "\r",
      "246it [1:23:27, 20.31s/it]"
     ]
    },
    {
     "name": "stderr",
     "output_type": "stream",
     "text": [
      "\r",
      "247it [1:23:47, 20.31s/it]"
     ]
    },
    {
     "name": "stderr",
     "output_type": "stream",
     "text": [
      "\r",
      "248it [1:24:07, 20.31s/it]"
     ]
    },
    {
     "name": "stderr",
     "output_type": "stream",
     "text": [
      "\r",
      "249it [1:24:28, 20.30s/it]"
     ]
    },
    {
     "name": "stderr",
     "output_type": "stream",
     "text": [
      "\r",
      "250it [1:24:49, 20.48s/it]"
     ]
    },
    {
     "name": "stderr",
     "output_type": "stream",
     "text": [
      "\r",
      "251it [1:25:09, 20.43s/it]"
     ]
    },
    {
     "name": "stderr",
     "output_type": "stream",
     "text": [
      "\r",
      "252it [1:25:29, 20.38s/it]"
     ]
    },
    {
     "name": "stderr",
     "output_type": "stream",
     "text": [
      "\r",
      "253it [1:25:49, 20.34s/it]"
     ]
    },
    {
     "name": "stderr",
     "output_type": "stream",
     "text": [
      "\r",
      "254it [1:26:10, 20.32s/it]"
     ]
    },
    {
     "name": "stderr",
     "output_type": "stream",
     "text": [
      "\r",
      "255it [1:26:30, 20.30s/it]"
     ]
    },
    {
     "name": "stderr",
     "output_type": "stream",
     "text": [
      "\r",
      "256it [1:26:50, 20.29s/it]"
     ]
    },
    {
     "name": "stderr",
     "output_type": "stream",
     "text": [
      "\r",
      "257it [1:27:11, 20.30s/it]"
     ]
    },
    {
     "name": "stderr",
     "output_type": "stream",
     "text": [
      "\r",
      "258it [1:27:31, 20.41s/it]"
     ]
    },
    {
     "name": "stderr",
     "output_type": "stream",
     "text": [
      "\r",
      "259it [1:27:52, 20.37s/it]"
     ]
    },
    {
     "name": "stderr",
     "output_type": "stream",
     "text": [
      "\r",
      "260it [1:28:12, 20.36s/it]"
     ]
    },
    {
     "name": "stderr",
     "output_type": "stream",
     "text": [
      "\r",
      "261it [1:28:32, 20.33s/it]"
     ]
    },
    {
     "name": "stderr",
     "output_type": "stream",
     "text": [
      "\r",
      "262it [1:28:52, 20.31s/it]"
     ]
    },
    {
     "name": "stderr",
     "output_type": "stream",
     "text": [
      "\r",
      "263it [1:29:13, 20.30s/it]"
     ]
    },
    {
     "name": "stderr",
     "output_type": "stream",
     "text": [
      "\r",
      "264it [1:29:33, 20.29s/it]"
     ]
    },
    {
     "name": "stderr",
     "output_type": "stream",
     "text": [
      "\r",
      "265it [1:29:53, 20.29s/it]"
     ]
    },
    {
     "name": "stderr",
     "output_type": "stream",
     "text": [
      "\r",
      "266it [1:30:13, 20.28s/it]"
     ]
    },
    {
     "name": "stderr",
     "output_type": "stream",
     "text": [
      "\r",
      "267it [1:30:34, 20.27s/it]"
     ]
    },
    {
     "name": "stderr",
     "output_type": "stream",
     "text": [
      "\r",
      "268it [1:30:54, 20.33s/it]"
     ]
    },
    {
     "name": "stderr",
     "output_type": "stream",
     "text": [
      "\r",
      "269it [1:31:15, 20.38s/it]"
     ]
    },
    {
     "name": "stderr",
     "output_type": "stream",
     "text": [
      "\r",
      "270it [1:31:35, 20.41s/it]"
     ]
    },
    {
     "name": "stderr",
     "output_type": "stream",
     "text": [
      "\r",
      "271it [1:31:55, 20.37s/it]"
     ]
    },
    {
     "name": "stderr",
     "output_type": "stream",
     "text": [
      "\r",
      "272it [1:32:16, 20.35s/it]"
     ]
    },
    {
     "name": "stderr",
     "output_type": "stream",
     "text": [
      "\r",
      "273it [1:32:36, 20.38s/it]"
     ]
    },
    {
     "name": "stderr",
     "output_type": "stream",
     "text": [
      "\r",
      "274it [1:32:56, 20.34s/it]"
     ]
    },
    {
     "name": "stderr",
     "output_type": "stream",
     "text": [
      "\r",
      "275it [1:33:17, 20.51s/it]"
     ]
    },
    {
     "name": "stderr",
     "output_type": "stream",
     "text": [
      "\r",
      "276it [1:33:38, 20.45s/it]"
     ]
    },
    {
     "name": "stderr",
     "output_type": "stream",
     "text": [
      "\r",
      "277it [1:33:58, 20.49s/it]"
     ]
    },
    {
     "name": "stderr",
     "output_type": "stream",
     "text": [
      "\r",
      "278it [1:34:19, 20.44s/it]"
     ]
    },
    {
     "name": "stderr",
     "output_type": "stream",
     "text": [
      "\r",
      "279it [1:34:39, 20.39s/it]"
     ]
    },
    {
     "name": "stderr",
     "output_type": "stream",
     "text": [
      "\r",
      "280it [1:34:59, 20.41s/it]"
     ]
    },
    {
     "name": "stderr",
     "output_type": "stream",
     "text": [
      "\r",
      "281it [1:35:20, 20.46s/it]"
     ]
    },
    {
     "name": "stderr",
     "output_type": "stream",
     "text": [
      "\r",
      "282it [1:35:40, 20.40s/it]"
     ]
    },
    {
     "name": "stderr",
     "output_type": "stream",
     "text": [
      "\r",
      "283it [1:36:00, 20.35s/it]"
     ]
    },
    {
     "name": "stderr",
     "output_type": "stream",
     "text": [
      "\r",
      "284it [1:36:21, 20.39s/it]"
     ]
    },
    {
     "name": "stderr",
     "output_type": "stream",
     "text": [
      "\r",
      "285it [1:36:41, 20.35s/it]"
     ]
    },
    {
     "name": "stderr",
     "output_type": "stream",
     "text": [
      "\r",
      "286it [1:37:01, 20.33s/it]"
     ]
    },
    {
     "name": "stderr",
     "output_type": "stream",
     "text": [
      "\r",
      "287it [1:37:22, 20.32s/it]"
     ]
    },
    {
     "name": "stderr",
     "output_type": "stream",
     "text": [
      "\r",
      "288it [1:37:42, 20.31s/it]"
     ]
    },
    {
     "name": "stderr",
     "output_type": "stream",
     "text": [
      "\r",
      "289it [1:38:02, 20.31s/it]"
     ]
    },
    {
     "name": "stderr",
     "output_type": "stream",
     "text": [
      "\r",
      "290it [1:38:23, 20.30s/it]"
     ]
    },
    {
     "name": "stderr",
     "output_type": "stream",
     "text": [
      "\r",
      "291it [1:38:43, 20.36s/it]"
     ]
    },
    {
     "name": "stderr",
     "output_type": "stream",
     "text": [
      "\r",
      "292it [1:39:03, 20.33s/it]"
     ]
    },
    {
     "name": "stderr",
     "output_type": "stream",
     "text": [
      "\r",
      "293it [1:39:24, 20.31s/it]"
     ]
    },
    {
     "name": "stderr",
     "output_type": "stream",
     "text": [
      "\r",
      "294it [1:39:44, 20.30s/it]"
     ]
    },
    {
     "name": "stderr",
     "output_type": "stream",
     "text": [
      "\r",
      "295it [1:40:04, 20.29s/it]"
     ]
    },
    {
     "name": "stderr",
     "output_type": "stream",
     "text": [
      "\r",
      "296it [1:40:24, 20.29s/it]"
     ]
    },
    {
     "name": "stderr",
     "output_type": "stream",
     "text": [
      "\r",
      "297it [1:40:45, 20.28s/it]"
     ]
    },
    {
     "name": "stderr",
     "output_type": "stream",
     "text": [
      "\r",
      "298it [1:41:05, 20.28s/it]"
     ]
    },
    {
     "name": "stderr",
     "output_type": "stream",
     "text": [
      "\r",
      "299it [1:41:25, 20.34s/it]"
     ]
    },
    {
     "name": "stderr",
     "output_type": "stream",
     "text": [
      "\r",
      "300it [1:41:46, 20.50s/it]"
     ]
    },
    {
     "name": "stderr",
     "output_type": "stream",
     "text": [
      "\r",
      "300it [1:42:07, 20.42s/it]"
     ]
    },
    {
     "name": "stderr",
     "output_type": "stream",
     "text": [
      "\n"
     ]
    }
   ],
   "source": [
    "import torch\n",
    "\n",
    "extra = torch.tensor((2, 64, 64))\n",
    "train_dataset = iterable_dataset(\n",
    "    datasets={\"raw\": raw_train, \"gt\": labels_train},\n",
    "    shapes={\n",
    "        \"raw\": unet.min_input_shape + extra,\n",
    "        \"gt\": unet.min_output_shape + extra,\n",
    "    },\n",
    "    transforms={\n",
    "        \"raw\": torchvision.transforms.Lambda(lambda x: x[None].float() / 255.0),\n",
    "        (\"gt\", \"affs\"): Affs(neighborhood=neighborhood, concat_dim=0),\n",
    "        (\"gt\", \"affs_mask\"): AffsMask(neighborhood=neighborhood),\n",
    "        ((\"affs\", \"affs_mask\"), \"weights\"): BalanceLabels((1, -1, -1, -1)),\n",
    "    },\n",
    "    deform_augment_config=DeformAugmentConfig(\n",
    "        p=0.1,\n",
    "        control_point_spacing=(2, 10, 10),\n",
    "        jitter_sigma=(0.5, 2, 2),\n",
    "        rotate=True,\n",
    "        subsample=4,\n",
    "        rotation_axes=(1, 2),\n",
    "        scale_interval=(1.0, 1.0),\n",
    "    ),\n",
    "    simple_augment_config=SimpleAugmentConfig(\n",
    "        p=1.0,\n",
    "        mirror_only=(1, 2),\n",
    "        transpose_only=(1, 2),\n",
    "    ),\n",
    ")\n",
    "\n",
    "loss_func = torch.nn.BCELoss(reduction=\"none\")\n",
    "optimizer = torch.optim.Adam(module.parameters(), lr=1e-4)\n",
    "dataloader = torch.utils.data.DataLoader(\n",
    "    train_dataset,\n",
    "    batch_size=3,\n",
    "    num_workers=4,\n",
    ")\n",
    "losses = []\n",
    "\n",
    "for iteration, batch in tqdm(enumerate(iter(dataloader))):\n",
    "    raw, target, weight = (\n",
    "        batch[\"raw\"].to(device),\n",
    "        batch[\"affs\"].to(device),\n",
    "        batch[\"weights\"].to(device),\n",
    "    )\n",
    "    optimizer.zero_grad()\n",
    "\n",
    "    output = module(raw)\n",
    "\n",
    "    voxel_loss = loss_func(output, target.float())\n",
    "    loss = (voxel_loss * weight).mean()\n",
    "    loss.backward()\n",
    "    optimizer.step()\n",
    "\n",
    "    losses.append(loss.item())\n",
    "\n",
    "    if iteration >= NUM_ITERATIONS:\n",
    "        break"
   ]
  },
  {
   "cell_type": "code",
   "execution_count": 12,
   "id": "736de7fd",
   "metadata": {
    "execution": {
     "iopub.execute_input": "2025-09-12T21:57:24.369735Z",
     "iopub.status.busy": "2025-09-12T21:57:24.369574Z",
     "iopub.status.idle": "2025-09-12T21:57:24.509396Z",
     "shell.execute_reply": "2025-09-12T21:57:24.508965Z"
    }
   },
   "outputs": [
    {
     "data": {
      "image/png": "[encoded data removed]",
      "text/plain": [
       "<Figure size 640x480 with 1 Axes>"
      ]
     },
     "metadata": {},
     "output_type": "display_data"
    }
   ],
   "source": [
    "import matplotlib.pyplot as plt\n",
    "from funlib.geometry import Coordinate\n",
    "\n",
    "plt.plot(losses)\n",
    "plt.xlabel(\"Iteration\")\n",
    "plt.ylabel(\"Loss\")\n",
    "plt.title(\"Loss Curve\")\n",
    "plt.savefig(\"_static/cremi/affs-loss-curve.png\")\n",
    "plt.show()\n",
    "plt.close()"
   ]
  },
  {
   "cell_type": "code",
   "execution_count": 13,
   "id": "646982e2",
   "metadata": {
    "execution": {
     "iopub.execute_input": "2025-09-12T21:57:24.510767Z",
     "iopub.status.busy": "2025-09-12T21:57:24.510626Z",
     "iopub.status.idle": "2025-09-12T21:57:24.515429Z",
     "shell.execute_reply": "2025-09-12T21:57:24.515037Z"
    }
   },
   "outputs": [],
   "source": [
    "import mwatershed as mws\n",
    "from funlib.geometry import Roi\n",
    "import numpy as np\n",
    "\n",
    "module = module.eval()\n",
    "unet = unet.eval()\n",
    "context = Coordinate(unet.context // 2) * raw_test.voxel_size"
   ]
  },
  {
   "cell_type": "code",
   "execution_count": 14,
   "id": "e2829f3a",
   "metadata": {
    "execution": {
     "iopub.execute_input": "2025-09-12T21:57:24.516728Z",
     "iopub.status.busy": "2025-09-12T21:57:24.516584Z",
     "iopub.status.idle": "2025-09-12T21:59:30.388107Z",
     "shell.execute_reply": "2025-09-12T21:59:30.387552Z"
    },
    "lines_to_next_cell": 0
   },
   "outputs": [],
   "source": [
    "raw_input = raw_test.to_ndarray(small_eval_roi.grow(context, context))\n",
    "raw_output = raw_test.to_ndarray(small_eval_roi)\n",
    "gt = labels_test.to_ndarray(small_eval_roi)\n",
    "\n",
    "# Predict on the validation data\n",
    "with torch.no_grad():\n",
    "    device = torch.device(\"cpu\")\n",
    "    module = module.to(device)\n",
    "    pred = (\n",
    "        module(\n",
    "            (torch.from_numpy(raw_input).float() / 255.0)\n",
    "            .to(device)\n",
    "            .unsqueeze(0)\n",
    "            .unsqueeze(0)\n",
    "        )\n",
    "        .cpu()\n",
    "        .detach()\n",
    "        .numpy()\n",
    "    )\n",
    "pred_labels = mws.agglom(pred[0].astype(np.float64) - 0.5, offsets=neighborhood)"
   ]
  },
  {
   "cell_type": "code",
   "execution_count": 15,
   "id": "9f22132a",
   "metadata": {
    "execution": {
     "iopub.execute_input": "2025-09-12T21:59:30.390587Z",
     "iopub.status.busy": "2025-09-12T21:59:30.390411Z",
     "iopub.status.idle": "2025-09-12T21:59:56.635756Z",
     "shell.execute_reply": "2025-09-12T21:59:56.635161Z"
    }
   },
   "outputs": [],
   "source": [
    "# Plot the results\n",
    "gif_2d(\n",
    "    arrays={\n",
    "        \"Raw\": Array(raw_output, voxel_size=raw_test.voxel_size),\n",
    "        \"GT\": Array(gt % 256, voxel_size=raw_test.voxel_size),\n",
    "        \"Pred Affs\": Array(pred[0][[0, 3, 4]], voxel_size=raw_test.voxel_size),\n",
    "        \"Pred\": Array(pred_labels % 256, voxel_size=raw_test.voxel_size),\n",
    "    },\n",
    "    array_types={\n",
    "        \"Raw\": \"raw\",\n",
    "        \"GT\": \"labels\",\n",
    "        \"Pred Affs\": \"affs\",\n",
    "        \"Pred\": \"labels\",\n",
    "    },\n",
    "    filename=\"_static/cremi/affs-prediction.gif\",\n",
    "    title=\"Prediction\",\n",
    "    fps=10,\n",
    ")\n",
    "cube(\n",
    "    arrays={\n",
    "        \"Raw\": Array(raw_output, voxel_size=raw_test.voxel_size),\n",
    "        \"GT\": Array(gt, voxel_size=raw_test.voxel_size),\n",
    "        \"Pred Affs\": Array(pred[0][[0, 3, 4]], voxel_size=raw_test.voxel_size),\n",
    "        \"Pred\": Array(pred_labels, voxel_size=raw_test.voxel_size),\n",
    "    },\n",
    "    array_types={\n",
    "        \"Raw\": \"raw\",\n",
    "        \"GT\": \"labels\",\n",
    "        \"Pred Affs\": \"affs\",\n",
    "        \"Pred\": \"labels\",\n",
    "    },\n",
    "    filename=\"_static/cremi/affs-prediction.jpg\",\n",
    "    title=\"Prediction\",\n",
    ")"
   ]
  },
  {
   "cell_type": "markdown",
   "id": "dc58def8",
   "metadata": {},
   "source": [
    "Here we visualize the prediction results:\n",
    "![affs-prediction](_static/cremi/affs-prediction.gif)\n",
    "![affs-prediction-cube](_static/cremi/affs-prediction.jpg)"
   ]
  },
  {
   "cell_type": "markdown",
   "id": "9ef6e032",
   "metadata": {},
   "source": [
    "## Blockwise Processing\n",
    "Now that we have a trained model, we can use it to process the full volume.\n",
    "We will use the `volara` library to do this. It provides a simple interface\n",
    "for blockwise processing of large volumes. We will use the `volara_torch`\n",
    "module to wrap our trained model and use it in a blockwise pipeline."
   ]
  },
  {
   "cell_type": "code",
   "execution_count": 16,
   "id": "cd43fe8a",
   "metadata": {
    "execution": {
     "iopub.execute_input": "2025-09-12T21:59:56.637659Z",
     "iopub.status.busy": "2025-09-12T21:59:56.637467Z",
     "iopub.status.idle": "2025-09-12T22:20:26.359804Z",
     "shell.execute_reply": "2025-09-12T22:20:26.359032Z"
    }
   },
   "outputs": [
    {
     "name": "stderr",
     "output_type": "stream",
     "text": [
      "INFO:root:Running block with config volara_logs/affs-predict-meta/config.json...\n"
     ]
    },
    {
     "name": "stderr",
     "output_type": "stream",
     "text": [
      "INFO:funlib.persistence.graphs.sqlite_graph_database:dropping collections nodes, edges\n"
     ]
    },
    {
     "name": "stdout",
     "output_type": "stream",
     "text": [
      "/tmp/tmpv7zodtyj/lut.npz\n"
     ]
    },
    {
     "name": "stderr",
     "output_type": "stream",
     "text": [
      "\r",
      "affs-predict ▶:   0%|          | 0/9 [00:00<?, ?blocks/s]"
     ]
    },
    {
     "name": "stderr",
     "output_type": "stream",
     "text": [
      "\r",
      "affs-predict ▶:   0%|          | 0/9 [00:00<?, ?blocks/s, ⧗=0, ▶=1, ✔=0, ✗=0, ∅=0]"
     ]
    },
    {
     "name": "stderr",
     "output_type": "stream",
     "text": [
      "\r",
      "affs-predict ▶:   0%|          | 0/9 [02:09<?, ?blocks/s, ⧗=0, ▶=0, ✔=1, ✗=0, ∅=0]"
     ]
    },
    {
     "name": "stderr",
     "output_type": "stream",
     "text": [
      "\r",
      "affs-predict ▶:  11%|█         | 1/9 [02:09<17:12, 129.11s/blocks, ⧗=0, ▶=0, ✔=1, ✗=0, ∅=0]"
     ]
    },
    {
     "name": "stderr",
     "output_type": "stream",
     "text": [
      "\r",
      "affs-predict ▶:  11%|█         | 1/9 [02:09<17:12, 129.11s/blocks, ⧗=0, ▶=1, ✔=1, ✗=0, ∅=0]"
     ]
    },
    {
     "name": "stderr",
     "output_type": "stream",
     "text": [
      "\r",
      "affs-predict ▶:  11%|█         | 1/9 [04:18<17:12, 129.11s/blocks, ⧗=0, ▶=0, ✔=2, ✗=0, ∅=0]"
     ]
    },
    {
     "name": "stderr",
     "output_type": "stream",
     "text": [
      "\r",
      "affs-predict ▶:  22%|██▏       | 2/9 [04:18<15:03, 129.03s/blocks, ⧗=0, ▶=0, ✔=2, ✗=0, ∅=0]"
     ]
    },
    {
     "name": "stderr",
     "output_type": "stream",
     "text": [
      "\r",
      "affs-predict ▶:  22%|██▏       | 2/9 [04:18<15:03, 129.03s/blocks, ⧗=0, ▶=1, ✔=2, ✗=0, ∅=0]"
     ]
    },
    {
     "name": "stderr",
     "output_type": "stream",
     "text": [
      "\r",
      "affs-predict ▶:  22%|██▏       | 2/9 [06:26<15:03, 129.03s/blocks, ⧗=0, ▶=0, ✔=3, ✗=0, ∅=0]"
     ]
    },
    {
     "name": "stderr",
     "output_type": "stream",
     "text": [
      "\r",
      "affs-predict ▶:  33%|███▎      | 3/9 [06:26<12:53, 128.85s/blocks, ⧗=0, ▶=0, ✔=3, ✗=0, ∅=0]"
     ]
    },
    {
     "name": "stderr",
     "output_type": "stream",
     "text": [
      "\r",
      "affs-predict ▶:  33%|███▎      | 3/9 [06:26<12:53, 128.85s/blocks, ⧗=0, ▶=1, ✔=3, ✗=0, ∅=0]"
     ]
    },
    {
     "name": "stderr",
     "output_type": "stream",
     "text": [
      "\r",
      "affs-predict ▶:  33%|███▎      | 3/9 [08:35<12:53, 128.85s/blocks, ⧗=0, ▶=0, ✔=4, ✗=0, ∅=0]"
     ]
    },
    {
     "name": "stderr",
     "output_type": "stream",
     "text": [
      "\r",
      "affs-predict ▶:  44%|████▍     | 4/9 [08:35<10:43, 128.70s/blocks, ⧗=0, ▶=0, ✔=4, ✗=0, ∅=0]"
     ]
    },
    {
     "name": "stderr",
     "output_type": "stream",
     "text": [
      "\r",
      "affs-predict ▶:  44%|████▍     | 4/9 [08:35<10:43, 128.70s/blocks, ⧗=0, ▶=1, ✔=4, ✗=0, ∅=0]"
     ]
    },
    {
     "name": "stderr",
     "output_type": "stream",
     "text": [
      "\r",
      "affs-predict ▶:  44%|████▍     | 4/9 [10:43<10:43, 128.70s/blocks, ⧗=0, ▶=0, ✔=5, ✗=0, ∅=0]"
     ]
    },
    {
     "name": "stderr",
     "output_type": "stream",
     "text": [
      "\r",
      "affs-predict ▶:  56%|█████▌    | 5/9 [10:43<08:34, 128.66s/blocks, ⧗=0, ▶=0, ✔=5, ✗=0, ∅=0]"
     ]
    },
    {
     "name": "stderr",
     "output_type": "stream",
     "text": [
      "\r",
      "affs-predict ▶:  56%|█████▌    | 5/9 [10:43<08:34, 128.66s/blocks, ⧗=0, ▶=1, ✔=5, ✗=0, ∅=0]"
     ]
    },
    {
     "name": "stderr",
     "output_type": "stream",
     "text": [
      "INFO:volara.blockwise.blockwise:getting block\n"
     ]
    },
    {
     "name": "stderr",
     "output_type": "stream",
     "text": [
      "\n"
     ]
    },
    {
     "name": "stderr",
     "output_type": "stream",
     "text": [
      "\r",
      "frags-extract-frags ▶:   0%|          | 0/9 [00:00<?, ?blocks/s]"
     ]
    },
    {
     "name": "stderr",
     "output_type": "stream",
     "text": [
      "\u001b[A"
     ]
    },
    {
     "name": "stderr",
     "output_type": "stream",
     "text": [
      "\n"
     ]
    },
    {
     "name": "stderr",
     "output_type": "stream",
     "text": [
      "INFO:volara.blockwise.blockwise:got block frags-extract-frags/0 with read ROI [1760:3200, 652:2076, 652:2076] (1440, 1424, 1424) and write ROI [1840:3120, 836:1892, 836:1892] (1280, 1056, 1056)\n"
     ]
    },
    {
     "name": "stderr",
     "output_type": "stream",
     "text": [
      "\r",
      "frags-extract-frags ▶:   0%|          | 0/9 [00:00<?, ?blocks/s, ⧗=8, ▶=1, ✔=0, ✗=0, ∅=0]"
     ]
    },
    {
     "name": "stderr",
     "output_type": "stream",
     "text": [
      "\u001b[A"
     ]
    },
    {
     "name": "stderr",
     "output_type": "stream",
     "text": [
      "INFO:volara.blockwise.blockwise:getting block\n"
     ]
    },
    {
     "name": "stderr",
     "output_type": "stream",
     "text": [
      "INFO:volara.blockwise.blockwise:getting block\n"
     ]
    },
    {
     "name": "stderr",
     "output_type": "stream",
     "text": [
      "INFO:/home/runner/work/dacapo-toolbox/dacapo-toolbox/.venv/lib/python3.11/site-packages/volara/blockwise/extract_frags.py:Found 1363 fragments\n"
     ]
    },
    {
     "name": "stderr",
     "output_type": "stream",
     "text": [
      "INFO:volara.blockwise.blockwise:getting block\n"
     ]
    },
    {
     "name": "stderr",
     "output_type": "stream",
     "text": [
      "\n"
     ]
    },
    {
     "name": "stderr",
     "output_type": "stream",
     "text": [
      "\r",
      "frags-extract-frags ▶:   0%|          | 0/9 [00:08<?, ?blocks/s, ⧗=8, ▶=0, ✔=1, ✗=0, ∅=0]"
     ]
    },
    {
     "name": "stderr",
     "output_type": "stream",
     "text": [
      "\u001b[A"
     ]
    },
    {
     "name": "stderr",
     "output_type": "stream",
     "text": [
      "\n"
     ]
    },
    {
     "name": "stderr",
     "output_type": "stream",
     "text": [
      "\r",
      "frags-extract-frags ▶:  11%|█         | 1/9 [00:08<01:04,  8.05s/blocks, ⧗=8, ▶=0, ✔=1, ✗=0, ∅=0]"
     ]
    },
    {
     "name": "stderr",
     "output_type": "stream",
     "text": [
      "\u001b[A"
     ]
    },
    {
     "name": "stderr",
     "output_type": "stream",
     "text": [
      "\r",
      "affs-predict ▶:  56%|█████▌    | 5/9 [12:55<08:34, 128.66s/blocks, ⧗=0, ▶=0, ✔=6, ✗=0, ∅=0]"
     ]
    },
    {
     "name": "stderr",
     "output_type": "stream",
     "text": [
      "\r",
      "affs-predict ▶:  67%|██████▋   | 6/9 [12:55<06:29, 129.80s/blocks, ⧗=0, ▶=0, ✔=6, ✗=0, ∅=0]"
     ]
    },
    {
     "name": "stderr",
     "output_type": "stream",
     "text": [
      "\r",
      "affs-predict ▶:  67%|██████▋   | 6/9 [12:55<06:29, 129.80s/blocks, ⧗=0, ▶=1, ✔=6, ✗=0, ∅=0]"
     ]
    },
    {
     "name": "stderr",
     "output_type": "stream",
     "text": [
      "\n"
     ]
    },
    {
     "name": "stderr",
     "output_type": "stream",
     "text": [
      "\r",
      "frags-extract-frags ▶:  11%|█         | 1/9 [02:12<01:04,  8.05s/blocks, ⧗=6, ▶=1, ✔=1, ✗=0, ∅=0]"
     ]
    },
    {
     "name": "stderr",
     "output_type": "stream",
     "text": [
      "\u001b[A"
     ]
    },
    {
     "name": "stderr",
     "output_type": "stream",
     "text": [
      "INFO:volara.blockwise.blockwise:got block frags-extract-frags/1 with read ROI [1760:3200, 652:2076, 1708:3132] (1440, 1424, 1424) and write ROI [1840:3120, 836:1892, 1892:2948] (1280, 1056, 1056)\n"
     ]
    },
    {
     "name": "stderr",
     "output_type": "stream",
     "text": [
      "\n"
     ]
    },
    {
     "name": "stderr",
     "output_type": "stream",
     "text": [
      "\r",
      "frags-extract-frags ▶:  11%|█         | 1/9 [02:12<01:04,  8.05s/blocks, ⧗=6, ▶=2, ✔=1, ✗=0, ∅=0]"
     ]
    },
    {
     "name": "stderr",
     "output_type": "stream",
     "text": [
      "INFO:volara.blockwise.blockwise:got block frags-extract-frags/4 with read ROI [1760:3200, 652:2076, 2764:4092] (1440, 1424, 1328) and write ROI [1840:3120, 836:1892, 2948:3908] (1280, 1056, 960)\n"
     ]
    },
    {
     "name": "stderr",
     "output_type": "stream",
     "text": [
      "\u001b[A"
     ]
    },
    {
     "name": "stderr",
     "output_type": "stream",
     "text": [
      "INFO:/home/runner/work/dacapo-toolbox/dacapo-toolbox/.venv/lib/python3.11/site-packages/volara/blockwise/extract_frags.py:Found 1285 fragments\n"
     ]
    },
    {
     "name": "stderr",
     "output_type": "stream",
     "text": [
      "INFO:volara.blockwise.blockwise:getting block\n"
     ]
    },
    {
     "name": "stderr",
     "output_type": "stream",
     "text": [
      "\n"
     ]
    },
    {
     "name": "stderr",
     "output_type": "stream",
     "text": [
      "\r",
      "frags-extract-frags ▶:  11%|█         | 1/9 [02:25<01:04,  8.05s/blocks, ⧗=6, ▶=1, ✔=2, ✗=0, ∅=0]"
     ]
    },
    {
     "name": "stderr",
     "output_type": "stream",
     "text": [
      "\u001b[A"
     ]
    },
    {
     "name": "stderr",
     "output_type": "stream",
     "text": [
      "\n"
     ]
    },
    {
     "name": "stderr",
     "output_type": "stream",
     "text": [
      "\r",
      "frags-extract-frags ▶:  22%|██▏       | 2/9 [02:25<09:47, 83.96s/blocks, ⧗=6, ▶=1, ✔=2, ✗=0, ∅=0]"
     ]
    },
    {
     "name": "stderr",
     "output_type": "stream",
     "text": [
      "\u001b[A"
     ]
    },
    {
     "name": "stderr",
     "output_type": "stream",
     "text": [
      "INFO:/home/runner/work/dacapo-toolbox/dacapo-toolbox/.venv/lib/python3.11/site-packages/volara/blockwise/extract_frags.py:Found 1459 fragments\n"
     ]
    },
    {
     "name": "stderr",
     "output_type": "stream",
     "text": [
      "INFO:volara.blockwise.blockwise:getting block\n"
     ]
    },
    {
     "name": "stderr",
     "output_type": "stream",
     "text": [
      "\n"
     ]
    },
    {
     "name": "stderr",
     "output_type": "stream",
     "text": [
      "\r",
      "frags-extract-frags ▶:  22%|██▏       | 2/9 [02:26<09:47, 83.96s/blocks, ⧗=6, ▶=0, ✔=3, ✗=0, ∅=0]"
     ]
    },
    {
     "name": "stderr",
     "output_type": "stream",
     "text": [
      "\u001b[A"
     ]
    },
    {
     "name": "stderr",
     "output_type": "stream",
     "text": [
      "\n"
     ]
    },
    {
     "name": "stderr",
     "output_type": "stream",
     "text": [
      "\r",
      "frags-extract-frags ▶:  33%|███▎      | 3/9 [02:26<04:36, 46.01s/blocks, ⧗=6, ▶=0, ✔=3, ✗=0, ∅=0]"
     ]
    },
    {
     "name": "stderr",
     "output_type": "stream",
     "text": [
      "\u001b[A"
     ]
    },
    {
     "name": "stderr",
     "output_type": "stream",
     "text": [
      "\r",
      "affs-predict ▶:  67%|██████▋   | 6/9 [15:10<06:29, 129.80s/blocks, ⧗=0, ▶=0, ✔=7, ✗=0, ∅=0]"
     ]
    },
    {
     "name": "stderr",
     "output_type": "stream",
     "text": [
      "\r",
      "affs-predict ▶:  78%|███████▊  | 7/9 [15:10<04:22, 131.25s/blocks, ⧗=0, ▶=0, ✔=7, ✗=0, ∅=0]"
     ]
    },
    {
     "name": "stderr",
     "output_type": "stream",
     "text": [
      "\r",
      "affs-predict ▶:  78%|███████▊  | 7/9 [15:10<04:22, 131.25s/blocks, ⧗=0, ▶=1, ✔=7, ✗=0, ∅=0]"
     ]
    },
    {
     "name": "stderr",
     "output_type": "stream",
     "text": [
      "\r",
      "affs-predict ▶:  78%|███████▊  | 7/9 [17:18<04:22, 131.25s/blocks, ⧗=0, ▶=0, ✔=8, ✗=0, ∅=0]"
     ]
    },
    {
     "name": "stderr",
     "output_type": "stream",
     "text": [
      "\r",
      "affs-predict ▶:  89%|████████▉ | 8/9 [17:18<02:10, 130.34s/blocks, ⧗=0, ▶=0, ✔=8, ✗=0, ∅=0]"
     ]
    },
    {
     "name": "stderr",
     "output_type": "stream",
     "text": [
      "\r",
      "affs-predict ▶:  89%|████████▉ | 8/9 [17:18<02:10, 130.34s/blocks, ⧗=0, ▶=1, ✔=8, ✗=0, ∅=0]"
     ]
    },
    {
     "name": "stderr",
     "output_type": "stream",
     "text": [
      "\n"
     ]
    },
    {
     "name": "stderr",
     "output_type": "stream",
     "text": [
      "\r",
      "frags-extract-frags ▶:  33%|███▎      | 3/9 [06:34<04:36, 46.01s/blocks, ⧗=4, ▶=1, ✔=3, ✗=0, ∅=0]"
     ]
    },
    {
     "name": "stderr",
     "output_type": "stream",
     "text": [
      "INFO:volara.blockwise.blockwise:got block frags-extract-frags/2 with read ROI [1760:3200, 1708:3132, 652:2076] (1440, 1424, 1424) and write ROI [1840:3120, 1892:2948, 836:1892] (1280, 1056, 1056)\n"
     ]
    },
    {
     "name": "stderr",
     "output_type": "stream",
     "text": [
      "\u001b[A"
     ]
    },
    {
     "name": "stderr",
     "output_type": "stream",
     "text": [
      "\n"
     ]
    },
    {
     "name": "stderr",
     "output_type": "stream",
     "text": [
      "\r",
      "frags-extract-frags ▶:  33%|███▎      | 3/9 [06:34<04:36, 46.01s/blocks, ⧗=4, ▶=2, ✔=3, ✗=0, ∅=0]"
     ]
    },
    {
     "name": "stderr",
     "output_type": "stream",
     "text": [
      "\u001b[A"
     ]
    },
    {
     "name": "stderr",
     "output_type": "stream",
     "text": [
      "INFO:volara.blockwise.blockwise:got block frags-extract-frags/7 with read ROI [1760:3200, 2764:4092, 652:2076] (1440, 1328, 1424) and write ROI [1840:3120, 2948:3908, 836:1892] (1280, 960, 1056)\n"
     ]
    },
    {
     "name": "stderr",
     "output_type": "stream",
     "text": [
      "INFO:/home/runner/work/dacapo-toolbox/dacapo-toolbox/.venv/lib/python3.11/site-packages/volara/blockwise/extract_frags.py:Found 1544 fragments\n"
     ]
    },
    {
     "name": "stderr",
     "output_type": "stream",
     "text": [
      "INFO:/home/runner/work/dacapo-toolbox/dacapo-toolbox/.venv/lib/python3.11/site-packages/volara/blockwise/extract_frags.py:Found 1582 fragments\n"
     ]
    },
    {
     "name": "stderr",
     "output_type": "stream",
     "text": [
      "INFO:volara.blockwise.blockwise:getting block\n"
     ]
    },
    {
     "name": "stderr",
     "output_type": "stream",
     "text": [
      "\n"
     ]
    },
    {
     "name": "stderr",
     "output_type": "stream",
     "text": [
      "\r",
      "frags-extract-frags ▶:  33%|███▎      | 3/9 [06:47<04:36, 46.01s/blocks, ⧗=4, ▶=1, ✔=4, ✗=0, ∅=0]"
     ]
    },
    {
     "name": "stderr",
     "output_type": "stream",
     "text": [
      "\u001b[A"
     ]
    },
    {
     "name": "stderr",
     "output_type": "stream",
     "text": [
      "\n"
     ]
    },
    {
     "name": "stderr",
     "output_type": "stream",
     "text": [
      "\r",
      "frags-extract-frags ▶:  44%|████▍     | 4/9 [06:47<10:56, 131.23s/blocks, ⧗=4, ▶=1, ✔=4, ✗=0, ∅=0]"
     ]
    },
    {
     "name": "stderr",
     "output_type": "stream",
     "text": [
      "\u001b[A"
     ]
    },
    {
     "name": "stderr",
     "output_type": "stream",
     "text": [
      "INFO:volara.blockwise.blockwise:getting block\n"
     ]
    },
    {
     "name": "stderr",
     "output_type": "stream",
     "text": [
      "\n"
     ]
    },
    {
     "name": "stderr",
     "output_type": "stream",
     "text": [
      "\r",
      "frags-extract-frags ▶:  44%|████▍     | 4/9 [06:48<10:56, 131.23s/blocks, ⧗=4, ▶=0, ✔=5, ✗=0, ∅=0]"
     ]
    },
    {
     "name": "stderr",
     "output_type": "stream",
     "text": [
      "\u001b[A"
     ]
    },
    {
     "name": "stderr",
     "output_type": "stream",
     "text": [
      "\n"
     ]
    },
    {
     "name": "stderr",
     "output_type": "stream",
     "text": [
      "\r",
      "frags-extract-frags ▶:  56%|█████▌    | 5/9 [06:48<05:36, 84.24s/blocks, ⧗=4, ▶=0, ✔=5, ✗=0, ∅=0] "
     ]
    },
    {
     "name": "stderr",
     "output_type": "stream",
     "text": [
      "\u001b[A"
     ]
    },
    {
     "name": "stderr",
     "output_type": "stream",
     "text": [
      "\r",
      "affs-predict ▶:  89%|████████▉ | 8/9 [19:29<02:10, 130.34s/blocks, ⧗=0, ▶=0, ✔=9, ✗=0, ∅=0]"
     ]
    },
    {
     "name": "stderr",
     "output_type": "stream",
     "text": [
      "\r",
      "affs-predict ▶: 100%|██████████| 9/9 [19:29<00:00, 130.45s/blocks, ⧗=0, ▶=0, ✔=9, ✗=0, ∅=0]"
     ]
    },
    {
     "name": "stderr",
     "output_type": "stream",
     "text": [
      "\r",
      "affs-predict ✔: 100%|██████████| 9/9 [19:29<00:00, 130.45s/blocks, ⧗=0, ▶=0, ✔=9, ✗=0, ∅=0]"
     ]
    },
    {
     "name": "stderr",
     "output_type": "stream",
     "text": [
      "\r",
      "affs-predict ✔: 100%|██████████| 9/9 [19:29<00:00, 129.90s/blocks, ⧗=0, ▶=0, ✔=9, ✗=0, ∅=0]"
     ]
    },
    {
     "name": "stderr",
     "output_type": "stream",
     "text": [
      "\n",
      "\n"
     ]
    },
    {
     "name": "stderr",
     "output_type": "stream",
     "text": [
      "\r",
      "frags-extract-frags ▶:  56%|█████▌    | 5/9 [08:45<05:36, 84.24s/blocks, ⧗=0, ▶=1, ✔=5, ✗=0, ∅=0]"
     ]
    },
    {
     "name": "stderr",
     "output_type": "stream",
     "text": [
      "\u001b[A"
     ]
    },
    {
     "name": "stderr",
     "output_type": "stream",
     "text": [
      "INFO:volara.blockwise.blockwise:got block frags-extract-frags/5 with read ROI [1760:3200, 1708:3132, 1708:3132] (1440, 1424, 1424) and write ROI [1840:3120, 1892:2948, 1892:2948] (1280, 1056, 1056)\n"
     ]
    },
    {
     "name": "stderr",
     "output_type": "stream",
     "text": [
      "\n"
     ]
    },
    {
     "name": "stderr",
     "output_type": "stream",
     "text": [
      "\r",
      "frags-extract-frags ▶:  56%|█████▌    | 5/9 [08:45<05:36, 84.24s/blocks, ⧗=0, ▶=2, ✔=5, ✗=0, ∅=0]"
     ]
    },
    {
     "name": "stderr",
     "output_type": "stream",
     "text": [
      "INFO:volara.blockwise.blockwise:got block frags-extract-frags/11 with read ROI [1760:3200, 1708:3132, 2764:4092] (1440, 1424, 1328) and write ROI [1840:3120, 1892:2948, 2948:3908] (1280, 1056, 960)\n"
     ]
    },
    {
     "name": "stderr",
     "output_type": "stream",
     "text": [
      "\u001b[A"
     ]
    },
    {
     "name": "stderr",
     "output_type": "stream",
     "text": [
      "\n"
     ]
    },
    {
     "name": "stderr",
     "output_type": "stream",
     "text": [
      "\r",
      "frags-extract-frags ▶:  56%|█████▌    | 5/9 [08:45<05:36, 84.24s/blocks, ⧗=0, ▶=3, ✔=5, ✗=0, ∅=0]"
     ]
    },
    {
     "name": "stderr",
     "output_type": "stream",
     "text": [
      "INFO:volara.blockwise.blockwise:got block frags-extract-frags/13 with read ROI [1760:3200, 2764:4092, 1708:3132] (1440, 1328, 1424) and write ROI [1840:3120, 2948:3908, 1892:2948] (1280, 960, 1056)\n"
     ]
    },
    {
     "name": "stderr",
     "output_type": "stream",
     "text": [
      "\u001b[A"
     ]
    },
    {
     "name": "stderr",
     "output_type": "stream",
     "text": [
      "INFO:/home/runner/work/dacapo-toolbox/dacapo-toolbox/.venv/lib/python3.11/site-packages/volara/blockwise/extract_frags.py:Found 1636 fragments\n"
     ]
    },
    {
     "name": "stderr",
     "output_type": "stream",
     "text": [
      "INFO:volara.blockwise.blockwise:getting block\n"
     ]
    },
    {
     "name": "stderr",
     "output_type": "stream",
     "text": [
      "\n"
     ]
    },
    {
     "name": "stderr",
     "output_type": "stream",
     "text": [
      "\r",
      "frags-extract-frags ▶:  56%|█████▌    | 5/9 [08:56<05:36, 84.24s/blocks, ⧗=0, ▶=2, ✔=6, ✗=0, ∅=0]"
     ]
    },
    {
     "name": "stderr",
     "output_type": "stream",
     "text": [
      "\u001b[A"
     ]
    },
    {
     "name": "stderr",
     "output_type": "stream",
     "text": [
      "\n"
     ]
    },
    {
     "name": "stderr",
     "output_type": "stream",
     "text": [
      "\r",
      "frags-extract-frags ▶:  67%|██████▋   | 6/9 [08:56<04:57, 99.09s/blocks, ⧗=0, ▶=2, ✔=6, ✗=0, ∅=0]"
     ]
    },
    {
     "name": "stderr",
     "output_type": "stream",
     "text": [
      "\u001b[A"
     ]
    },
    {
     "name": "stderr",
     "output_type": "stream",
     "text": [
      "\n"
     ]
    },
    {
     "name": "stderr",
     "output_type": "stream",
     "text": [
      "\r",
      "frags-extract-frags ▶:  67%|██████▋   | 6/9 [08:56<04:57, 99.09s/blocks, ⧗=0, ▶=3, ✔=6, ✗=0, ∅=0]"
     ]
    },
    {
     "name": "stderr",
     "output_type": "stream",
     "text": [
      "\u001b[A"
     ]
    },
    {
     "name": "stderr",
     "output_type": "stream",
     "text": [
      "INFO:volara.blockwise.blockwise:got block frags-extract-frags/23 with read ROI [1760:3200, 2764:4092, 2764:4092] (1440, 1328, 1328) and write ROI [1840:3120, 2948:3908, 2948:3908] (1280, 960, 960)\n"
     ]
    },
    {
     "name": "stderr",
     "output_type": "stream",
     "text": [
      "INFO:volara.blockwise.blockwise:getting block\n"
     ]
    },
    {
     "name": "stderr",
     "output_type": "stream",
     "text": [
      "\r",
      "fragments-aff-agglom ▶:   0%|          | 0/9 [00:00<?, ?blocks/s]"
     ]
    },
    {
     "name": "stderr",
     "output_type": "stream",
     "text": [
      "\r",
      "fragments-aff-agglom ▶:   0%|          | 0/9 [00:00<?, ?blocks/s, ⧗=8, ▶=1, ✔=0, ✗=0, ∅=0]"
     ]
    },
    {
     "name": "stderr",
     "output_type": "stream",
     "text": [
      "INFO:volara.blockwise.blockwise:got block fragments-aff-agglom/0 with read ROI [1800:3160, 744:1984, 744:1984] (1360, 1240, 1240) and write ROI [1840:3120, 836:1892, 836:1892] (1280, 1056, 1056)\n"
     ]
    },
    {
     "name": "stderr",
     "output_type": "stream",
     "text": [
      "INFO:volara.blockwise.blockwise:getting block\n"
     ]
    },
    {
     "name": "stderr",
     "output_type": "stream",
     "text": [
      "INFO:volara.blockwise.blockwise:getting block\n"
     ]
    },
    {
     "name": "stderr",
     "output_type": "stream",
     "text": [
      "INFO:/home/runner/work/dacapo-toolbox/dacapo-toolbox/.venv/lib/python3.11/site-packages/volara/blockwise/extract_frags.py:Found 1555 fragments\n"
     ]
    },
    {
     "name": "stderr",
     "output_type": "stream",
     "text": [
      "INFO:/home/runner/work/dacapo-toolbox/dacapo-toolbox/.venv/lib/python3.11/site-packages/volara/blockwise/extract_frags.py:Found 1436 fragments\n"
     ]
    },
    {
     "name": "stderr",
     "output_type": "stream",
     "text": [
      "INFO:volara.blockwise.blockwise:getting block\n"
     ]
    },
    {
     "name": "stderr",
     "output_type": "stream",
     "text": [
      "\n"
     ]
    },
    {
     "name": "stderr",
     "output_type": "stream",
     "text": [
      "\r",
      "frags-extract-frags ▶:  67%|██████▋   | 6/9 [08:58<04:57, 99.09s/blocks, ⧗=0, ▶=2, ✔=7, ✗=0, ∅=0]"
     ]
    },
    {
     "name": "stderr",
     "output_type": "stream",
     "text": [
      "\u001b[A"
     ]
    },
    {
     "name": "stderr",
     "output_type": "stream",
     "text": [
      "\n"
     ]
    },
    {
     "name": "stderr",
     "output_type": "stream",
     "text": [
      "\r",
      "frags-extract-frags ▶:  78%|███████▊  | 7/9 [08:58<02:14, 67.18s/blocks, ⧗=0, ▶=2, ✔=7, ✗=0, ∅=0]"
     ]
    },
    {
     "name": "stderr",
     "output_type": "stream",
     "text": [
      "\u001b[A"
     ]
    },
    {
     "name": "stderr",
     "output_type": "stream",
     "text": [
      "INFO:volara.blockwise.blockwise:got block None\n"
     ]
    },
    {
     "name": "stderr",
     "output_type": "stream",
     "text": [
      "\r",
      "fragments-aff-agglom ▶:   0%|          | 0/9 [00:01<?, ?blocks/s, ⧗=6, ▶=2, ✔=0, ✗=0, ∅=0]"
     ]
    },
    {
     "name": "stderr",
     "output_type": "stream",
     "text": [
      "\r",
      "fragments-aff-agglom ▶:   0%|          | 0/9 [00:01<?, ?blocks/s, ⧗=6, ▶=2, ✔=0, ✗=0, ∅=0]"
     ]
    },
    {
     "name": "stderr",
     "output_type": "stream",
     "text": [
      "INFO:volara.blockwise.blockwise:got block fragments-aff-agglom/2 with read ROI [1800:3160, 1800:3040, 744:1984] (1360, 1240, 1240) and write ROI [1840:3120, 1892:2948, 836:1892] (1280, 1056, 1056)\n"
     ]
    },
    {
     "name": "stderr",
     "output_type": "stream",
     "text": [
      "\r",
      "fragments-aff-agglom ▶:   0%|          | 0/9 [00:01<?, ?blocks/s, ⧗=6, ▶=3, ✔=0, ✗=0, ∅=0]"
     ]
    },
    {
     "name": "stderr",
     "output_type": "stream",
     "text": [
      "\r",
      "fragments-aff-agglom ▶:   0%|          | 0/9 [00:01<?, ?blocks/s, ⧗=6, ▶=3, ✔=0, ✗=0, ∅=0]"
     ]
    },
    {
     "name": "stderr",
     "output_type": "stream",
     "text": [
      "INFO:volara.blockwise.blockwise:got block fragments-aff-agglom/7 with read ROI [1800:3160, 2856:4000, 744:1984] (1360, 1144, 1240) and write ROI [1840:3120, 2948:3908, 836:1892] (1280, 960, 1056)\n"
     ]
    },
    {
     "name": "stderr",
     "output_type": "stream",
     "text": [
      "INFO:volara.blockwise.blockwise:getting block\n"
     ]
    },
    {
     "name": "stderr",
     "output_type": "stream",
     "text": [
      "\n"
     ]
    },
    {
     "name": "stderr",
     "output_type": "stream",
     "text": [
      "\r",
      "frags-extract-frags ▶:  78%|███████▊  | 7/9 [08:58<02:14, 67.18s/blocks, ⧗=0, ▶=1, ✔=8, ✗=0, ∅=0]"
     ]
    },
    {
     "name": "stderr",
     "output_type": "stream",
     "text": [
      "\u001b[A"
     ]
    },
    {
     "name": "stderr",
     "output_type": "stream",
     "text": [
      "\n"
     ]
    },
    {
     "name": "stderr",
     "output_type": "stream",
     "text": [
      "\r",
      "frags-extract-frags ▶:  89%|████████▉ | 8/9 [08:58<00:45, 45.95s/blocks, ⧗=0, ▶=1, ✔=8, ✗=0, ∅=0]"
     ]
    },
    {
     "name": "stderr",
     "output_type": "stream",
     "text": [
      "\u001b[A"
     ]
    },
    {
     "name": "stderr",
     "output_type": "stream",
     "text": [
      "INFO:volara.blockwise.blockwise:got block None\n"
     ]
    },
    {
     "name": "stderr",
     "output_type": "stream",
     "text": [
      "INFO:volara.blockwise.blockwise:getting block\n"
     ]
    },
    {
     "name": "stderr",
     "output_type": "stream",
     "text": [
      "\r",
      "fragments-aff-agglom ▶:   0%|          | 0/9 [00:12<?, ?blocks/s, ⧗=4, ▶=2, ✔=1, ✗=0, ∅=0]"
     ]
    },
    {
     "name": "stderr",
     "output_type": "stream",
     "text": [
      "\r",
      "fragments-aff-agglom ▶:  11%|█         | 1/9 [00:12<01:28, 11.01s/blocks, ⧗=4, ▶=2, ✔=1, ✗=0, ∅=0]"
     ]
    },
    {
     "name": "stderr",
     "output_type": "stream",
     "text": [
      "INFO:volara.blockwise.blockwise:got block fragments-aff-agglom/1 with read ROI [1800:3160, 744:1984, 1800:3040] (1360, 1240, 1240) and write ROI [1840:3120, 836:1892, 1892:2948] (1280, 1056, 1056)\n"
     ]
    },
    {
     "name": "stderr",
     "output_type": "stream",
     "text": [
      "\r",
      "fragments-aff-agglom ▶:  11%|█         | 1/9 [00:12<01:28, 11.01s/blocks, ⧗=4, ▶=3, ✔=1, ✗=0, ∅=0]"
     ]
    },
    {
     "name": "stderr",
     "output_type": "stream",
     "text": [
      "INFO:volara.blockwise.blockwise:getting block\n"
     ]
    },
    {
     "name": "stderr",
     "output_type": "stream",
     "text": [
      "\r",
      "fragments-aff-agglom ▶:  11%|█         | 1/9 [00:14<01:28, 11.01s/blocks, ⧗=4, ▶=2, ✔=2, ✗=0, ∅=0]"
     ]
    },
    {
     "name": "stderr",
     "output_type": "stream",
     "text": [
      "\r",
      "fragments-aff-agglom ▶:  22%|██▏       | 2/9 [00:14<00:38,  5.43s/blocks, ⧗=4, ▶=2, ✔=2, ✗=0, ∅=0]"
     ]
    },
    {
     "name": "stderr",
     "output_type": "stream",
     "text": [
      "\r",
      "fragments-aff-agglom ▶:  22%|██▏       | 2/9 [00:14<00:38,  5.43s/blocks, ⧗=4, ▶=3, ✔=2, ✗=0, ∅=0]"
     ]
    },
    {
     "name": "stderr",
     "output_type": "stream",
     "text": [
      "INFO:volara.blockwise.blockwise:got block fragments-aff-agglom/4 with read ROI [1800:3160, 744:1984, 2856:4000] (1360, 1240, 1144) and write ROI [1840:3120, 836:1892, 2948:3908] (1280, 1056, 960)\n"
     ]
    },
    {
     "name": "stderr",
     "output_type": "stream",
     "text": [
      "INFO:volara.blockwise.blockwise:getting block\n"
     ]
    },
    {
     "name": "stderr",
     "output_type": "stream",
     "text": [
      "\r",
      "fragments-aff-agglom ▶:  22%|██▏       | 2/9 [00:14<00:38,  5.43s/blocks, ⧗=4, ▶=2, ✔=3, ✗=0, ∅=0]"
     ]
    },
    {
     "name": "stderr",
     "output_type": "stream",
     "text": [
      "\r",
      "fragments-aff-agglom ▶:  33%|███▎      | 3/9 [00:14<00:18,  3.10s/blocks, ⧗=4, ▶=2, ✔=3, ✗=0, ∅=0]"
     ]
    },
    {
     "name": "stderr",
     "output_type": "stream",
     "text": [
      "INFO:/home/runner/work/dacapo-toolbox/dacapo-toolbox/.venv/lib/python3.11/site-packages/volara/blockwise/extract_frags.py:Found 1752 fragments\n"
     ]
    },
    {
     "name": "stderr",
     "output_type": "stream",
     "text": [
      "INFO:volara.blockwise.blockwise:getting block\n"
     ]
    },
    {
     "name": "stderr",
     "output_type": "stream",
     "text": [
      "\n"
     ]
    },
    {
     "name": "stderr",
     "output_type": "stream",
     "text": [
      "\r",
      "frags-extract-frags ▶:  89%|████████▉ | 8/9 [09:14<00:45, 45.95s/blocks, ⧗=0, ▶=0, ✔=9, ✗=0, ∅=0]"
     ]
    },
    {
     "name": "stderr",
     "output_type": "stream",
     "text": [
      "\u001b[A"
     ]
    },
    {
     "name": "stderr",
     "output_type": "stream",
     "text": [
      "\n"
     ]
    },
    {
     "name": "stderr",
     "output_type": "stream",
     "text": [
      "\r",
      "frags-extract-frags ▶: 100%|██████████| 9/9 [09:14<00:00, 36.51s/blocks, ⧗=0, ▶=0, ✔=9, ✗=0, ∅=0]"
     ]
    },
    {
     "name": "stderr",
     "output_type": "stream",
     "text": [
      "\u001b[A"
     ]
    },
    {
     "name": "stderr",
     "output_type": "stream",
     "text": [
      "\n"
     ]
    },
    {
     "name": "stderr",
     "output_type": "stream",
     "text": [
      "\r",
      "frags-extract-frags ✔: 100%|██████████| 9/9 [09:14<00:00, 36.51s/blocks, ⧗=0, ▶=0, ✔=9, ✗=0, ∅=0]"
     ]
    },
    {
     "name": "stderr",
     "output_type": "stream",
     "text": [
      "\u001b[A"
     ]
    },
    {
     "name": "stderr",
     "output_type": "stream",
     "text": [
      "\r",
      "frags-extract-frags ✔: 100%|██████████| 9/9 [09:14<00:00, 61.60s/blocks, ⧗=0, ▶=0, ✔=9, ✗=0, ∅=0]"
     ]
    },
    {
     "name": "stderr",
     "output_type": "stream",
     "text": [
      "INFO:volara.blockwise.blockwise:got block None\n"
     ]
    },
    {
     "name": "stderr",
     "output_type": "stream",
     "text": [
      "\n",
      "\r",
      "fragments-aff-agglom ▶:  33%|███▎      | 3/9 [00:17<00:18,  3.10s/blocks, ⧗=0, ▶=3, ✔=3, ✗=0, ∅=0]"
     ]
    },
    {
     "name": "stderr",
     "output_type": "stream",
     "text": [
      "INFO:volara.blockwise.blockwise:got block fragments-aff-agglom/5 with read ROI [1800:3160, 1800:3040, 1800:3040] (1360, 1240, 1240) and write ROI [1840:3120, 1892:2948, 1892:2948] (1280, 1056, 1056)\n"
     ]
    },
    {
     "name": "stderr",
     "output_type": "stream",
     "text": [
      "INFO:volara.blockwise.blockwise:getting block\n"
     ]
    },
    {
     "name": "stderr",
     "output_type": "stream",
     "text": [
      "\r",
      "fragments-aff-agglom ▶:  33%|███▎      | 3/9 [00:22<00:18,  3.10s/blocks, ⧗=0, ▶=2, ✔=4, ✗=0, ∅=0]"
     ]
    },
    {
     "name": "stderr",
     "output_type": "stream",
     "text": [
      "\r",
      "fragments-aff-agglom ▶:  44%|████▍     | 4/9 [00:22<00:24,  4.97s/blocks, ⧗=0, ▶=2, ✔=4, ✗=0, ∅=0]"
     ]
    },
    {
     "name": "stderr",
     "output_type": "stream",
     "text": [
      "\r",
      "fragments-aff-agglom ▶:  44%|████▍     | 4/9 [00:22<00:24,  4.97s/blocks, ⧗=0, ▶=3, ✔=4, ✗=0, ∅=0]"
     ]
    },
    {
     "name": "stderr",
     "output_type": "stream",
     "text": [
      "INFO:volara.blockwise.blockwise:got block fragments-aff-agglom/11 with read ROI [1800:3160, 1800:3040, 2856:4000] (1360, 1240, 1144) and write ROI [1840:3120, 1892:2948, 2948:3908] (1280, 1056, 960)\n"
     ]
    },
    {
     "name": "stderr",
     "output_type": "stream",
     "text": [
      "INFO:volara.blockwise.blockwise:getting block\n"
     ]
    },
    {
     "name": "stderr",
     "output_type": "stream",
     "text": [
      "\r",
      "fragments-aff-agglom ▶:  44%|████▍     | 4/9 [00:24<00:24,  4.97s/blocks, ⧗=0, ▶=2, ✔=5, ✗=0, ∅=0]"
     ]
    },
    {
     "name": "stderr",
     "output_type": "stream",
     "text": [
      "\r",
      "fragments-aff-agglom ▶:  56%|█████▌    | 5/9 [00:24<00:15,  3.88s/blocks, ⧗=0, ▶=2, ✔=5, ✗=0, ∅=0]"
     ]
    },
    {
     "name": "stderr",
     "output_type": "stream",
     "text": [
      "\r",
      "fragments-aff-agglom ▶:  56%|█████▌    | 5/9 [00:24<00:15,  3.88s/blocks, ⧗=0, ▶=3, ✔=5, ✗=0, ∅=0]"
     ]
    },
    {
     "name": "stderr",
     "output_type": "stream",
     "text": [
      "INFO:volara.blockwise.blockwise:got block fragments-aff-agglom/13 with read ROI [1800:3160, 2856:4000, 1800:3040] (1360, 1144, 1240) and write ROI [1840:3120, 2948:3908, 1892:2948] (1280, 960, 1056)\n"
     ]
    },
    {
     "name": "stderr",
     "output_type": "stream",
     "text": [
      "INFO:volara.blockwise.blockwise:getting block\n"
     ]
    },
    {
     "name": "stderr",
     "output_type": "stream",
     "text": [
      "\r",
      "fragments-aff-agglom ▶:  56%|█████▌    | 5/9 [00:30<00:15,  3.88s/blocks, ⧗=0, ▶=2, ✔=6, ✗=0, ∅=0]"
     ]
    },
    {
     "name": "stderr",
     "output_type": "stream",
     "text": [
      "\r",
      "fragments-aff-agglom ▶:  67%|██████▋   | 6/9 [00:30<00:14,  4.70s/blocks, ⧗=0, ▶=2, ✔=6, ✗=0, ∅=0]"
     ]
    },
    {
     "name": "stderr",
     "output_type": "stream",
     "text": [
      "\r",
      "fragments-aff-agglom ▶:  67%|██████▋   | 6/9 [00:30<00:14,  4.70s/blocks, ⧗=0, ▶=3, ✔=6, ✗=0, ∅=0]"
     ]
    },
    {
     "name": "stderr",
     "output_type": "stream",
     "text": [
      "INFO:volara.blockwise.blockwise:got block fragments-aff-agglom/23 with read ROI [1800:3160, 2856:4000, 2856:4000] (1360, 1144, 1144) and write ROI [1840:3120, 2948:3908, 2948:3908] (1280, 960, 960)\n"
     ]
    },
    {
     "name": "stderr",
     "output_type": "stream",
     "text": [
      "INFO:volara.blockwise.blockwise:getting block\n"
     ]
    },
    {
     "name": "stderr",
     "output_type": "stream",
     "text": [
      "\r",
      "fragments-aff-agglom ▶:  67%|██████▋   | 6/9 [00:33<00:14,  4.70s/blocks, ⧗=0, ▶=2, ✔=7, ✗=0, ∅=0]"
     ]
    },
    {
     "name": "stderr",
     "output_type": "stream",
     "text": [
      "\r",
      "fragments-aff-agglom ▶:  78%|███████▊  | 7/9 [00:33<00:08,  4.28s/blocks, ⧗=0, ▶=2, ✔=7, ✗=0, ∅=0]"
     ]
    },
    {
     "name": "stderr",
     "output_type": "stream",
     "text": [
      "INFO:volara.blockwise.blockwise:got block None\n"
     ]
    },
    {
     "name": "stderr",
     "output_type": "stream",
     "text": [
      "INFO:volara.blockwise.blockwise:getting block\n"
     ]
    },
    {
     "name": "stderr",
     "output_type": "stream",
     "text": [
      "\r",
      "fragments-aff-agglom ▶:  78%|███████▊  | 7/9 [00:34<00:08,  4.28s/blocks, ⧗=0, ▶=1, ✔=8, ✗=0, ∅=0]"
     ]
    },
    {
     "name": "stderr",
     "output_type": "stream",
     "text": [
      "\r",
      "fragments-aff-agglom ▶:  89%|████████▉ | 8/9 [00:34<00:03,  3.01s/blocks, ⧗=0, ▶=1, ✔=8, ✗=0, ∅=0]"
     ]
    },
    {
     "name": "stderr",
     "output_type": "stream",
     "text": [
      "INFO:volara.blockwise.blockwise:got block None\n"
     ]
    },
    {
     "name": "stderr",
     "output_type": "stream",
     "text": [
      "INFO:volara.blockwise.blockwise:getting block\n"
     ]
    },
    {
     "name": "stderr",
     "output_type": "stream",
     "text": [
      "\r",
      "fragments-aff-agglom ▶:  89%|████████▉ | 8/9 [00:38<00:03,  3.01s/blocks, ⧗=0, ▶=0, ✔=9, ✗=0, ∅=0]"
     ]
    },
    {
     "name": "stderr",
     "output_type": "stream",
     "text": [
      "\r",
      "fragments-aff-agglom ▶: 100%|██████████| 9/9 [00:38<00:00,  3.32s/blocks, ⧗=0, ▶=0, ✔=9, ✗=0, ∅=0]"
     ]
    },
    {
     "name": "stderr",
     "output_type": "stream",
     "text": [
      "\r",
      "fragments-aff-agglom ✔: 100%|██████████| 9/9 [00:38<00:00,  3.32s/blocks, ⧗=0, ▶=0, ✔=9, ✗=0, ∅=0]"
     ]
    },
    {
     "name": "stderr",
     "output_type": "stream",
     "text": [
      "\r",
      "fragments-aff-agglom ✔: 100%|██████████| 9/9 [00:38<00:00,  4.25s/blocks, ⧗=0, ▶=0, ✔=9, ✗=0, ∅=0]"
     ]
    },
    {
     "name": "stderr",
     "output_type": "stream",
     "text": [
      "\n"
     ]
    },
    {
     "name": "stderr",
     "output_type": "stream",
     "text": [
      "INFO:volara.blockwise.blockwise:getting block\n"
     ]
    },
    {
     "name": "stderr",
     "output_type": "stream",
     "text": [
      "\r",
      "lut-graph-mws ▶:   0%|          | 0/1 [00:00<?, ?blocks/s]"
     ]
    },
    {
     "name": "stderr",
     "output_type": "stream",
     "text": [
      "INFO:volara.blockwise.blockwise:got block lut-graph-mws/0 with read ROI [1840:3120, 836:3908, 836:3908] (1280, 3072, 3072) and write ROI [1840:3120, 836:3908, 836:3908] (1280, 3072, 3072)\n"
     ]
    },
    {
     "name": "stderr",
     "output_type": "stream",
     "text": [
      "\r",
      "lut-graph-mws ▶:   0%|          | 0/1 [00:00<?, ?blocks/s, ⧗=0, ▶=1, ✔=0, ✗=0, ∅=0]"
     ]
    },
    {
     "name": "stderr",
     "output_type": "stream",
     "text": [
      "INFO:volara.blockwise.blockwise:got block None\n"
     ]
    },
    {
     "name": "stderr",
     "output_type": "stream",
     "text": [
      "INFO:volara.blockwise.blockwise:getting block\n"
     ]
    },
    {
     "name": "stderr",
     "output_type": "stream",
     "text": [
      "\r",
      "lut-graph-mws ▶:   0%|          | 0/1 [00:01<?, ?blocks/s, ⧗=0, ▶=0, ✔=1, ✗=0, ∅=0]"
     ]
    },
    {
     "name": "stderr",
     "output_type": "stream",
     "text": [
      "\r",
      "lut-graph-mws ▶: 100%|██████████| 1/1 [00:01<00:00,  1.22s/blocks, ⧗=0, ▶=0, ✔=1, ✗=0, ∅=0]"
     ]
    },
    {
     "name": "stderr",
     "output_type": "stream",
     "text": [
      "\r",
      "lut-graph-mws ✔: 100%|██████████| 1/1 [00:01<00:00,  1.22s/blocks, ⧗=0, ▶=0, ✔=1, ✗=0, ∅=0]"
     ]
    },
    {
     "name": "stderr",
     "output_type": "stream",
     "text": [
      "\r",
      "lut-graph-mws ✔: 100%|██████████| 1/1 [00:01<00:00,  1.22s/blocks, ⧗=0, ▶=0, ✔=1, ✗=0, ∅=0]"
     ]
    },
    {
     "name": "stderr",
     "output_type": "stream",
     "text": [
      "\n"
     ]
    },
    {
     "name": "stderr",
     "output_type": "stream",
     "text": [
      "INFO:volara.blockwise.blockwise:getting block\n"
     ]
    },
    {
     "name": "stderr",
     "output_type": "stream",
     "text": [
      "\r",
      "pred_labels-relabel ▶:   0%|          | 0/9 [00:00<?, ?blocks/s]"
     ]
    },
    {
     "name": "stderr",
     "output_type": "stream",
     "text": [
      "INFO:volara.blockwise.blockwise:got block pred_labels-relabel/0 with read ROI [1840:3120, 836:1892, 836:1892] (1280, 1056, 1056) and write ROI [1840:3120, 836:1892, 836:1892] (1280, 1056, 1056)\n"
     ]
    },
    {
     "name": "stderr",
     "output_type": "stream",
     "text": [
      "\r",
      "pred_labels-relabel ▶:   0%|          | 0/9 [00:00<?, ?blocks/s, ⧗=0, ▶=1, ✔=0, ✗=0, ∅=0]"
     ]
    },
    {
     "name": "stderr",
     "output_type": "stream",
     "text": [
      "INFO:volara.blockwise.blockwise:getting block\n"
     ]
    },
    {
     "name": "stderr",
     "output_type": "stream",
     "text": [
      "\r",
      "pred_labels-relabel ▶:   0%|          | 0/9 [00:00<?, ?blocks/s, ⧗=0, ▶=2, ✔=0, ✗=0, ∅=0]"
     ]
    },
    {
     "name": "stderr",
     "output_type": "stream",
     "text": [
      "INFO:volara.blockwise.blockwise:got block pred_labels-relabel/1 with read ROI [1840:3120, 836:1892, 1892:2948] (1280, 1056, 1056) and write ROI [1840:3120, 836:1892, 1892:2948] (1280, 1056, 1056)\n"
     ]
    },
    {
     "name": "stderr",
     "output_type": "stream",
     "text": [
      "INFO:volara.blockwise.blockwise:got block None\n"
     ]
    },
    {
     "name": "stderr",
     "output_type": "stream",
     "text": [
      "INFO:volara.blockwise.blockwise:getting block\n"
     ]
    },
    {
     "name": "stderr",
     "output_type": "stream",
     "text": [
      "\r",
      "pred_labels-relabel ▶:   0%|          | 0/9 [00:00<?, ?blocks/s, ⧗=0, ▶=3, ✔=0, ✗=0, ∅=0]"
     ]
    },
    {
     "name": "stderr",
     "output_type": "stream",
     "text": [
      "INFO:volara.blockwise.blockwise:got block pred_labels-relabel/2 with read ROI [1840:3120, 1892:2948, 836:1892] (1280, 1056, 1056) and write ROI [1840:3120, 1892:2948, 836:1892] (1280, 1056, 1056)\n"
     ]
    },
    {
     "name": "stderr",
     "output_type": "stream",
     "text": [
      "INFO:volara.blockwise.blockwise:getting block\n"
     ]
    },
    {
     "name": "stderr",
     "output_type": "stream",
     "text": [
      "\r",
      "pred_labels-relabel ▶:   0%|          | 0/9 [00:02<?, ?blocks/s, ⧗=0, ▶=2, ✔=1, ✗=0, ∅=0]"
     ]
    },
    {
     "name": "stderr",
     "output_type": "stream",
     "text": [
      "\r",
      "pred_labels-relabel ▶:  11%|█         | 1/9 [00:02<00:19,  2.45s/blocks, ⧗=0, ▶=2, ✔=1, ✗=0, ∅=0]"
     ]
    },
    {
     "name": "stderr",
     "output_type": "stream",
     "text": [
      "\r",
      "pred_labels-relabel ▶:  11%|█         | 1/9 [00:02<00:19,  2.45s/blocks, ⧗=0, ▶=3, ✔=1, ✗=0, ∅=0]"
     ]
    },
    {
     "name": "stderr",
     "output_type": "stream",
     "text": [
      "INFO:volara.blockwise.blockwise:got block pred_labels-relabel/4 with read ROI [1840:3120, 836:1892, 2948:3908] (1280, 1056, 960) and write ROI [1840:3120, 836:1892, 2948:3908] (1280, 1056, 960)\n"
     ]
    },
    {
     "name": "stderr",
     "output_type": "stream",
     "text": [
      "INFO:volara.blockwise.blockwise:getting block\n"
     ]
    },
    {
     "name": "stderr",
     "output_type": "stream",
     "text": [
      "\r",
      "pred_labels-relabel ▶:  11%|█         | 1/9 [00:02<00:19,  2.45s/blocks, ⧗=0, ▶=2, ✔=2, ✗=0, ∅=0]"
     ]
    },
    {
     "name": "stderr",
     "output_type": "stream",
     "text": [
      "\r",
      "pred_labels-relabel ▶:  22%|██▏       | 2/9 [00:02<00:07,  1.09s/blocks, ⧗=0, ▶=2, ✔=2, ✗=0, ∅=0]"
     ]
    },
    {
     "name": "stderr",
     "output_type": "stream",
     "text": [
      "\r",
      "pred_labels-relabel ▶:  22%|██▏       | 2/9 [00:02<00:07,  1.09s/blocks, ⧗=0, ▶=3, ✔=2, ✗=0, ∅=0]"
     ]
    },
    {
     "name": "stderr",
     "output_type": "stream",
     "text": [
      "INFO:volara.blockwise.blockwise:got block pred_labels-relabel/5 with read ROI [1840:3120, 1892:2948, 1892:2948] (1280, 1056, 1056) and write ROI [1840:3120, 1892:2948, 1892:2948] (1280, 1056, 1056)\n"
     ]
    },
    {
     "name": "stderr",
     "output_type": "stream",
     "text": [
      "INFO:volara.blockwise.blockwise:getting block\n"
     ]
    },
    {
     "name": "stderr",
     "output_type": "stream",
     "text": [
      "\r",
      "pred_labels-relabel ▶:  22%|██▏       | 2/9 [00:02<00:07,  1.09s/blocks, ⧗=0, ▶=2, ✔=3, ✗=0, ∅=0]"
     ]
    },
    {
     "name": "stderr",
     "output_type": "stream",
     "text": [
      "\r",
      "pred_labels-relabel ▶:  33%|███▎      | 3/9 [00:02<00:03,  1.52blocks/s, ⧗=0, ▶=2, ✔=3, ✗=0, ∅=0]"
     ]
    },
    {
     "name": "stderr",
     "output_type": "stream",
     "text": [
      "\r",
      "pred_labels-relabel ▶:  33%|███▎      | 3/9 [00:02<00:03,  1.52blocks/s, ⧗=0, ▶=3, ✔=3, ✗=0, ∅=0]"
     ]
    },
    {
     "name": "stderr",
     "output_type": "stream",
     "text": [
      "INFO:volara.blockwise.blockwise:got block pred_labels-relabel/7 with read ROI [1840:3120, 2948:3908, 836:1892] (1280, 960, 1056) and write ROI [1840:3120, 2948:3908, 836:1892] (1280, 960, 1056)\n"
     ]
    },
    {
     "name": "stderr",
     "output_type": "stream",
     "text": [
      "INFO:volara.blockwise.blockwise:getting block\n"
     ]
    },
    {
     "name": "stderr",
     "output_type": "stream",
     "text": [
      "\r",
      "pred_labels-relabel ▶:  33%|███▎      | 3/9 [00:02<00:03,  1.52blocks/s, ⧗=0, ▶=2, ✔=4, ✗=0, ∅=0]"
     ]
    },
    {
     "name": "stderr",
     "output_type": "stream",
     "text": [
      "\r",
      "pred_labels-relabel ▶:  44%|████▍     | 4/9 [00:02<00:02,  2.21blocks/s, ⧗=0, ▶=2, ✔=4, ✗=0, ∅=0]"
     ]
    },
    {
     "name": "stderr",
     "output_type": "stream",
     "text": [
      "INFO:volara.blockwise.blockwise:getting block\n"
     ]
    },
    {
     "name": "stderr",
     "output_type": "stream",
     "text": [
      "\r",
      "pred_labels-relabel ▶:  44%|████▍     | 4/9 [00:02<00:02,  2.21blocks/s, ⧗=0, ▶=1, ✔=5, ✗=0, ∅=0]"
     ]
    },
    {
     "name": "stderr",
     "output_type": "stream",
     "text": [
      "\r",
      "pred_labels-relabel ▶:  56%|█████▌    | 5/9 [00:02<00:01,  2.21blocks/s, ⧗=0, ▶=2, ✔=5, ✗=0, ∅=0]"
     ]
    },
    {
     "name": "stderr",
     "output_type": "stream",
     "text": [
      "INFO:volara.blockwise.blockwise:got block pred_labels-relabel/11 with read ROI [1840:3120, 1892:2948, 2948:3908] (1280, 1056, 960) and write ROI [1840:3120, 1892:2948, 2948:3908] (1280, 1056, 960)\n"
     ]
    },
    {
     "name": "stderr",
     "output_type": "stream",
     "text": [
      "\r",
      "pred_labels-relabel ▶:  56%|█████▌    | 5/9 [00:02<00:01,  2.21blocks/s, ⧗=0, ▶=3, ✔=5, ✗=0, ∅=0]"
     ]
    },
    {
     "name": "stderr",
     "output_type": "stream",
     "text": [
      "INFO:volara.blockwise.blockwise:got block pred_labels-relabel/13 with read ROI [1840:3120, 2948:3908, 1892:2948] (1280, 960, 1056) and write ROI [1840:3120, 2948:3908, 1892:2948] (1280, 960, 1056)\n"
     ]
    },
    {
     "name": "stderr",
     "output_type": "stream",
     "text": [
      "INFO:volara.blockwise.blockwise:getting block\n"
     ]
    },
    {
     "name": "stderr",
     "output_type": "stream",
     "text": [
      "\r",
      "pred_labels-relabel ▶:  56%|█████▌    | 5/9 [00:03<00:01,  2.21blocks/s, ⧗=0, ▶=2, ✔=6, ✗=0, ∅=0]"
     ]
    },
    {
     "name": "stderr",
     "output_type": "stream",
     "text": [
      "\r",
      "pred_labels-relabel ▶:  67%|██████▋   | 6/9 [00:03<00:00,  3.99blocks/s, ⧗=0, ▶=2, ✔=6, ✗=0, ∅=0]"
     ]
    },
    {
     "name": "stderr",
     "output_type": "stream",
     "text": [
      "INFO:volara.blockwise.blockwise:getting block\n"
     ]
    },
    {
     "name": "stderr",
     "output_type": "stream",
     "text": [
      "INFO:volara.blockwise.blockwise:getting block\n"
     ]
    },
    {
     "name": "stderr",
     "output_type": "stream",
     "text": [
      "\r",
      "pred_labels-relabel ▶:  67%|██████▋   | 6/9 [00:03<00:00,  3.99blocks/s, ⧗=0, ▶=1, ✔=7, ✗=0, ∅=0]"
     ]
    },
    {
     "name": "stderr",
     "output_type": "stream",
     "text": [
      "\r",
      "pred_labels-relabel ▶:  78%|███████▊  | 7/9 [00:03<00:00,  3.99blocks/s, ⧗=0, ▶=0, ✔=8, ✗=0, ∅=0]"
     ]
    },
    {
     "name": "stderr",
     "output_type": "stream",
     "text": [
      "\r",
      "pred_labels-relabel ▶:  89%|████████▉ | 8/9 [00:03<00:00,  3.99blocks/s, ⧗=0, ▶=1, ✔=8, ✗=0, ∅=0]"
     ]
    },
    {
     "name": "stderr",
     "output_type": "stream",
     "text": [
      "INFO:volara.blockwise.blockwise:got block pred_labels-relabel/23 with read ROI [1840:3120, 2948:3908, 2948:3908] (1280, 960, 960) and write ROI [1840:3120, 2948:3908, 2948:3908] (1280, 960, 960)\n"
     ]
    },
    {
     "name": "stderr",
     "output_type": "stream",
     "text": [
      "INFO:volara.blockwise.blockwise:getting block\n"
     ]
    },
    {
     "name": "stderr",
     "output_type": "stream",
     "text": [
      "\r",
      "pred_labels-relabel ▶:  89%|████████▉ | 8/9 [00:03<00:00,  3.99blocks/s, ⧗=0, ▶=0, ✔=9, ✗=0, ∅=0]"
     ]
    },
    {
     "name": "stderr",
     "output_type": "stream",
     "text": [
      "\r",
      "pred_labels-relabel ▶: 100%|██████████| 9/9 [00:03<00:00,  7.25blocks/s, ⧗=0, ▶=0, ✔=9, ✗=0, ∅=0]"
     ]
    },
    {
     "name": "stderr",
     "output_type": "stream",
     "text": [
      "\r",
      "pred_labels-relabel ✔: 100%|██████████| 9/9 [00:03<00:00,  7.25blocks/s, ⧗=0, ▶=0, ✔=9, ✗=0, ∅=0]"
     ]
    },
    {
     "name": "stderr",
     "output_type": "stream",
     "text": [
      "\r",
      "pred_labels-relabel ✔: 100%|██████████| 9/9 [00:03<00:00,  2.87blocks/s, ⧗=0, ▶=0, ✔=9, ✗=0, ∅=0]"
     ]
    },
    {
     "name": "stderr",
     "output_type": "stream",
     "text": [
      "\n"
     ]
    },
    {
     "name": "stdout",
     "output_type": "stream",
     "text": [
      "\n",
      "Execution Summary\n",
      "-----------------\n",
      "\n",
      "  Task affs-predict:\n",
      "\n",
      "    num blocks : 9\n",
      "    completed ✔: 9 (skipped 0)\n",
      "    failed    ✗: 0\n",
      "    orphaned  ∅: 0\n",
      "\n",
      "    all blocks processed successfully\n",
      "\n",
      "  Task frags-extract-frags:\n",
      "\n",
      "    num blocks : 9\n",
      "    completed ✔: 9 (skipped 0)\n",
      "    failed    ✗: 0\n",
      "    orphaned  ∅: 0\n",
      "\n",
      "    all blocks processed successfully\n",
      "\n",
      "  Task fragments-aff-agglom:\n",
      "\n",
      "    num blocks : 9\n",
      "    completed ✔: 9 (skipped 0)\n",
      "    failed    ✗: 0\n",
      "    orphaned  ∅: 0\n",
      "\n",
      "    all blocks processed successfully\n",
      "\n",
      "  Task lut-graph-mws:\n",
      "\n",
      "    num blocks : 1\n",
      "    completed ✔: 1 (skipped 0)\n",
      "    failed    ✗: 0\n",
      "    orphaned  ∅: 0\n",
      "\n",
      "    all blocks processed successfully\n",
      "\n",
      "  Task pred_labels-relabel:\n",
      "\n",
      "    num blocks : 9\n",
      "    completed ✔: 9 (skipped 0)\n",
      "    failed    ✗: 0\n",
      "    orphaned  ∅: 0\n",
      "\n",
      "    all blocks processed successfully\n"
     ]
    }
   ],
   "source": [
    "from dacapo_toolbox.postprocessing import blockwise_predict_mutex\n",
    "from volara.workers import LocalWorker\n",
    "\n",
    "\n",
    "unet = unet.eval()\n",
    "scripted_unet = torch.jit.script(module)\n",
    "torch.jit.save(scripted_unet, \"cremi.zarr/affs_unet.pt\")\n",
    "torch.save(scripted_unet.state_dict(), \"cremi.zarr/weights.pth\")\n",
    "\n",
    "blocksize = Coordinate(unet.min_output_shape) + blocksize\n",
    "\n",
    "# default biases:\n",
    "# interpolate log offset distances to a range of [-0.2, -0.8]\n",
    "\n",
    "blockwise_predict_mutex(\n",
    "    raw_store=\"cremi.zarr/test/raw\",\n",
    "    affs_store=\"cremi.zarr/test/affs\",  # optional, provided for visualization\n",
    "    frags_store=\"cremi.zarr/test/frags\",  # optional, provided for visualization\n",
    "    labels_store=\"cremi.zarr/test/pred_labels\",\n",
    "    neighborhood=neighborhood,\n",
    "    blocksize=blocksize,\n",
    "    model_path=\"cremi.zarr/affs_unet.pt\",\n",
    "    in_channels=1,\n",
    "    model_context=unet.context // 2,\n",
    "    predict_worker=LocalWorker(),  # optional, see docstring\n",
    "    extract_frag_bias=[\n",
    "        -0.5,\n",
    "        -0.2,\n",
    "        -0.2,\n",
    "        -0.5,\n",
    "        -0.5,\n",
    "        -0.8,\n",
    "        -0.8,\n",
    "    ],  # optional, TODO: defaults not very good yet\n",
    "    edge_scores=[  # optional, TODO: defaults not very good yet\n",
    "        (\"affs_z\", [Coordinate(1, 0, 0)], -0.5),\n",
    "        (\"affs_xy\", [Coordinate(0, 1, 0), Coordinate(0, 0, 1)], -0.2),\n",
    "        (\n",
    "            \"affs_long_xy\",\n",
    "            [\n",
    "                Coordinate(0, 7, 0),\n",
    "                Coordinate(0, 0, 7),\n",
    "                Coordinate(0, 23, 0),\n",
    "                Coordinate(0, 0, 23),\n",
    "            ],\n",
    "            -0.8,\n",
    "        ),\n",
    "    ],\n",
    "    num_extract_frag_workers=3,\n",
    "    num_aff_agglom_workers=3,\n",
    "    num_relabel_workers=3,\n",
    "    roi=large_eval_roi,\n",
    ")"
   ]
  },
  {
   "cell_type": "markdown",
   "id": "d68e6d35",
   "metadata": {},
   "source": [
    "## Visualizing the results"
   ]
  },
  {
   "cell_type": "code",
   "execution_count": 17,
   "id": "47064de3",
   "metadata": {
    "execution": {
     "iopub.execute_input": "2025-09-12T22:20:26.362474Z",
     "iopub.status.busy": "2025-09-12T22:20:26.361418Z",
     "iopub.status.idle": "2025-09-12T22:20:57.406993Z",
     "shell.execute_reply": "2025-09-12T22:20:57.406455Z"
    }
   },
   "outputs": [
    {
     "name": "stderr",
     "output_type": "stream",
     "text": [
      "INFO:matplotlib.animation:Animation.save using <class 'matplotlib.animation.PillowWriter'>\n"
     ]
    }
   ],
   "source": [
    "from funlib.persistence import open_ds\n",
    "\n",
    "affs = open_ds(\"cremi.zarr/test/affs\")\n",
    "affs.lazy_op(lambda x: x[[0, 3, 4]] / 255.0)\n",
    "raw = open_ds(\"cremi.zarr/test/raw\")\n",
    "raw.lazy_op(large_eval_roi)\n",
    "gif_2d(\n",
    "    arrays={\n",
    "        \"Raw\": raw,\n",
    "        \"Affs\": affs,\n",
    "        \"Frags\": open_ds(\"cremi.zarr/test/frags\"),\n",
    "        \"Pred Labels\": open_ds(\"cremi.zarr/test/pred_labels\"),\n",
    "    },\n",
    "    array_types={\n",
    "        \"Raw\": \"raw\",\n",
    "        \"Affs\": \"affs\",\n",
    "        \"Frags\": \"labels\",\n",
    "        \"Pred Labels\": \"labels\",\n",
    "    },\n",
    "    title=\"CREMI Affs Prediction\",\n",
    "    filename=\"_static/cremi/cremi-prediction.gif\",\n",
    "    fps=10,\n",
    ")\n",
    "cube(\n",
    "    arrays={\n",
    "        \"raw\": raw,\n",
    "        \"affs\": affs,\n",
    "        \"frags\": open_ds(\"cremi.zarr/test/frags\"),\n",
    "        \"pred_labels\": open_ds(\"cremi.zarr/test/pred_labels\"),\n",
    "    },\n",
    "    array_types={\n",
    "        \"raw\": \"raw\",\n",
    "        \"affs\": \"affs\",\n",
    "        \"frags\": \"labels\",\n",
    "        \"pred_labels\": \"labels\",\n",
    "    },\n",
    "    title=\"CREMI Affs Prediction\",\n",
    "    filename=\"_static/cremi/cremi-prediction.jpg\",\n",
    ")"
   ]
  },
  {
   "cell_type": "markdown",
   "id": "69994dfa",
   "metadata": {},
   "source": [
    "Here we visualize the prediction results:\n",
    "![cremi-prediction](_static/cremi/cremi-prediction.gif)\n",
    "![cremi-prediction-cube](_static/cremi/cremi-prediction.jpg)"
   ]
  }
 ],
 "metadata": {
  "jupytext": {
   "cell_metadata_filter": "-all",
   "main_language": "python",
   "notebook_metadata_filter": "-all"
  },
  "language_info": {
   "codemirror_mode": {
    "name": "ipython",
    "version": 3
   },
   "file_extension": ".py",
   "mimetype": "text/x-python",
   "name": "python",
   "nbconvert_exporter": "python",
   "pygments_lexer": "ipython3",
   "version": "3.11.13"
  }
 },
 "nbformat": 4,
 "nbformat_minor": 5
}
