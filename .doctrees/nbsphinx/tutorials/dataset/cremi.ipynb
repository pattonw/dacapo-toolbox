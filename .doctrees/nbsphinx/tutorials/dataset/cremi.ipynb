{
 "cells": [
  {
   "cell_type": "markdown",
   "id": "e4da1197",
   "metadata": {},
   "source": [
    "# Cremi Example\n",
    "This tutorial demonstrates some simple pipelines using the dacapo_toolbox\n",
    "dataset on [cremi data](https://cremi.org/data/). We'll cover a fun method\n",
    "for instance segmentation using a 2.5D U-Net."
   ]
  },
  {
   "cell_type": "markdown",
   "id": "fa54ed00",
   "metadata": {},
   "source": [
    "## Introduction and overview\n",
    "\n",
    "In this tutorial we will cover a few basic ML tasks using the DaCapo toolbox. We will:\n",
    "\n",
    "- Prepare a dataloader for the CREMI dataset\n",
    "- Train a simple 2D U-Net for both instance and semantic segmentation\n",
    "- Visualize the results\n"
   ]
  },
  {
   "cell_type": "markdown",
   "id": "515efb9a",
   "metadata": {},
   "source": [
    "## Environment setup\n",
    "If you have not already done so, you will need to install DaCapo. You can do this\n",
    "by first creating a new environment and then installing the DaCapo Toolbox.\n",
    "\n",
    "I highly recommend using [uv](https://docs.astral.sh/uv/) for environment management,\n",
    "but there are many tools to choose from.\n",
    "\n",
    "```bash\n",
    "uv init\n",
    "uv add git+https://github.com/pattonw/dacapo-toolbox.git\n",
    "```"
   ]
  },
  {
   "cell_type": "markdown",
   "id": "d65f723d",
   "metadata": {},
   "source": [
    "## Data Preparation\n",
    "DaCapo works with zarr, so we will download [CREMI Sample A](https://cremi.org/static/data/sample_A%2B_20160601.hdf)\n",
    "and save it as a zarr file."
   ]
  },
  {
   "cell_type": "code",
   "execution_count": 1,
   "id": "d5126d04",
   "metadata": {
    "execution": {
     "iopub.execute_input": "2025-09-16T05:24:39.063273Z",
     "iopub.status.busy": "2025-09-16T05:24:39.063118Z",
     "iopub.status.idle": "2025-09-16T05:24:48.384515Z",
     "shell.execute_reply": "2025-09-16T05:24:48.384058Z"
    },
    "lines_to_next_cell": 2
   },
   "outputs": [],
   "source": [
    "import multiprocessing as mp\n",
    "\n",
    "mp.set_start_method(\"fork\", force=True)\n",
    "import dask\n",
    "\n",
    "dask.config.set(scheduler=\"single-threaded\")\n",
    "\n",
    "from pathlib import Path\n",
    "from functools import partial\n",
    "from tqdm import tqdm\n",
    "\n",
    "from funlib.persistence import Array\n",
    "from funlib.geometry import Coordinate, Roi\n",
    "from dacapo_toolbox.sample_datasets import cremi\n",
    "\n",
    "if not Path(\"_static/cremi\").exists():\n",
    "    Path(\"_static/cremi\").mkdir(parents=True, exist_ok=True)\n",
    "\n",
    "raw_train, labels_train, raw_test, labels_test = cremi(Path(\"cremi.zarr\"))\n",
    "\n",
    "# define some variables that we will use later\n",
    "# The number of iterations we will train\n",
    "NUM_ITERATIONS = 300\n",
    "# A reasonable block size for processing image data with a UNet\n",
    "blocksize = Coordinate(32, 256, 256)\n",
    "# We choose a small and large eval roi for performance evaluation\n",
    "# The small roi will be processed in memory, the large will be processed blockwise\n",
    "offset = Coordinate(78, 465, 465)\n",
    "small_eval_roi = Roi(offset, blocksize) * raw_test.voxel_size\n",
    "large_eval_roi = (\n",
    "    Roi(offset - blocksize, blocksize * Coordinate(1, 3, 3)) * raw_test.voxel_size\n",
    ")"
   ]
  },
  {
   "cell_type": "markdown",
   "id": "be414419",
   "metadata": {},
   "source": [
    "Lets visualize our train and test data"
   ]
  },
  {
   "cell_type": "markdown",
   "id": "ead5add8",
   "metadata": {},
   "source": [
    "### Training data"
   ]
  },
  {
   "cell_type": "code",
   "execution_count": 2,
   "id": "e7c52801",
   "metadata": {
    "execution": {
     "iopub.execute_input": "2025-09-16T05:24:48.386607Z",
     "iopub.status.busy": "2025-09-16T05:24:48.386220Z",
     "iopub.status.idle": "2025-09-16T05:24:49.115541Z",
     "shell.execute_reply": "2025-09-16T05:24:49.115035Z"
    }
   },
   "outputs": [],
   "source": [
    "\n",
    "from dacapo_toolbox.vis.preview import gif_2d, cube"
   ]
  },
  {
   "cell_type": "code",
   "execution_count": 3,
   "id": "7a88134f",
   "metadata": {
    "execution": {
     "iopub.execute_input": "2025-09-16T05:24:49.117583Z",
     "iopub.status.busy": "2025-09-16T05:24:49.117169Z",
     "iopub.status.idle": "2025-09-16T05:25:26.242697Z",
     "shell.execute_reply": "2025-09-16T05:25:26.242192Z"
    }
   },
   "outputs": [],
   "source": [
    "\n",
    "# create a 2D gif of the training data\n",
    "gif_2d(\n",
    "    arrays={\"Train Raw\": raw_train, \"Train Labels\": labels_train},\n",
    "    array_types={\"Train Raw\": \"raw\", \"Train Labels\": \"labels\"},\n",
    "    filename=\"_static/cremi/training-data.gif\",\n",
    "    title=\"Training Data\",\n",
    "    fps=10,\n",
    ")\n",
    "cube(\n",
    "    arrays={\"Train Raw\": raw_train, \"Train Labels\": labels_train},\n",
    "    array_types={\"Train Raw\": \"raw\", \"Train Labels\": \"labels\"},\n",
    "    filename=\"_static/cremi/training-data.jpg\",\n",
    "    title=\"Training Data\",\n",
    ")"
   ]
  },
  {
   "cell_type": "markdown",
   "id": "9da84b11",
   "metadata": {},
   "source": [
    "Here we visualize the training data:\n",
    "![training-data](_static/cremi/training-data.gif)\n",
    "![training-data-cube](_static/cremi/training-data.jpg)"
   ]
  },
  {
   "cell_type": "markdown",
   "id": "e7373062",
   "metadata": {},
   "source": [
    "### Testing data"
   ]
  },
  {
   "cell_type": "code",
   "execution_count": 4,
   "id": "f91d0ea9",
   "metadata": {
    "execution": {
     "iopub.execute_input": "2025-09-16T05:25:26.244427Z",
     "iopub.status.busy": "2025-09-16T05:25:26.244269Z",
     "iopub.status.idle": "2025-09-16T05:26:03.562803Z",
     "shell.execute_reply": "2025-09-16T05:26:03.562226Z"
    }
   },
   "outputs": [],
   "source": [
    "gif_2d(\n",
    "    arrays={\"Test Raw\": raw_test, \"Test Labels\": labels_test},\n",
    "    array_types={\"Test Raw\": \"raw\", \"Test Labels\": \"labels\"},\n",
    "    filename=\"_static/cremi/testing-data.gif\",\n",
    "    title=\"Testing Data\",\n",
    "    fps=10,\n",
    ")\n",
    "cube(\n",
    "    arrays={\"Test Raw\": raw_test, \"Test Labels\": labels_test},\n",
    "    array_types={\"Test Raw\": \"raw\", \"Test Labels\": \"labels\"},\n",
    "    filename=\"_static/cremi/testing-data.jpg\",\n",
    "    title=\"Testing Data\",\n",
    ")"
   ]
  },
  {
   "cell_type": "markdown",
   "id": "901a2f16",
   "metadata": {},
   "source": [
    "Here we visualize the test data:\n",
    "![test-data](_static/cremi/test-data.gif)\n",
    "![test-data-cube](_static/cremi/test-data.jpg)"
   ]
  },
  {
   "cell_type": "markdown",
   "id": "8eb317df",
   "metadata": {},
   "source": [
    "### DaCapo\n",
    "Now that we have some data, lets look at how we can use DaCapo to interface with it for some common ML use cases."
   ]
  },
  {
   "cell_type": "markdown",
   "id": "16485d9a",
   "metadata": {},
   "source": [
    "### Data Split\n",
    "We always want to be explicit when we define our data split for training and validation so that we are aware what data is being used for training and validation."
   ]
  },
  {
   "cell_type": "code",
   "execution_count": 5,
   "id": "a02ae2e5",
   "metadata": {
    "execution": {
     "iopub.execute_input": "2025-09-16T05:26:03.564827Z",
     "iopub.status.busy": "2025-09-16T05:26:03.564670Z",
     "iopub.status.idle": "2025-09-16T05:26:05.080187Z",
     "shell.execute_reply": "2025-09-16T05:26:05.079606Z"
    }
   },
   "outputs": [
    {
     "name": "stderr",
     "output_type": "stream",
     "text": [
      "/home/runner/work/dacapo-toolbox/dacapo-toolbox/.venv/lib/python3.11/site-packages/tqdm/auto.py:21: TqdmWarning: IProgress not found. Please update jupyter and ipywidgets. See https://ipywidgets.readthedocs.io/en/stable/user_install.html\n",
      "  from .autonotebook import tqdm as notebook_tqdm\n"
     ]
    }
   ],
   "source": [
    "from dacapo_toolbox.dataset import (\n",
    "    iterable_dataset,\n",
    "    DeformAugmentConfig,\n",
    "    SimpleAugmentConfig,\n",
    ")"
   ]
  },
  {
   "cell_type": "code",
   "execution_count": 6,
   "id": "aab855ad",
   "metadata": {
    "execution": {
     "iopub.execute_input": "2025-09-16T05:26:05.082103Z",
     "iopub.status.busy": "2025-09-16T05:26:05.081544Z",
     "iopub.status.idle": "2025-09-16T05:26:05.091795Z",
     "shell.execute_reply": "2025-09-16T05:26:05.091405Z"
    }
   },
   "outputs": [
    {
     "name": "stderr",
     "output_type": "stream",
     "text": [
      "/home/runner/work/dacapo-toolbox/dacapo-toolbox/.venv/lib/python3.11/site-packages/gunpowder/nodes/deform_augment.py:164: UserWarning: Rotating with anisotropic control point spacingmay lead to exaggerated stretching.\n",
      "  warnings.warn(\n"
     ]
    }
   ],
   "source": [
    "train_dataset = iterable_dataset(\n",
    "    datasets={\"raw\": raw_train, \"gt\": labels_train},\n",
    "    shapes={\"raw\": (13, 256, 256), \"gt\": (13, 256, 256)},\n",
    "    deform_augment_config=DeformAugmentConfig(\n",
    "        p=0.1,\n",
    "        control_point_spacing=(2, 10, 10),\n",
    "        jitter_sigma=(0.5, 2, 2),\n",
    "        rotate=True,\n",
    "        subsample=4,\n",
    "        rotation_axes=(1, 2),\n",
    "        scale_interval=(1.0, 1.0),\n",
    "    ),\n",
    "    simple_augment_config=SimpleAugmentConfig(\n",
    "        p=1.0,\n",
    "        mirror_only=(1, 2),\n",
    "        transpose_only=(1, 2),\n",
    "    ),\n",
    "    trim=Coordinate(5, 5, 5),\n",
    ")\n",
    "batch_gen = iter(train_dataset)"
   ]
  },
  {
   "cell_type": "code",
   "execution_count": 7,
   "id": "9d3293db",
   "metadata": {
    "execution": {
     "iopub.execute_input": "2025-09-16T05:26:05.093151Z",
     "iopub.status.busy": "2025-09-16T05:26:05.092982Z",
     "iopub.status.idle": "2025-09-16T05:26:14.436575Z",
     "shell.execute_reply": "2025-09-16T05:26:14.435950Z"
    }
   },
   "outputs": [],
   "source": [
    "batch = next(batch_gen)\n",
    "gif_2d(\n",
    "    arrays={\n",
    "        \"Raw\": Array(batch[\"raw\"].numpy(), voxel_size=raw_train.voxel_size),\n",
    "        \"Labels\": Array(batch[\"gt\"].numpy(), voxel_size=labels_train.voxel_size),\n",
    "    },\n",
    "    array_types={\"Raw\": \"raw\", \"Labels\": \"labels\"},\n",
    "    filename=\"_static/cremi/simple-batch.gif\",\n",
    "    title=\"Simple Batch\",\n",
    "    fps=10,\n",
    ")\n",
    "cube(\n",
    "    arrays={\n",
    "        \"Raw\": Array(batch[\"raw\"].numpy(), voxel_size=raw_train.voxel_size),\n",
    "        \"Labels\": Array(batch[\"gt\"].numpy(), voxel_size=labels_train.voxel_size),\n",
    "    },\n",
    "    array_types={\"Raw\": \"raw\", \"Labels\": \"labels\"},\n",
    "    filename=\"_static/cremi/simple-batch.jpg\",\n",
    "    title=\"Simple Batch\",\n",
    ")"
   ]
  },
  {
   "cell_type": "markdown",
   "id": "3f6fea5a",
   "metadata": {
    "lines_to_next_cell": 2
   },
   "source": [
    "Here we visualize the training data:\n",
    "![simple-batch](_static/cremi/simple-batch.gif)\n",
    "![simple-batch-cube](_static/cremi/simple-batch.jpg)"
   ]
  },
  {
   "cell_type": "markdown",
   "id": "e41e2780",
   "metadata": {},
   "source": [
    "### Tasks\n",
    "When training for instance segmentation, it is not possible to directly predict label ids since the ids have to be unique accross the full volume which is not possible to do with the local context that a UNet operates on. So instead we need to transform our labels into some intermediate representation that is both easy to predict and easy to post process. The most common method we use is a combination of [affinities](https://arxiv.org/pdf/1706.00120) with optional [lsds](https://github.com/funkelab/lsd) for prediction plus [mutex watershed](https://arxiv.org/abs/1904.12654) for post processing.\n",
    "\n",
    "Next we will define the task that encapsulates this process."
   ]
  },
  {
   "cell_type": "code",
   "execution_count": 8,
   "id": "aa0c70e5",
   "metadata": {
    "execution": {
     "iopub.execute_input": "2025-09-16T05:26:14.438494Z",
     "iopub.status.busy": "2025-09-16T05:26:14.438321Z",
     "iopub.status.idle": "2025-09-16T05:26:17.431712Z",
     "shell.execute_reply": "2025-09-16T05:26:17.431175Z"
    }
   },
   "outputs": [
    {
     "name": "stderr",
     "output_type": "stream",
     "text": [
      "/home/runner/work/dacapo-toolbox/dacapo-toolbox/.venv/lib/python3.11/site-packages/gunpowder/nodes/deform_augment.py:164: UserWarning: Rotating with anisotropic control point spacingmay lead to exaggerated stretching.\n",
      "  warnings.warn(\n"
     ]
    }
   ],
   "source": [
    "from dacapo_toolbox.transforms.affs import Affs, AffsMask\n",
    "from dacapo_toolbox.transforms.weight_balancing import BalanceLabels\n",
    "import torchvision\n",
    "\n",
    "neighborhood = [\n",
    "    (1, 0, 0),\n",
    "    (0, 1, 0),\n",
    "    (0, 0, 1),\n",
    "    (0, 7, 0),\n",
    "    (0, 0, 7),\n",
    "    (0, 23, 0),\n",
    "    (0, 0, 23),\n",
    "]\n",
    "train_dataset = iterable_dataset(\n",
    "    datasets={\"raw\": raw_train, \"gt\": labels_train},\n",
    "    shapes={\"raw\": (13, 256, 256), \"gt\": (13, 256, 256)},\n",
    "    transforms={\n",
    "        (\"gt\", \"affs\"): Affs(neighborhood=neighborhood, concat_dim=0),\n",
    "        (\"gt\", \"affs_mask\"): AffsMask(neighborhood=neighborhood),\n",
    "    },\n",
    "    deform_augment_config=DeformAugmentConfig(\n",
    "        p=0.1,\n",
    "        control_point_spacing=(2, 10, 10),\n",
    "        jitter_sigma=(0.5, 2, 2),\n",
    "        rotate=True,\n",
    "        subsample=4,\n",
    "        rotation_axes=(1, 2),\n",
    "        scale_interval=(1.0, 1.0),\n",
    "    ),\n",
    "    simple_augment_config=SimpleAugmentConfig(\n",
    "        p=1.0,\n",
    "        mirror_only=(1, 2),\n",
    "        transpose_only=(1, 2),\n",
    "    ),\n",
    ")\n",
    "\n",
    "batch_gen = iter(train_dataset)"
   ]
  },
  {
   "cell_type": "code",
   "execution_count": 9,
   "id": "40aed112",
   "metadata": {
    "execution": {
     "iopub.execute_input": "2025-09-16T05:26:17.433622Z",
     "iopub.status.busy": "2025-09-16T05:26:17.433104Z",
     "iopub.status.idle": "2025-09-16T05:26:35.425974Z",
     "shell.execute_reply": "2025-09-16T05:26:35.425541Z"
    }
   },
   "outputs": [],
   "source": [
    "batch = next(batch_gen)\n",
    "gif_2d(\n",
    "    arrays={\n",
    "        \"Raw\": Array(batch[\"raw\"].numpy(), voxel_size=raw_train.voxel_size),\n",
    "        \"GT\": Array(batch[\"gt\"].numpy() % 256, voxel_size=raw_train.voxel_size),\n",
    "        \"Affs\": Array(\n",
    "            batch[\"affs\"].float().numpy()[[0, 3, 4]],\n",
    "            voxel_size=raw_train.voxel_size,\n",
    "        ),\n",
    "        \"Affs Mask\": Array(\n",
    "            batch[\"affs_mask\"].float().numpy()[[0, 3, 4]],\n",
    "            voxel_size=raw_train.voxel_size,\n",
    "        ),\n",
    "    },\n",
    "    array_types={\n",
    "        \"Raw\": \"raw\",\n",
    "        \"GT\": \"labels\",\n",
    "        \"Affs\": \"affs\",\n",
    "        \"Affs Mask\": \"affs\",\n",
    "    },\n",
    "    filename=\"_static/cremi/affs-batch.gif\",\n",
    "    title=\"Affinities Batch\",\n",
    "    fps=10,\n",
    ")\n",
    "cube(\n",
    "    arrays={\n",
    "        \"Raw\": Array(batch[\"raw\"].numpy(), voxel_size=raw_train.voxel_size),\n",
    "        \"GT\": Array(batch[\"gt\"].numpy(), voxel_size=raw_train.voxel_size),\n",
    "        \"Affs\": Array(\n",
    "            batch[\"affs\"].float().numpy()[[0, 3, 4]],\n",
    "            voxel_size=raw_train.voxel_size,\n",
    "        ),\n",
    "        \"Affs Mask\": Array(\n",
    "            batch[\"affs_mask\"].float().numpy()[[0, 3, 4]],\n",
    "            voxel_size=raw_train.voxel_size,\n",
    "        ),\n",
    "    },\n",
    "    array_types={\n",
    "        \"Raw\": \"raw\",\n",
    "        \"GT\": \"labels\",\n",
    "        \"Affs\": \"affs\",\n",
    "        \"Affs Mask\": \"affs\",\n",
    "    },\n",
    "    filename=\"_static/cremi/affs-batch.jpg\",\n",
    "    title=\"Affinities Batch\",\n",
    ")"
   ]
  },
  {
   "cell_type": "markdown",
   "id": "64cc2cb2",
   "metadata": {},
   "source": [
    "Here we visualize a batch with (raw, gt, target) triplets for the affinities task:\n",
    "![affs-batch](_static/cremi/affs-batch.gif)\n",
    "![affs-batch-cube](_static/cremi/affs-batch.jpg)"
   ]
  },
  {
   "cell_type": "markdown",
   "id": "eabc86d2",
   "metadata": {},
   "source": [
    "### Models\n",
    "Lets define our model"
   ]
  },
  {
   "cell_type": "code",
   "execution_count": 10,
   "id": "1e5b0476",
   "metadata": {
    "execution": {
     "iopub.execute_input": "2025-09-16T05:26:35.427713Z",
     "iopub.status.busy": "2025-09-16T05:26:35.427560Z",
     "iopub.status.idle": "2025-09-16T05:26:36.170255Z",
     "shell.execute_reply": "2025-09-16T05:26:36.169732Z"
    }
   },
   "outputs": [],
   "source": [
    "import tems\n",
    "import torch\n",
    "\n",
    "\n",
    "if torch.cuda.is_available():\n",
    "    device = torch.device(\"cuda\")\n",
    "elif torch.backends.mps.is_available():\n",
    "    device = torch.device(\"cpu\")\n",
    "else:\n",
    "    device = torch.device(\"cpu\")\n",
    "\n",
    "unet = tems.UNet.funlib_api(\n",
    "    dims=3,\n",
    "    in_channels=1,\n",
    "    num_fmaps=32,\n",
    "    fmap_inc_factor=4,\n",
    "    downsample_factors=[(1, 2, 2), (1, 2, 2), (1, 2, 2)],\n",
    "    kernel_size_down=[\n",
    "        [(1, 3, 3), (1, 3, 3)],\n",
    "        [(1, 3, 3), (1, 3, 3)],\n",
    "        [(1, 3, 3), (1, 3, 3)],\n",
    "        [(1, 3, 3), (1, 3, 3)],\n",
    "    ],\n",
    "    kernel_size_up=[\n",
    "        [(1, 3, 3), (1, 3, 3)],\n",
    "        [(1, 3, 3), (1, 3, 3)],\n",
    "        [(3, 3, 3), (3, 3, 3)],\n",
    "    ],\n",
    "    activation=\"LeakyReLU\",\n",
    ")\n",
    "\n",
    "# Small sigmoid wrapper to apply sigmoid only when not training\n",
    "# this is because training BCEWithLogitsLoss is more stable\n",
    "# than training with a sigmoid followed by BCELoss\n",
    "class SigmoidWrapper(torch.nn.Module):\n",
    "    def __init__(self, model):\n",
    "        super().__init__()\n",
    "        self.model = model\n",
    "        self.apply_sigmoid = True\n",
    "\n",
    "    def forward(self, x):\n",
    "        logits = self.model(x)\n",
    "        if self.apply_sigmoid and not self.training:\n",
    "            return torch.sigmoid(logits)\n",
    "        return logits\n",
    "\n",
    "\n",
    "module = SigmoidWrapper(\n",
    "    torch.nn.Sequential(unet, torch.nn.Conv3d(32, len(neighborhood), kernel_size=1))\n",
    ").to(device)"
   ]
  },
  {
   "cell_type": "markdown",
   "id": "eb300dc0",
   "metadata": {},
   "source": [
    "### Training loop\n",
    "Now we can bring everything together and train our model."
   ]
  },
  {
   "cell_type": "code",
   "execution_count": 11,
   "id": "31a7f62d",
   "metadata": {
    "execution": {
     "iopub.execute_input": "2025-09-16T05:26:36.171957Z",
     "iopub.status.busy": "2025-09-16T05:26:36.171807Z",
     "iopub.status.idle": "2025-09-16T07:08:33.979290Z",
     "shell.execute_reply": "2025-09-16T07:08:33.978737Z"
    }
   },
   "outputs": [
    {
     "name": "stderr",
     "output_type": "stream",
     "text": [
      "/home/runner/work/dacapo-toolbox/dacapo-toolbox/.venv/lib/python3.11/site-packages/gunpowder/nodes/deform_augment.py:164: UserWarning: Rotating with anisotropic control point spacingmay lead to exaggerated stretching.\n",
      "  warnings.warn(\n"
     ]
    },
    {
     "name": "stderr",
     "output_type": "stream",
     "text": [
      "\r",
      "0it [00:00, ?it/s]"
     ]
    },
    {
     "name": "stderr",
     "output_type": "stream",
     "text": [
      "\r",
      "1it [00:22, 22.32s/it]"
     ]
    },
    {
     "name": "stderr",
     "output_type": "stream",
     "text": [
      "\r",
      "2it [00:43, 21.40s/it]"
     ]
    },
    {
     "name": "stderr",
     "output_type": "stream",
     "text": [
      "\r",
      "3it [01:03, 21.04s/it]"
     ]
    },
    {
     "name": "stderr",
     "output_type": "stream",
     "text": [
      "\r",
      "4it [01:23, 20.74s/it]"
     ]
    },
    {
     "name": "stderr",
     "output_type": "stream",
     "text": [
      "\r",
      "5it [01:44, 20.67s/it]"
     ]
    },
    {
     "name": "stderr",
     "output_type": "stream",
     "text": [
      "\r",
      "6it [02:04, 20.52s/it]"
     ]
    },
    {
     "name": "stderr",
     "output_type": "stream",
     "text": [
      "\r",
      "7it [02:24, 20.43s/it]"
     ]
    },
    {
     "name": "stderr",
     "output_type": "stream",
     "text": [
      "\r",
      "8it [02:45, 20.36s/it]"
     ]
    },
    {
     "name": "stderr",
     "output_type": "stream",
     "text": [
      "\r",
      "9it [03:05, 20.40s/it]"
     ]
    },
    {
     "name": "stderr",
     "output_type": "stream",
     "text": [
      "\r",
      "10it [03:25, 20.35s/it]"
     ]
    },
    {
     "name": "stderr",
     "output_type": "stream",
     "text": [
      "\r",
      "11it [03:46, 20.31s/it]"
     ]
    },
    {
     "name": "stderr",
     "output_type": "stream",
     "text": [
      "\r",
      "12it [04:06, 20.28s/it]"
     ]
    },
    {
     "name": "stderr",
     "output_type": "stream",
     "text": [
      "\r",
      "13it [04:26, 20.33s/it]"
     ]
    },
    {
     "name": "stderr",
     "output_type": "stream",
     "text": [
      "\r",
      "14it [04:47, 20.31s/it]"
     ]
    },
    {
     "name": "stderr",
     "output_type": "stream",
     "text": [
      "\r",
      "15it [05:07, 20.29s/it]"
     ]
    },
    {
     "name": "stderr",
     "output_type": "stream",
     "text": [
      "\r",
      "16it [05:27, 20.27s/it]"
     ]
    },
    {
     "name": "stderr",
     "output_type": "stream",
     "text": [
      "\r",
      "17it [05:47, 20.28s/it]"
     ]
    },
    {
     "name": "stderr",
     "output_type": "stream",
     "text": [
      "\r",
      "18it [06:08, 20.28s/it]"
     ]
    },
    {
     "name": "stderr",
     "output_type": "stream",
     "text": [
      "\r",
      "19it [06:28, 20.27s/it]"
     ]
    },
    {
     "name": "stderr",
     "output_type": "stream",
     "text": [
      "\r",
      "20it [06:48, 20.35s/it]"
     ]
    },
    {
     "name": "stderr",
     "output_type": "stream",
     "text": [
      "\r",
      "21it [07:09, 20.32s/it]"
     ]
    },
    {
     "name": "stderr",
     "output_type": "stream",
     "text": [
      "\r",
      "22it [07:29, 20.32s/it]"
     ]
    },
    {
     "name": "stderr",
     "output_type": "stream",
     "text": [
      "\r",
      "23it [07:50, 20.40s/it]"
     ]
    },
    {
     "name": "stderr",
     "output_type": "stream",
     "text": [
      "\r",
      "24it [08:10, 20.45s/it]"
     ]
    },
    {
     "name": "stderr",
     "output_type": "stream",
     "text": [
      "\r",
      "25it [08:31, 20.54s/it]"
     ]
    },
    {
     "name": "stderr",
     "output_type": "stream",
     "text": [
      "\r",
      "26it [08:51, 20.45s/it]"
     ]
    },
    {
     "name": "stderr",
     "output_type": "stream",
     "text": [
      "\r",
      "27it [09:11, 20.37s/it]"
     ]
    },
    {
     "name": "stderr",
     "output_type": "stream",
     "text": [
      "\r",
      "28it [09:31, 20.32s/it]"
     ]
    },
    {
     "name": "stderr",
     "output_type": "stream",
     "text": [
      "\r",
      "29it [09:52, 20.28s/it]"
     ]
    },
    {
     "name": "stderr",
     "output_type": "stream",
     "text": [
      "\r",
      "30it [10:12, 20.27s/it]"
     ]
    },
    {
     "name": "stderr",
     "output_type": "stream",
     "text": [
      "\r",
      "31it [10:32, 20.25s/it]"
     ]
    },
    {
     "name": "stderr",
     "output_type": "stream",
     "text": [
      "\r",
      "32it [10:52, 20.24s/it]"
     ]
    },
    {
     "name": "stderr",
     "output_type": "stream",
     "text": [
      "\r",
      "33it [11:13, 20.23s/it]"
     ]
    },
    {
     "name": "stderr",
     "output_type": "stream",
     "text": [
      "\r",
      "34it [11:33, 20.37s/it]"
     ]
    },
    {
     "name": "stderr",
     "output_type": "stream",
     "text": [
      "\r",
      "35it [11:53, 20.32s/it]"
     ]
    },
    {
     "name": "stderr",
     "output_type": "stream",
     "text": [
      "\r",
      "36it [12:14, 20.28s/it]"
     ]
    },
    {
     "name": "stderr",
     "output_type": "stream",
     "text": [
      "\r",
      "37it [12:34, 20.28s/it]"
     ]
    },
    {
     "name": "stderr",
     "output_type": "stream",
     "text": [
      "\r",
      "38it [12:55, 20.47s/it]"
     ]
    },
    {
     "name": "stderr",
     "output_type": "stream",
     "text": [
      "\r",
      "39it [13:15, 20.42s/it]"
     ]
    },
    {
     "name": "stderr",
     "output_type": "stream",
     "text": [
      "\r",
      "40it [13:35, 20.37s/it]"
     ]
    },
    {
     "name": "stderr",
     "output_type": "stream",
     "text": [
      "\r",
      "41it [13:56, 20.34s/it]"
     ]
    },
    {
     "name": "stderr",
     "output_type": "stream",
     "text": [
      "\r",
      "42it [14:16, 20.31s/it]"
     ]
    },
    {
     "name": "stderr",
     "output_type": "stream",
     "text": [
      "\r",
      "43it [14:36, 20.29s/it]"
     ]
    },
    {
     "name": "stderr",
     "output_type": "stream",
     "text": [
      "\r",
      "44it [14:56, 20.28s/it]"
     ]
    },
    {
     "name": "stderr",
     "output_type": "stream",
     "text": [
      "\r",
      "45it [15:17, 20.26s/it]"
     ]
    },
    {
     "name": "stderr",
     "output_type": "stream",
     "text": [
      "\r",
      "46it [15:37, 20.24s/it]"
     ]
    },
    {
     "name": "stderr",
     "output_type": "stream",
     "text": [
      "\r",
      "47it [15:57, 20.24s/it]"
     ]
    },
    {
     "name": "stderr",
     "output_type": "stream",
     "text": [
      "\r",
      "48it [16:17, 20.23s/it]"
     ]
    },
    {
     "name": "stderr",
     "output_type": "stream",
     "text": [
      "\r",
      "49it [16:37, 20.24s/it]"
     ]
    },
    {
     "name": "stderr",
     "output_type": "stream",
     "text": [
      "\r",
      "50it [16:58, 20.23s/it]"
     ]
    },
    {
     "name": "stderr",
     "output_type": "stream",
     "text": [
      "\r",
      "51it [17:18, 20.23s/it]"
     ]
    },
    {
     "name": "stderr",
     "output_type": "stream",
     "text": [
      "\r",
      "52it [17:38, 20.24s/it]"
     ]
    },
    {
     "name": "stderr",
     "output_type": "stream",
     "text": [
      "\r",
      "53it [17:58, 20.23s/it]"
     ]
    },
    {
     "name": "stderr",
     "output_type": "stream",
     "text": [
      "\r",
      "54it [18:19, 20.23s/it]"
     ]
    },
    {
     "name": "stderr",
     "output_type": "stream",
     "text": [
      "\r",
      "55it [18:39, 20.23s/it]"
     ]
    },
    {
     "name": "stderr",
     "output_type": "stream",
     "text": [
      "\r",
      "56it [18:59, 20.22s/it]"
     ]
    },
    {
     "name": "stderr",
     "output_type": "stream",
     "text": [
      "\r",
      "57it [19:19, 20.21s/it]"
     ]
    },
    {
     "name": "stderr",
     "output_type": "stream",
     "text": [
      "\r",
      "58it [19:40, 20.22s/it]"
     ]
    },
    {
     "name": "stderr",
     "output_type": "stream",
     "text": [
      "\r",
      "59it [20:00, 20.24s/it]"
     ]
    },
    {
     "name": "stderr",
     "output_type": "stream",
     "text": [
      "\r",
      "60it [20:20, 20.31s/it]"
     ]
    },
    {
     "name": "stderr",
     "output_type": "stream",
     "text": [
      "\r",
      "61it [20:41, 20.30s/it]"
     ]
    },
    {
     "name": "stderr",
     "output_type": "stream",
     "text": [
      "\r",
      "62it [21:01, 20.28s/it]"
     ]
    },
    {
     "name": "stderr",
     "output_type": "stream",
     "text": [
      "\r",
      "63it [21:21, 20.26s/it]"
     ]
    },
    {
     "name": "stderr",
     "output_type": "stream",
     "text": [
      "\r",
      "64it [21:41, 20.24s/it]"
     ]
    },
    {
     "name": "stderr",
     "output_type": "stream",
     "text": [
      "\r",
      "65it [22:01, 20.24s/it]"
     ]
    },
    {
     "name": "stderr",
     "output_type": "stream",
     "text": [
      "\r",
      "66it [22:22, 20.22s/it]"
     ]
    },
    {
     "name": "stderr",
     "output_type": "stream",
     "text": [
      "\r",
      "67it [22:42, 20.23s/it]"
     ]
    },
    {
     "name": "stderr",
     "output_type": "stream",
     "text": [
      "\r",
      "68it [23:02, 20.22s/it]"
     ]
    },
    {
     "name": "stderr",
     "output_type": "stream",
     "text": [
      "\r",
      "69it [23:23, 20.32s/it]"
     ]
    },
    {
     "name": "stderr",
     "output_type": "stream",
     "text": [
      "\r",
      "70it [23:43, 20.30s/it]"
     ]
    },
    {
     "name": "stderr",
     "output_type": "stream",
     "text": [
      "\r",
      "71it [24:03, 20.28s/it]"
     ]
    },
    {
     "name": "stderr",
     "output_type": "stream",
     "text": [
      "\r",
      "72it [24:23, 20.26s/it]"
     ]
    },
    {
     "name": "stderr",
     "output_type": "stream",
     "text": [
      "\r",
      "73it [24:44, 20.25s/it]"
     ]
    },
    {
     "name": "stderr",
     "output_type": "stream",
     "text": [
      "\r",
      "74it [25:04, 20.24s/it]"
     ]
    },
    {
     "name": "stderr",
     "output_type": "stream",
     "text": [
      "\r",
      "75it [25:24, 20.30s/it]"
     ]
    },
    {
     "name": "stderr",
     "output_type": "stream",
     "text": [
      "\r",
      "76it [25:45, 20.34s/it]"
     ]
    },
    {
     "name": "stderr",
     "output_type": "stream",
     "text": [
      "\r",
      "77it [26:05, 20.30s/it]"
     ]
    },
    {
     "name": "stderr",
     "output_type": "stream",
     "text": [
      "\r",
      "78it [26:25, 20.27s/it]"
     ]
    },
    {
     "name": "stderr",
     "output_type": "stream",
     "text": [
      "\r",
      "79it [26:45, 20.27s/it]"
     ]
    },
    {
     "name": "stderr",
     "output_type": "stream",
     "text": [
      "\r",
      "80it [27:06, 20.26s/it]"
     ]
    },
    {
     "name": "stderr",
     "output_type": "stream",
     "text": [
      "\r",
      "81it [27:26, 20.25s/it]"
     ]
    },
    {
     "name": "stderr",
     "output_type": "stream",
     "text": [
      "\r",
      "82it [27:46, 20.24s/it]"
     ]
    },
    {
     "name": "stderr",
     "output_type": "stream",
     "text": [
      "\r",
      "83it [28:06, 20.23s/it]"
     ]
    },
    {
     "name": "stderr",
     "output_type": "stream",
     "text": [
      "\r",
      "84it [28:26, 20.22s/it]"
     ]
    },
    {
     "name": "stderr",
     "output_type": "stream",
     "text": [
      "\r",
      "85it [28:47, 20.29s/it]"
     ]
    },
    {
     "name": "stderr",
     "output_type": "stream",
     "text": [
      "\r",
      "86it [29:07, 20.26s/it]"
     ]
    },
    {
     "name": "stderr",
     "output_type": "stream",
     "text": [
      "\r",
      "87it [29:27, 20.23s/it]"
     ]
    },
    {
     "name": "stderr",
     "output_type": "stream",
     "text": [
      "\r",
      "88it [29:47, 20.24s/it]"
     ]
    },
    {
     "name": "stderr",
     "output_type": "stream",
     "text": [
      "\r",
      "89it [30:08, 20.23s/it]"
     ]
    },
    {
     "name": "stderr",
     "output_type": "stream",
     "text": [
      "\r",
      "90it [30:28, 20.23s/it]"
     ]
    },
    {
     "name": "stderr",
     "output_type": "stream",
     "text": [
      "\r",
      "91it [30:48, 20.24s/it]"
     ]
    },
    {
     "name": "stderr",
     "output_type": "stream",
     "text": [
      "\r",
      "92it [31:09, 20.32s/it]"
     ]
    },
    {
     "name": "stderr",
     "output_type": "stream",
     "text": [
      "\r",
      "93it [31:29, 20.28s/it]"
     ]
    },
    {
     "name": "stderr",
     "output_type": "stream",
     "text": [
      "\r",
      "94it [31:49, 20.27s/it]"
     ]
    },
    {
     "name": "stderr",
     "output_type": "stream",
     "text": [
      "\r",
      "95it [32:09, 20.25s/it]"
     ]
    },
    {
     "name": "stderr",
     "output_type": "stream",
     "text": [
      "\r",
      "96it [32:30, 20.31s/it]"
     ]
    },
    {
     "name": "stderr",
     "output_type": "stream",
     "text": [
      "\r",
      "97it [32:50, 20.27s/it]"
     ]
    },
    {
     "name": "stderr",
     "output_type": "stream",
     "text": [
      "\r",
      "98it [33:10, 20.34s/it]"
     ]
    },
    {
     "name": "stderr",
     "output_type": "stream",
     "text": [
      "\r",
      "99it [33:31, 20.31s/it]"
     ]
    },
    {
     "name": "stderr",
     "output_type": "stream",
     "text": [
      "\r",
      "100it [33:51, 20.29s/it]"
     ]
    },
    {
     "name": "stderr",
     "output_type": "stream",
     "text": [
      "\r",
      "101it [34:11, 20.27s/it]"
     ]
    },
    {
     "name": "stderr",
     "output_type": "stream",
     "text": [
      "\r",
      "102it [34:31, 20.26s/it]"
     ]
    },
    {
     "name": "stderr",
     "output_type": "stream",
     "text": [
      "\r",
      "103it [34:52, 20.25s/it]"
     ]
    },
    {
     "name": "stderr",
     "output_type": "stream",
     "text": [
      "\r",
      "104it [35:12, 20.23s/it]"
     ]
    },
    {
     "name": "stderr",
     "output_type": "stream",
     "text": [
      "\r",
      "105it [35:32, 20.22s/it]"
     ]
    },
    {
     "name": "stderr",
     "output_type": "stream",
     "text": [
      "\r",
      "106it [35:52, 20.22s/it]"
     ]
    },
    {
     "name": "stderr",
     "output_type": "stream",
     "text": [
      "\r",
      "107it [36:12, 20.22s/it]"
     ]
    },
    {
     "name": "stderr",
     "output_type": "stream",
     "text": [
      "\r",
      "108it [36:33, 20.23s/it]"
     ]
    },
    {
     "name": "stderr",
     "output_type": "stream",
     "text": [
      "\r",
      "109it [36:53, 20.24s/it]"
     ]
    },
    {
     "name": "stderr",
     "output_type": "stream",
     "text": [
      "\r",
      "110it [37:13, 20.24s/it]"
     ]
    },
    {
     "name": "stderr",
     "output_type": "stream",
     "text": [
      "\r",
      "111it [37:33, 20.24s/it]"
     ]
    },
    {
     "name": "stderr",
     "output_type": "stream",
     "text": [
      "\r",
      "112it [37:54, 20.24s/it]"
     ]
    },
    {
     "name": "stderr",
     "output_type": "stream",
     "text": [
      "\r",
      "113it [38:14, 20.37s/it]"
     ]
    },
    {
     "name": "stderr",
     "output_type": "stream",
     "text": [
      "\r",
      "114it [38:35, 20.39s/it]"
     ]
    },
    {
     "name": "stderr",
     "output_type": "stream",
     "text": [
      "\r",
      "115it [38:55, 20.34s/it]"
     ]
    },
    {
     "name": "stderr",
     "output_type": "stream",
     "text": [
      "\r",
      "116it [39:15, 20.30s/it]"
     ]
    },
    {
     "name": "stderr",
     "output_type": "stream",
     "text": [
      "\r",
      "117it [39:35, 20.27s/it]"
     ]
    },
    {
     "name": "stderr",
     "output_type": "stream",
     "text": [
      "\r",
      "118it [39:56, 20.45s/it]"
     ]
    },
    {
     "name": "stderr",
     "output_type": "stream",
     "text": [
      "\r",
      "119it [40:17, 20.39s/it]"
     ]
    },
    {
     "name": "stderr",
     "output_type": "stream",
     "text": [
      "\r",
      "120it [40:37, 20.44s/it]"
     ]
    },
    {
     "name": "stderr",
     "output_type": "stream",
     "text": [
      "\r",
      "121it [40:58, 20.47s/it]"
     ]
    },
    {
     "name": "stderr",
     "output_type": "stream",
     "text": [
      "\r",
      "122it [41:18, 20.40s/it]"
     ]
    },
    {
     "name": "stderr",
     "output_type": "stream",
     "text": [
      "\r",
      "123it [41:38, 20.44s/it]"
     ]
    },
    {
     "name": "stderr",
     "output_type": "stream",
     "text": [
      "\r",
      "124it [41:59, 20.47s/it]"
     ]
    },
    {
     "name": "stderr",
     "output_type": "stream",
     "text": [
      "\r",
      "125it [42:19, 20.47s/it]"
     ]
    },
    {
     "name": "stderr",
     "output_type": "stream",
     "text": [
      "\r",
      "126it [42:40, 20.40s/it]"
     ]
    },
    {
     "name": "stderr",
     "output_type": "stream",
     "text": [
      "\r",
      "127it [43:00, 20.35s/it]"
     ]
    },
    {
     "name": "stderr",
     "output_type": "stream",
     "text": [
      "\r",
      "128it [43:20, 20.32s/it]"
     ]
    },
    {
     "name": "stderr",
     "output_type": "stream",
     "text": [
      "\r",
      "129it [43:40, 20.31s/it]"
     ]
    },
    {
     "name": "stderr",
     "output_type": "stream",
     "text": [
      "\r",
      "130it [44:01, 20.28s/it]"
     ]
    },
    {
     "name": "stderr",
     "output_type": "stream",
     "text": [
      "\r",
      "131it [44:21, 20.26s/it]"
     ]
    },
    {
     "name": "stderr",
     "output_type": "stream",
     "text": [
      "\r",
      "132it [44:41, 20.35s/it]"
     ]
    },
    {
     "name": "stderr",
     "output_type": "stream",
     "text": [
      "\r",
      "133it [45:02, 20.31s/it]"
     ]
    },
    {
     "name": "stderr",
     "output_type": "stream",
     "text": [
      "\r",
      "134it [45:22, 20.29s/it]"
     ]
    },
    {
     "name": "stderr",
     "output_type": "stream",
     "text": [
      "\r",
      "135it [45:42, 20.26s/it]"
     ]
    },
    {
     "name": "stderr",
     "output_type": "stream",
     "text": [
      "\r",
      "136it [46:02, 20.24s/it]"
     ]
    },
    {
     "name": "stderr",
     "output_type": "stream",
     "text": [
      "\r",
      "137it [46:22, 20.24s/it]"
     ]
    },
    {
     "name": "stderr",
     "output_type": "stream",
     "text": [
      "\r",
      "138it [46:43, 20.25s/it]"
     ]
    },
    {
     "name": "stderr",
     "output_type": "stream",
     "text": [
      "\r",
      "139it [47:03, 20.24s/it]"
     ]
    },
    {
     "name": "stderr",
     "output_type": "stream",
     "text": [
      "\r",
      "140it [47:23, 20.25s/it]"
     ]
    },
    {
     "name": "stderr",
     "output_type": "stream",
     "text": [
      "\r",
      "141it [47:43, 20.25s/it]"
     ]
    },
    {
     "name": "stderr",
     "output_type": "stream",
     "text": [
      "\r",
      "142it [48:04, 20.31s/it]"
     ]
    },
    {
     "name": "stderr",
     "output_type": "stream",
     "text": [
      "\r",
      "143it [48:24, 20.27s/it]"
     ]
    },
    {
     "name": "stderr",
     "output_type": "stream",
     "text": [
      "\r",
      "144it [48:44, 20.26s/it]"
     ]
    },
    {
     "name": "stderr",
     "output_type": "stream",
     "text": [
      "\r",
      "145it [49:05, 20.25s/it]"
     ]
    },
    {
     "name": "stderr",
     "output_type": "stream",
     "text": [
      "\r",
      "146it [49:25, 20.24s/it]"
     ]
    },
    {
     "name": "stderr",
     "output_type": "stream",
     "text": [
      "\r",
      "147it [49:45, 20.30s/it]"
     ]
    },
    {
     "name": "stderr",
     "output_type": "stream",
     "text": [
      "\r",
      "148it [50:05, 20.28s/it]"
     ]
    },
    {
     "name": "stderr",
     "output_type": "stream",
     "text": [
      "\r",
      "149it [50:26, 20.36s/it]"
     ]
    },
    {
     "name": "stderr",
     "output_type": "stream",
     "text": [
      "\r",
      "150it [50:47, 20.42s/it]"
     ]
    },
    {
     "name": "stderr",
     "output_type": "stream",
     "text": [
      "\r",
      "151it [51:07, 20.45s/it]"
     ]
    },
    {
     "name": "stderr",
     "output_type": "stream",
     "text": [
      "\r",
      "152it [51:27, 20.41s/it]"
     ]
    },
    {
     "name": "stderr",
     "output_type": "stream",
     "text": [
      "\r",
      "153it [51:48, 20.36s/it]"
     ]
    },
    {
     "name": "stderr",
     "output_type": "stream",
     "text": [
      "\r",
      "154it [52:08, 20.42s/it]"
     ]
    },
    {
     "name": "stderr",
     "output_type": "stream",
     "text": [
      "\r",
      "155it [52:28, 20.36s/it]"
     ]
    },
    {
     "name": "stderr",
     "output_type": "stream",
     "text": [
      "\r",
      "156it [52:49, 20.33s/it]"
     ]
    },
    {
     "name": "stderr",
     "output_type": "stream",
     "text": [
      "\r",
      "157it [53:09, 20.30s/it]"
     ]
    },
    {
     "name": "stderr",
     "output_type": "stream",
     "text": [
      "\r",
      "158it [53:29, 20.29s/it]"
     ]
    },
    {
     "name": "stderr",
     "output_type": "stream",
     "text": [
      "\r",
      "159it [53:49, 20.28s/it]"
     ]
    },
    {
     "name": "stderr",
     "output_type": "stream",
     "text": [
      "\r",
      "160it [54:10, 20.28s/it]"
     ]
    },
    {
     "name": "stderr",
     "output_type": "stream",
     "text": [
      "\r",
      "161it [54:30, 20.28s/it]"
     ]
    },
    {
     "name": "stderr",
     "output_type": "stream",
     "text": [
      "\r",
      "162it [54:50, 20.34s/it]"
     ]
    },
    {
     "name": "stderr",
     "output_type": "stream",
     "text": [
      "\r",
      "163it [55:11, 20.32s/it]"
     ]
    },
    {
     "name": "stderr",
     "output_type": "stream",
     "text": [
      "\r",
      "164it [55:31, 20.37s/it]"
     ]
    },
    {
     "name": "stderr",
     "output_type": "stream",
     "text": [
      "\r",
      "165it [55:51, 20.32s/it]"
     ]
    },
    {
     "name": "stderr",
     "output_type": "stream",
     "text": [
      "\r",
      "166it [56:12, 20.29s/it]"
     ]
    },
    {
     "name": "stderr",
     "output_type": "stream",
     "text": [
      "\r",
      "167it [56:32, 20.36s/it]"
     ]
    },
    {
     "name": "stderr",
     "output_type": "stream",
     "text": [
      "\r",
      "168it [56:52, 20.33s/it]"
     ]
    },
    {
     "name": "stderr",
     "output_type": "stream",
     "text": [
      "\r",
      "169it [57:13, 20.30s/it]"
     ]
    },
    {
     "name": "stderr",
     "output_type": "stream",
     "text": [
      "\r",
      "170it [57:33, 20.28s/it]"
     ]
    },
    {
     "name": "stderr",
     "output_type": "stream",
     "text": [
      "\r",
      "171it [57:53, 20.27s/it]"
     ]
    },
    {
     "name": "stderr",
     "output_type": "stream",
     "text": [
      "\r",
      "172it [58:14, 20.32s/it]"
     ]
    },
    {
     "name": "stderr",
     "output_type": "stream",
     "text": [
      "\r",
      "173it [58:34, 20.29s/it]"
     ]
    },
    {
     "name": "stderr",
     "output_type": "stream",
     "text": [
      "\r",
      "174it [58:54, 20.27s/it]"
     ]
    },
    {
     "name": "stderr",
     "output_type": "stream",
     "text": [
      "\r",
      "175it [59:14, 20.24s/it]"
     ]
    },
    {
     "name": "stderr",
     "output_type": "stream",
     "text": [
      "\r",
      "176it [59:34, 20.22s/it]"
     ]
    },
    {
     "name": "stderr",
     "output_type": "stream",
     "text": [
      "\r",
      "177it [59:55, 20.21s/it]"
     ]
    },
    {
     "name": "stderr",
     "output_type": "stream",
     "text": [
      "\r",
      "178it [1:00:15, 20.25s/it]"
     ]
    },
    {
     "name": "stderr",
     "output_type": "stream",
     "text": [
      "\r",
      "179it [1:00:35, 20.26s/it]"
     ]
    },
    {
     "name": "stderr",
     "output_type": "stream",
     "text": [
      "\r",
      "180it [1:00:55, 20.25s/it]"
     ]
    },
    {
     "name": "stderr",
     "output_type": "stream",
     "text": [
      "\r",
      "181it [1:01:16, 20.24s/it]"
     ]
    },
    {
     "name": "stderr",
     "output_type": "stream",
     "text": [
      "\r",
      "182it [1:01:36, 20.24s/it]"
     ]
    },
    {
     "name": "stderr",
     "output_type": "stream",
     "text": [
      "\r",
      "183it [1:01:56, 20.22s/it]"
     ]
    },
    {
     "name": "stderr",
     "output_type": "stream",
     "text": [
      "\r",
      "184it [1:02:16, 20.21s/it]"
     ]
    },
    {
     "name": "stderr",
     "output_type": "stream",
     "text": [
      "\r",
      "185it [1:02:37, 20.23s/it]"
     ]
    },
    {
     "name": "stderr",
     "output_type": "stream",
     "text": [
      "\r",
      "186it [1:02:57, 20.23s/it]"
     ]
    },
    {
     "name": "stderr",
     "output_type": "stream",
     "text": [
      "\r",
      "187it [1:03:17, 20.23s/it]"
     ]
    },
    {
     "name": "stderr",
     "output_type": "stream",
     "text": [
      "\r",
      "188it [1:03:37, 20.23s/it]"
     ]
    },
    {
     "name": "stderr",
     "output_type": "stream",
     "text": [
      "\r",
      "189it [1:03:57, 20.24s/it]"
     ]
    },
    {
     "name": "stderr",
     "output_type": "stream",
     "text": [
      "\r",
      "190it [1:04:18, 20.30s/it]"
     ]
    },
    {
     "name": "stderr",
     "output_type": "stream",
     "text": [
      "\r",
      "191it [1:04:38, 20.27s/it]"
     ]
    },
    {
     "name": "stderr",
     "output_type": "stream",
     "text": [
      "\r",
      "192it [1:04:59, 20.34s/it]"
     ]
    },
    {
     "name": "stderr",
     "output_type": "stream",
     "text": [
      "\r",
      "193it [1:05:19, 20.39s/it]"
     ]
    },
    {
     "name": "stderr",
     "output_type": "stream",
     "text": [
      "\r",
      "194it [1:05:40, 20.41s/it]"
     ]
    },
    {
     "name": "stderr",
     "output_type": "stream",
     "text": [
      "\r",
      "195it [1:06:00, 20.37s/it]"
     ]
    },
    {
     "name": "stderr",
     "output_type": "stream",
     "text": [
      "\r",
      "196it [1:06:20, 20.33s/it]"
     ]
    },
    {
     "name": "stderr",
     "output_type": "stream",
     "text": [
      "\r",
      "197it [1:06:40, 20.32s/it]"
     ]
    },
    {
     "name": "stderr",
     "output_type": "stream",
     "text": [
      "\r",
      "198it [1:07:01, 20.30s/it]"
     ]
    },
    {
     "name": "stderr",
     "output_type": "stream",
     "text": [
      "\r",
      "199it [1:07:21, 20.37s/it]"
     ]
    },
    {
     "name": "stderr",
     "output_type": "stream",
     "text": [
      "\r",
      "200it [1:07:42, 20.42s/it]"
     ]
    },
    {
     "name": "stderr",
     "output_type": "stream",
     "text": [
      "\r",
      "201it [1:08:02, 20.36s/it]"
     ]
    },
    {
     "name": "stderr",
     "output_type": "stream",
     "text": [
      "\r",
      "202it [1:08:22, 20.39s/it]"
     ]
    },
    {
     "name": "stderr",
     "output_type": "stream",
     "text": [
      "\r",
      "203it [1:08:43, 20.35s/it]"
     ]
    },
    {
     "name": "stderr",
     "output_type": "stream",
     "text": [
      "\r",
      "204it [1:09:03, 20.40s/it]"
     ]
    },
    {
     "name": "stderr",
     "output_type": "stream",
     "text": [
      "\r",
      "205it [1:09:23, 20.35s/it]"
     ]
    },
    {
     "name": "stderr",
     "output_type": "stream",
     "text": [
      "\r",
      "206it [1:09:44, 20.33s/it]"
     ]
    },
    {
     "name": "stderr",
     "output_type": "stream",
     "text": [
      "\r",
      "207it [1:10:04, 20.31s/it]"
     ]
    },
    {
     "name": "stderr",
     "output_type": "stream",
     "text": [
      "\r",
      "208it [1:10:24, 20.28s/it]"
     ]
    },
    {
     "name": "stderr",
     "output_type": "stream",
     "text": [
      "\r",
      "209it [1:10:44, 20.27s/it]"
     ]
    },
    {
     "name": "stderr",
     "output_type": "stream",
     "text": [
      "\r",
      "210it [1:11:05, 20.35s/it]"
     ]
    },
    {
     "name": "stderr",
     "output_type": "stream",
     "text": [
      "\r",
      "211it [1:11:25, 20.32s/it]"
     ]
    },
    {
     "name": "stderr",
     "output_type": "stream",
     "text": [
      "\r",
      "212it [1:11:46, 20.37s/it]"
     ]
    },
    {
     "name": "stderr",
     "output_type": "stream",
     "text": [
      "\r",
      "213it [1:12:06, 20.32s/it]"
     ]
    },
    {
     "name": "stderr",
     "output_type": "stream",
     "text": [
      "\r",
      "214it [1:12:26, 20.32s/it]"
     ]
    },
    {
     "name": "stderr",
     "output_type": "stream",
     "text": [
      "\r",
      "215it [1:12:47, 20.32s/it]"
     ]
    },
    {
     "name": "stderr",
     "output_type": "stream",
     "text": [
      "\r",
      "216it [1:13:07, 20.31s/it]"
     ]
    },
    {
     "name": "stderr",
     "output_type": "stream",
     "text": [
      "\r",
      "217it [1:13:27, 20.38s/it]"
     ]
    },
    {
     "name": "stderr",
     "output_type": "stream",
     "text": [
      "\r",
      "218it [1:13:48, 20.55s/it]"
     ]
    },
    {
     "name": "stderr",
     "output_type": "stream",
     "text": [
      "\r",
      "219it [1:14:09, 20.47s/it]"
     ]
    },
    {
     "name": "stderr",
     "output_type": "stream",
     "text": [
      "\r",
      "220it [1:14:29, 20.49s/it]"
     ]
    },
    {
     "name": "stderr",
     "output_type": "stream",
     "text": [
      "\r",
      "221it [1:14:50, 20.52s/it]"
     ]
    },
    {
     "name": "stderr",
     "output_type": "stream",
     "text": [
      "\r",
      "222it [1:15:10, 20.43s/it]"
     ]
    },
    {
     "name": "stderr",
     "output_type": "stream",
     "text": [
      "\r",
      "223it [1:15:30, 20.36s/it]"
     ]
    },
    {
     "name": "stderr",
     "output_type": "stream",
     "text": [
      "\r",
      "224it [1:15:50, 20.32s/it]"
     ]
    },
    {
     "name": "stderr",
     "output_type": "stream",
     "text": [
      "\r",
      "225it [1:16:11, 20.30s/it]"
     ]
    },
    {
     "name": "stderr",
     "output_type": "stream",
     "text": [
      "\r",
      "226it [1:16:31, 20.28s/it]"
     ]
    },
    {
     "name": "stderr",
     "output_type": "stream",
     "text": [
      "\r",
      "227it [1:16:51, 20.28s/it]"
     ]
    },
    {
     "name": "stderr",
     "output_type": "stream",
     "text": [
      "\r",
      "228it [1:17:11, 20.28s/it]"
     ]
    },
    {
     "name": "stderr",
     "output_type": "stream",
     "text": [
      "\r",
      "229it [1:17:32, 20.26s/it]"
     ]
    },
    {
     "name": "stderr",
     "output_type": "stream",
     "text": [
      "\r",
      "230it [1:17:52, 20.36s/it]"
     ]
    },
    {
     "name": "stderr",
     "output_type": "stream",
     "text": [
      "\r",
      "231it [1:18:12, 20.32s/it]"
     ]
    },
    {
     "name": "stderr",
     "output_type": "stream",
     "text": [
      "\r",
      "232it [1:18:33, 20.30s/it]"
     ]
    },
    {
     "name": "stderr",
     "output_type": "stream",
     "text": [
      "\r",
      "233it [1:18:53, 20.29s/it]"
     ]
    },
    {
     "name": "stderr",
     "output_type": "stream",
     "text": [
      "\r",
      "234it [1:19:13, 20.28s/it]"
     ]
    },
    {
     "name": "stderr",
     "output_type": "stream",
     "text": [
      "\r",
      "235it [1:19:34, 20.29s/it]"
     ]
    },
    {
     "name": "stderr",
     "output_type": "stream",
     "text": [
      "\r",
      "236it [1:19:54, 20.29s/it]"
     ]
    },
    {
     "name": "stderr",
     "output_type": "stream",
     "text": [
      "\r",
      "237it [1:20:14, 20.38s/it]"
     ]
    },
    {
     "name": "stderr",
     "output_type": "stream",
     "text": [
      "\r",
      "238it [1:20:35, 20.34s/it]"
     ]
    },
    {
     "name": "stderr",
     "output_type": "stream",
     "text": [
      "\r",
      "239it [1:20:55, 20.42s/it]"
     ]
    },
    {
     "name": "stderr",
     "output_type": "stream",
     "text": [
      "\r",
      "240it [1:21:16, 20.37s/it]"
     ]
    },
    {
     "name": "stderr",
     "output_type": "stream",
     "text": [
      "\r",
      "241it [1:21:36, 20.42s/it]"
     ]
    },
    {
     "name": "stderr",
     "output_type": "stream",
     "text": [
      "\r",
      "242it [1:21:56, 20.38s/it]"
     ]
    },
    {
     "name": "stderr",
     "output_type": "stream",
     "text": [
      "\r",
      "243it [1:22:17, 20.32s/it]"
     ]
    },
    {
     "name": "stderr",
     "output_type": "stream",
     "text": [
      "\r",
      "244it [1:22:37, 20.31s/it]"
     ]
    },
    {
     "name": "stderr",
     "output_type": "stream",
     "text": [
      "\r",
      "245it [1:22:57, 20.30s/it]"
     ]
    },
    {
     "name": "stderr",
     "output_type": "stream",
     "text": [
      "\r",
      "246it [1:23:17, 20.29s/it]"
     ]
    },
    {
     "name": "stderr",
     "output_type": "stream",
     "text": [
      "\r",
      "247it [1:23:38, 20.28s/it]"
     ]
    },
    {
     "name": "stderr",
     "output_type": "stream",
     "text": [
      "\r",
      "248it [1:23:58, 20.28s/it]"
     ]
    },
    {
     "name": "stderr",
     "output_type": "stream",
     "text": [
      "\r",
      "249it [1:24:18, 20.26s/it]"
     ]
    },
    {
     "name": "stderr",
     "output_type": "stream",
     "text": [
      "\r",
      "250it [1:24:39, 20.44s/it]"
     ]
    },
    {
     "name": "stderr",
     "output_type": "stream",
     "text": [
      "\r",
      "251it [1:24:59, 20.38s/it]"
     ]
    },
    {
     "name": "stderr",
     "output_type": "stream",
     "text": [
      "\r",
      "252it [1:25:19, 20.34s/it]"
     ]
    },
    {
     "name": "stderr",
     "output_type": "stream",
     "text": [
      "\r",
      "253it [1:25:40, 20.31s/it]"
     ]
    },
    {
     "name": "stderr",
     "output_type": "stream",
     "text": [
      "\r",
      "254it [1:26:00, 20.30s/it]"
     ]
    },
    {
     "name": "stderr",
     "output_type": "stream",
     "text": [
      "\r",
      "255it [1:26:20, 20.36s/it]"
     ]
    },
    {
     "name": "stderr",
     "output_type": "stream",
     "text": [
      "\r",
      "256it [1:26:41, 20.53s/it]"
     ]
    },
    {
     "name": "stderr",
     "output_type": "stream",
     "text": [
      "\r",
      "257it [1:27:02, 20.46s/it]"
     ]
    },
    {
     "name": "stderr",
     "output_type": "stream",
     "text": [
      "\r",
      "258it [1:27:22, 20.47s/it]"
     ]
    },
    {
     "name": "stderr",
     "output_type": "stream",
     "text": [
      "\r",
      "259it [1:27:42, 20.41s/it]"
     ]
    },
    {
     "name": "stderr",
     "output_type": "stream",
     "text": [
      "\r",
      "260it [1:28:03, 20.37s/it]"
     ]
    },
    {
     "name": "stderr",
     "output_type": "stream",
     "text": [
      "\r",
      "261it [1:28:23, 20.33s/it]"
     ]
    },
    {
     "name": "stderr",
     "output_type": "stream",
     "text": [
      "\r",
      "262it [1:28:44, 20.39s/it]"
     ]
    },
    {
     "name": "stderr",
     "output_type": "stream",
     "text": [
      "\r",
      "263it [1:29:04, 20.35s/it]"
     ]
    },
    {
     "name": "stderr",
     "output_type": "stream",
     "text": [
      "\r",
      "264it [1:29:24, 20.33s/it]"
     ]
    },
    {
     "name": "stderr",
     "output_type": "stream",
     "text": [
      "\r",
      "265it [1:29:44, 20.32s/it]"
     ]
    },
    {
     "name": "stderr",
     "output_type": "stream",
     "text": [
      "\r",
      "266it [1:30:05, 20.30s/it]"
     ]
    },
    {
     "name": "stderr",
     "output_type": "stream",
     "text": [
      "\r",
      "267it [1:30:25, 20.29s/it]"
     ]
    },
    {
     "name": "stderr",
     "output_type": "stream",
     "text": [
      "\r",
      "268it [1:30:45, 20.29s/it]"
     ]
    },
    {
     "name": "stderr",
     "output_type": "stream",
     "text": [
      "\r",
      "269it [1:31:05, 20.28s/it]"
     ]
    },
    {
     "name": "stderr",
     "output_type": "stream",
     "text": [
      "\r",
      "270it [1:31:26, 20.34s/it]"
     ]
    },
    {
     "name": "stderr",
     "output_type": "stream",
     "text": [
      "\r",
      "271it [1:31:46, 20.30s/it]"
     ]
    },
    {
     "name": "stderr",
     "output_type": "stream",
     "text": [
      "\r",
      "272it [1:32:06, 20.28s/it]"
     ]
    },
    {
     "name": "stderr",
     "output_type": "stream",
     "text": [
      "\r",
      "273it [1:32:27, 20.27s/it]"
     ]
    },
    {
     "name": "stderr",
     "output_type": "stream",
     "text": [
      "\r",
      "274it [1:32:47, 20.37s/it]"
     ]
    },
    {
     "name": "stderr",
     "output_type": "stream",
     "text": [
      "\r",
      "275it [1:33:07, 20.35s/it]"
     ]
    },
    {
     "name": "stderr",
     "output_type": "stream",
     "text": [
      "\r",
      "276it [1:33:28, 20.35s/it]"
     ]
    },
    {
     "name": "stderr",
     "output_type": "stream",
     "text": [
      "\r",
      "277it [1:33:48, 20.44s/it]"
     ]
    },
    {
     "name": "stderr",
     "output_type": "stream",
     "text": [
      "\r",
      "278it [1:34:09, 20.40s/it]"
     ]
    },
    {
     "name": "stderr",
     "output_type": "stream",
     "text": [
      "\r",
      "279it [1:34:29, 20.36s/it]"
     ]
    },
    {
     "name": "stderr",
     "output_type": "stream",
     "text": [
      "\r",
      "280it [1:34:50, 20.62s/it]"
     ]
    },
    {
     "name": "stderr",
     "output_type": "stream",
     "text": [
      "\r",
      "281it [1:35:11, 20.52s/it]"
     ]
    },
    {
     "name": "stderr",
     "output_type": "stream",
     "text": [
      "\r",
      "282it [1:35:31, 20.45s/it]"
     ]
    },
    {
     "name": "stderr",
     "output_type": "stream",
     "text": [
      "\r",
      "283it [1:35:51, 20.40s/it]"
     ]
    },
    {
     "name": "stderr",
     "output_type": "stream",
     "text": [
      "\r",
      "284it [1:36:11, 20.38s/it]"
     ]
    },
    {
     "name": "stderr",
     "output_type": "stream",
     "text": [
      "\r",
      "285it [1:36:32, 20.36s/it]"
     ]
    },
    {
     "name": "stderr",
     "output_type": "stream",
     "text": [
      "\r",
      "286it [1:36:52, 20.35s/it]"
     ]
    },
    {
     "name": "stderr",
     "output_type": "stream",
     "text": [
      "\r",
      "287it [1:37:12, 20.34s/it]"
     ]
    },
    {
     "name": "stderr",
     "output_type": "stream",
     "text": [
      "\r",
      "288it [1:37:33, 20.32s/it]"
     ]
    },
    {
     "name": "stderr",
     "output_type": "stream",
     "text": [
      "\r",
      "289it [1:37:53, 20.31s/it]"
     ]
    },
    {
     "name": "stderr",
     "output_type": "stream",
     "text": [
      "\r",
      "290it [1:38:13, 20.36s/it]"
     ]
    },
    {
     "name": "stderr",
     "output_type": "stream",
     "text": [
      "\r",
      "291it [1:38:34, 20.32s/it]"
     ]
    },
    {
     "name": "stderr",
     "output_type": "stream",
     "text": [
      "\r",
      "292it [1:38:54, 20.44s/it]"
     ]
    },
    {
     "name": "stderr",
     "output_type": "stream",
     "text": [
      "\r",
      "293it [1:39:15, 20.38s/it]"
     ]
    },
    {
     "name": "stderr",
     "output_type": "stream",
     "text": [
      "\r",
      "294it [1:39:35, 20.35s/it]"
     ]
    },
    {
     "name": "stderr",
     "output_type": "stream",
     "text": [
      "\r",
      "295it [1:39:55, 20.33s/it]"
     ]
    },
    {
     "name": "stderr",
     "output_type": "stream",
     "text": [
      "\r",
      "296it [1:40:16, 20.36s/it]"
     ]
    },
    {
     "name": "stderr",
     "output_type": "stream",
     "text": [
      "\r",
      "297it [1:40:36, 20.42s/it]"
     ]
    },
    {
     "name": "stderr",
     "output_type": "stream",
     "text": [
      "\r",
      "298it [1:40:56, 20.37s/it]"
     ]
    },
    {
     "name": "stderr",
     "output_type": "stream",
     "text": [
      "\r",
      "299it [1:41:17, 20.34s/it]"
     ]
    },
    {
     "name": "stderr",
     "output_type": "stream",
     "text": [
      "\r",
      "300it [1:41:37, 20.31s/it]"
     ]
    },
    {
     "name": "stderr",
     "output_type": "stream",
     "text": [
      "\r",
      "300it [1:41:57, 20.39s/it]"
     ]
    },
    {
     "name": "stderr",
     "output_type": "stream",
     "text": [
      "\n"
     ]
    }
   ],
   "source": [
    "import torch\n",
    "\n",
    "extra = torch.tensor((2, 64, 64))\n",
    "train_dataset = iterable_dataset(\n",
    "    datasets={\"raw\": raw_train, \"gt\": labels_train},\n",
    "    shapes={\n",
    "        \"raw\": unet.min_input_shape + extra,\n",
    "        \"gt\": unet.min_output_shape + extra,\n",
    "    },\n",
    "    transforms={\n",
    "        \"raw\": torchvision.transforms.Lambda(lambda x: x[None].float() / 255.0),\n",
    "        (\"gt\", \"affs\"): Affs(neighborhood=neighborhood, concat_dim=0),\n",
    "        (\"gt\", \"affs_mask\"): AffsMask(neighborhood=neighborhood),\n",
    "    },\n",
    "    deform_augment_config=DeformAugmentConfig(\n",
    "        p=0.1,\n",
    "        control_point_spacing=(2, 10, 10),\n",
    "        jitter_sigma=(0.5, 2, 2),\n",
    "        rotate=True,\n",
    "        subsample=4,\n",
    "        rotation_axes=(1, 2),\n",
    "        scale_interval=(1.0, 1.0),\n",
    "    ),\n",
    "    simple_augment_config=SimpleAugmentConfig(\n",
    "        p=1.0,\n",
    "        mirror_only=(1, 2),\n",
    "        transpose_only=(1, 2),\n",
    "    ),\n",
    ")\n",
    "\n",
    "loss_func = partial(torchvision.ops.sigmoid_focal_loss, reduction=\"none\")\n",
    "optimizer = torch.optim.Adam(module.parameters(), lr=5e-5)\n",
    "dataloader = torch.utils.data.DataLoader(\n",
    "    train_dataset,\n",
    "    batch_size=3,\n",
    "    num_workers=4,\n",
    ")\n",
    "losses = []\n",
    "\n",
    "for iteration, batch in tqdm(enumerate(iter(dataloader))):\n",
    "    raw, target, affs_mask = (\n",
    "        batch[\"raw\"].to(device),\n",
    "        batch[\"affs\"].to(device),\n",
    "        batch[\"affs_mask\"].to(device),\n",
    "    )\n",
    "    optimizer.zero_grad()\n",
    "\n",
    "    output = module(raw)\n",
    "\n",
    "    voxel_loss = loss_func(output, target.float())\n",
    "    loss = (voxel_loss * affs_mask).sum() / affs_mask.sum()\n",
    "    loss.backward()\n",
    "    optimizer.step()\n",
    "\n",
    "    losses.append(loss.item())\n",
    "\n",
    "    if iteration >= NUM_ITERATIONS:\n",
    "        break"
   ]
  },
  {
   "cell_type": "code",
   "execution_count": 12,
   "id": "12ae9bf5",
   "metadata": {
    "execution": {
     "iopub.execute_input": "2025-09-16T07:08:33.981052Z",
     "iopub.status.busy": "2025-09-16T07:08:33.980870Z",
     "iopub.status.idle": "2025-09-16T07:08:34.113012Z",
     "shell.execute_reply": "2025-09-16T07:08:34.112477Z"
    }
   },
   "outputs": [
    {
     "data": {
      "image/png": "[encoded data removed]",
      "text/plain": [
       "<Figure size 640x480 with 1 Axes>"
      ]
     },
     "metadata": {},
     "output_type": "display_data"
    }
   ],
   "source": [
    "import matplotlib.pyplot as plt\n",
    "from funlib.geometry import Coordinate\n",
    "\n",
    "plt.plot(losses)\n",
    "plt.xlabel(\"Iteration\")\n",
    "plt.ylabel(\"Loss\")\n",
    "plt.title(\"Loss Curve\")\n",
    "plt.savefig(\"_static/cremi/affs-loss-curve.png\")\n",
    "plt.show()\n",
    "plt.close()"
   ]
  },
  {
   "cell_type": "code",
   "execution_count": 13,
   "id": "58ecdc30",
   "metadata": {
    "execution": {
     "iopub.execute_input": "2025-09-16T07:08:34.114577Z",
     "iopub.status.busy": "2025-09-16T07:08:34.114408Z",
     "iopub.status.idle": "2025-09-16T07:08:34.119808Z",
     "shell.execute_reply": "2025-09-16T07:08:34.119329Z"
    }
   },
   "outputs": [],
   "source": [
    "import mwatershed as mws\n",
    "from funlib.geometry import Roi\n",
    "import numpy as np\n",
    "\n",
    "module = module.eval()\n",
    "unet = unet.eval()\n",
    "context = Coordinate(unet.context // 2) * raw_test.voxel_size"
   ]
  },
  {
   "cell_type": "code",
   "execution_count": 14,
   "id": "719eaf0d",
   "metadata": {
    "execution": {
     "iopub.execute_input": "2025-09-16T07:08:34.121252Z",
     "iopub.status.busy": "2025-09-16T07:08:34.121109Z",
     "iopub.status.idle": "2025-09-16T07:10:39.205801Z",
     "shell.execute_reply": "2025-09-16T07:10:39.205238Z"
    },
    "lines_to_next_cell": 0
   },
   "outputs": [],
   "source": [
    "raw_input = raw_test.to_ndarray(small_eval_roi.grow(context, context))\n",
    "raw_output = raw_test.to_ndarray(small_eval_roi)\n",
    "gt = labels_test.to_ndarray(small_eval_roi)\n",
    "\n",
    "# Predict on the validation data\n",
    "with torch.no_grad():\n",
    "    device = torch.device(\"cpu\")\n",
    "    module = module.to(device)\n",
    "    pred = (\n",
    "        module(\n",
    "            (torch.from_numpy(raw_input).float() / 255.0)\n",
    "            .to(device)\n",
    "            .unsqueeze(0)\n",
    "            .unsqueeze(0)\n",
    "        )\n",
    "        .cpu()\n",
    "        .detach()\n",
    "        .numpy()\n",
    "    )\n",
    "pred_labels = mws.agglom(pred[0].astype(np.float64) - 0.5, offsets=neighborhood)"
   ]
  },
  {
   "cell_type": "code",
   "execution_count": 15,
   "id": "cbc1e91e",
   "metadata": {
    "execution": {
     "iopub.execute_input": "2025-09-16T07:10:39.210477Z",
     "iopub.status.busy": "2025-09-16T07:10:39.210306Z",
     "iopub.status.idle": "2025-09-16T07:11:05.738493Z",
     "shell.execute_reply": "2025-09-16T07:11:05.737876Z"
    }
   },
   "outputs": [],
   "source": [
    "# Plot the results\n",
    "gif_2d(\n",
    "    arrays={\n",
    "        \"Raw\": Array(raw_output, voxel_size=raw_test.voxel_size),\n",
    "        \"GT\": Array(gt % 256, voxel_size=raw_test.voxel_size),\n",
    "        \"Pred Affs\": Array(pred[0][[0, 3, 4]], voxel_size=raw_test.voxel_size),\n",
    "        \"Pred\": Array(pred_labels % 256, voxel_size=raw_test.voxel_size),\n",
    "    },\n",
    "    array_types={\n",
    "        \"Raw\": \"raw\",\n",
    "        \"GT\": \"labels\",\n",
    "        \"Pred Affs\": \"affs\",\n",
    "        \"Pred\": \"labels\",\n",
    "    },\n",
    "    filename=\"_static/cremi/affs-prediction.gif\",\n",
    "    title=\"Prediction\",\n",
    "    fps=10,\n",
    ")\n",
    "cube(\n",
    "    arrays={\n",
    "        \"Raw\": Array(raw_output, voxel_size=raw_test.voxel_size),\n",
    "        \"GT\": Array(gt, voxel_size=raw_test.voxel_size),\n",
    "        \"Pred Affs\": Array(pred[0][[0, 3, 4]], voxel_size=raw_test.voxel_size),\n",
    "        \"Pred\": Array(pred_labels, voxel_size=raw_test.voxel_size),\n",
    "    },\n",
    "    array_types={\n",
    "        \"Raw\": \"raw\",\n",
    "        \"GT\": \"labels\",\n",
    "        \"Pred Affs\": \"affs\",\n",
    "        \"Pred\": \"labels\",\n",
    "    },\n",
    "    filename=\"_static/cremi/affs-prediction.jpg\",\n",
    "    title=\"Prediction\",\n",
    ")"
   ]
  },
  {
   "cell_type": "markdown",
   "id": "e71ebbe4",
   "metadata": {},
   "source": [
    "Here we visualize the prediction results:\n",
    "![affs-prediction](_static/cremi/affs-prediction.gif)\n",
    "![affs-prediction-cube](_static/cremi/affs-prediction.jpg)"
   ]
  },
  {
   "cell_type": "markdown",
   "id": "0cabef18",
   "metadata": {},
   "source": [
    "## Blockwise Processing\n",
    "Now that we have a trained model, we can use it to process the full volume.\n",
    "We will use the `volara` library to do this. It provides a simple interface\n",
    "for blockwise processing of large volumes. We will use the `volara_torch`\n",
    "module to wrap our trained model and use it in a blockwise pipeline."
   ]
  },
  {
   "cell_type": "code",
   "execution_count": 16,
   "id": "dd91a4ba",
   "metadata": {
    "execution": {
     "iopub.execute_input": "2025-09-16T07:11:05.740314Z",
     "iopub.status.busy": "2025-09-16T07:11:05.740157Z",
     "iopub.status.idle": "2025-09-16T07:31:18.105393Z",
     "shell.execute_reply": "2025-09-16T07:31:18.104812Z"
    }
   },
   "outputs": [
    {
     "name": "stderr",
     "output_type": "stream",
     "text": [
      "INFO:root:Running block with config volara_logs/affs-predict-meta/config.json...\n"
     ]
    },
    {
     "name": "stderr",
     "output_type": "stream",
     "text": [
      "INFO:funlib.persistence.graphs.sqlite_graph_database:dropping collections nodes, edges\n"
     ]
    },
    {
     "name": "stdout",
     "output_type": "stream",
     "text": [
      "/tmp/tmpioz606t_/lut.npz\n"
     ]
    },
    {
     "name": "stderr",
     "output_type": "stream",
     "text": [
      "\r",
      "affs-predict ▶:   0%|          | 0/9 [00:00<?, ?blocks/s]"
     ]
    },
    {
     "name": "stderr",
     "output_type": "stream",
     "text": [
      "\r",
      "affs-predict ▶:   0%|          | 0/9 [00:00<?, ?blocks/s, ⧗=0, ▶=1, ✔=0, ✗=0, ∅=0]"
     ]
    },
    {
     "name": "stderr",
     "output_type": "stream",
     "text": [
      "\r",
      "affs-predict ▶:   0%|          | 0/9 [02:09<?, ?blocks/s, ⧗=0, ▶=0, ✔=1, ✗=0, ∅=0]"
     ]
    },
    {
     "name": "stderr",
     "output_type": "stream",
     "text": [
      "\r",
      "affs-predict ▶:  11%|█         | 1/9 [02:09<17:12, 129.12s/blocks, ⧗=0, ▶=0, ✔=1, ✗=0, ∅=0]"
     ]
    },
    {
     "name": "stderr",
     "output_type": "stream",
     "text": [
      "\r",
      "affs-predict ▶:  11%|█         | 1/9 [02:09<17:12, 129.12s/blocks, ⧗=0, ▶=1, ✔=1, ✗=0, ∅=0]"
     ]
    },
    {
     "name": "stderr",
     "output_type": "stream",
     "text": [
      "\r",
      "affs-predict ▶:  11%|█         | 1/9 [04:18<17:12, 129.12s/blocks, ⧗=0, ▶=0, ✔=2, ✗=0, ∅=0]"
     ]
    },
    {
     "name": "stderr",
     "output_type": "stream",
     "text": [
      "\r",
      "affs-predict ▶:  22%|██▏       | 2/9 [04:18<15:03, 129.06s/blocks, ⧗=0, ▶=0, ✔=2, ✗=0, ∅=0]"
     ]
    },
    {
     "name": "stderr",
     "output_type": "stream",
     "text": [
      "\r",
      "affs-predict ▶:  22%|██▏       | 2/9 [04:18<15:03, 129.06s/blocks, ⧗=0, ▶=1, ✔=2, ✗=0, ∅=0]"
     ]
    },
    {
     "name": "stderr",
     "output_type": "stream",
     "text": [
      "\r",
      "affs-predict ▶:  22%|██▏       | 2/9 [06:26<15:03, 129.06s/blocks, ⧗=0, ▶=0, ✔=3, ✗=0, ∅=0]"
     ]
    },
    {
     "name": "stderr",
     "output_type": "stream",
     "text": [
      "\r",
      "affs-predict ▶:  33%|███▎      | 3/9 [06:26<12:53, 128.95s/blocks, ⧗=0, ▶=0, ✔=3, ✗=0, ∅=0]"
     ]
    },
    {
     "name": "stderr",
     "output_type": "stream",
     "text": [
      "\r",
      "affs-predict ▶:  33%|███▎      | 3/9 [06:27<12:53, 128.95s/blocks, ⧗=0, ▶=1, ✔=3, ✗=0, ∅=0]"
     ]
    },
    {
     "name": "stderr",
     "output_type": "stream",
     "text": [
      "\r",
      "affs-predict ▶:  33%|███▎      | 3/9 [08:35<12:53, 128.95s/blocks, ⧗=0, ▶=0, ✔=4, ✗=0, ∅=0]"
     ]
    },
    {
     "name": "stderr",
     "output_type": "stream",
     "text": [
      "\r",
      "affs-predict ▶:  44%|████▍     | 4/9 [08:35<10:44, 128.85s/blocks, ⧗=0, ▶=0, ✔=4, ✗=0, ∅=0]"
     ]
    },
    {
     "name": "stderr",
     "output_type": "stream",
     "text": [
      "\r",
      "affs-predict ▶:  44%|████▍     | 4/9 [08:35<10:44, 128.85s/blocks, ⧗=0, ▶=1, ✔=4, ✗=0, ∅=0]"
     ]
    },
    {
     "name": "stderr",
     "output_type": "stream",
     "text": [
      "\r",
      "affs-predict ▶:  44%|████▍     | 4/9 [10:44<10:44, 128.85s/blocks, ⧗=0, ▶=0, ✔=5, ✗=0, ∅=0]"
     ]
    },
    {
     "name": "stderr",
     "output_type": "stream",
     "text": [
      "\r",
      "affs-predict ▶:  56%|█████▌    | 5/9 [10:44<08:35, 128.83s/blocks, ⧗=0, ▶=0, ✔=5, ✗=0, ∅=0]"
     ]
    },
    {
     "name": "stderr",
     "output_type": "stream",
     "text": [
      "\r",
      "affs-predict ▶:  56%|█████▌    | 5/9 [10:44<08:35, 128.83s/blocks, ⧗=0, ▶=1, ✔=5, ✗=0, ∅=0]"
     ]
    },
    {
     "name": "stderr",
     "output_type": "stream",
     "text": [
      "INFO:volara.blockwise.blockwise:getting block\n"
     ]
    },
    {
     "name": "stderr",
     "output_type": "stream",
     "text": [
      "\n"
     ]
    },
    {
     "name": "stderr",
     "output_type": "stream",
     "text": [
      "\r",
      "frags-extract-frags ▶:   0%|          | 0/9 [00:00<?, ?blocks/s]"
     ]
    },
    {
     "name": "stderr",
     "output_type": "stream",
     "text": [
      "INFO:volara.blockwise.blockwise:got block frags-extract-frags/0 with read ROI [1760:3200, 652:2076, 652:2076] (1440, 1424, 1424) and write ROI [1840:3120, 836:1892, 836:1892] (1280, 1056, 1056)\n"
     ]
    },
    {
     "name": "stderr",
     "output_type": "stream",
     "text": [
      "\u001b[A"
     ]
    },
    {
     "name": "stderr",
     "output_type": "stream",
     "text": [
      "\n"
     ]
    },
    {
     "name": "stderr",
     "output_type": "stream",
     "text": [
      "\r",
      "frags-extract-frags ▶:   0%|          | 0/9 [00:00<?, ?blocks/s, ⧗=8, ▶=1, ✔=0, ✗=0, ∅=0]"
     ]
    },
    {
     "name": "stderr",
     "output_type": "stream",
     "text": [
      "\u001b[A"
     ]
    },
    {
     "name": "stderr",
     "output_type": "stream",
     "text": [
      "INFO:volara.blockwise.blockwise:getting block\n"
     ]
    },
    {
     "name": "stderr",
     "output_type": "stream",
     "text": [
      "INFO:volara.blockwise.blockwise:getting block\n"
     ]
    },
    {
     "name": "stderr",
     "output_type": "stream",
     "text": [
      "INFO:/home/runner/work/dacapo-toolbox/dacapo-toolbox/.venv/lib/python3.11/site-packages/volara/blockwise/extract_frags.py:Found 274 fragments\n"
     ]
    },
    {
     "name": "stderr",
     "output_type": "stream",
     "text": [
      "INFO:volara.blockwise.blockwise:getting block\n"
     ]
    },
    {
     "name": "stderr",
     "output_type": "stream",
     "text": [
      "\n"
     ]
    },
    {
     "name": "stderr",
     "output_type": "stream",
     "text": [
      "\r",
      "frags-extract-frags ▶:   0%|          | 0/9 [00:07<?, ?blocks/s, ⧗=8, ▶=0, ✔=1, ✗=0, ∅=0]"
     ]
    },
    {
     "name": "stderr",
     "output_type": "stream",
     "text": [
      "\u001b[A"
     ]
    },
    {
     "name": "stderr",
     "output_type": "stream",
     "text": [
      "\n"
     ]
    },
    {
     "name": "stderr",
     "output_type": "stream",
     "text": [
      "\r",
      "frags-extract-frags ▶:  11%|█         | 1/9 [00:07<00:57,  7.13s/blocks, ⧗=8, ▶=0, ✔=1, ✗=0, ∅=0]"
     ]
    },
    {
     "name": "stderr",
     "output_type": "stream",
     "text": [
      "\u001b[A"
     ]
    },
    {
     "name": "stderr",
     "output_type": "stream",
     "text": [
      "\r",
      "affs-predict ▶:  56%|█████▌    | 5/9 [12:56<08:35, 128.83s/blocks, ⧗=0, ▶=0, ✔=6, ✗=0, ∅=0]"
     ]
    },
    {
     "name": "stderr",
     "output_type": "stream",
     "text": [
      "\r",
      "affs-predict ▶:  67%|██████▋   | 6/9 [12:56<06:29, 129.87s/blocks, ⧗=0, ▶=0, ✔=6, ✗=0, ∅=0]"
     ]
    },
    {
     "name": "stderr",
     "output_type": "stream",
     "text": [
      "\r",
      "affs-predict ▶:  67%|██████▋   | 6/9 [12:56<06:29, 129.87s/blocks, ⧗=0, ▶=1, ✔=6, ✗=0, ∅=0]"
     ]
    },
    {
     "name": "stderr",
     "output_type": "stream",
     "text": [
      "\n"
     ]
    },
    {
     "name": "stderr",
     "output_type": "stream",
     "text": [
      "\r",
      "frags-extract-frags ▶:  11%|█         | 1/9 [02:11<00:57,  7.13s/blocks, ⧗=6, ▶=1, ✔=1, ✗=0, ∅=0]"
     ]
    },
    {
     "name": "stderr",
     "output_type": "stream",
     "text": [
      "INFO:volara.blockwise.blockwise:got block frags-extract-frags/1 with read ROI [1760:3200, 652:2076, 1708:3132] (1440, 1424, 1424) and write ROI [1840:3120, 836:1892, 1892:2948] (1280, 1056, 1056)\n"
     ]
    },
    {
     "name": "stderr",
     "output_type": "stream",
     "text": [
      "\u001b[A"
     ]
    },
    {
     "name": "stderr",
     "output_type": "stream",
     "text": [
      "\n"
     ]
    },
    {
     "name": "stderr",
     "output_type": "stream",
     "text": [
      "\r",
      "frags-extract-frags ▶:  11%|█         | 1/9 [02:11<00:57,  7.13s/blocks, ⧗=6, ▶=2, ✔=1, ✗=0, ∅=0]"
     ]
    },
    {
     "name": "stderr",
     "output_type": "stream",
     "text": [
      "\u001b[A"
     ]
    },
    {
     "name": "stderr",
     "output_type": "stream",
     "text": [
      "INFO:volara.blockwise.blockwise:got block frags-extract-frags/4 with read ROI [1760:3200, 652:2076, 2764:4092] (1440, 1424, 1328) and write ROI [1840:3120, 836:1892, 2948:3908] (1280, 1056, 960)\n"
     ]
    },
    {
     "name": "stderr",
     "output_type": "stream",
     "text": [
      "INFO:/home/runner/work/dacapo-toolbox/dacapo-toolbox/.venv/lib/python3.11/site-packages/volara/blockwise/extract_frags.py:Found 300 fragments\n"
     ]
    },
    {
     "name": "stderr",
     "output_type": "stream",
     "text": [
      "INFO:volara.blockwise.blockwise:getting block\n"
     ]
    },
    {
     "name": "stderr",
     "output_type": "stream",
     "text": [
      "\n"
     ]
    },
    {
     "name": "stderr",
     "output_type": "stream",
     "text": [
      "\r",
      "frags-extract-frags ▶:  11%|█         | 1/9 [02:23<00:57,  7.13s/blocks, ⧗=6, ▶=1, ✔=2, ✗=0, ∅=0]"
     ]
    },
    {
     "name": "stderr",
     "output_type": "stream",
     "text": [
      "\u001b[A"
     ]
    },
    {
     "name": "stderr",
     "output_type": "stream",
     "text": [
      "\n"
     ]
    },
    {
     "name": "stderr",
     "output_type": "stream",
     "text": [
      "\r",
      "frags-extract-frags ▶:  22%|██▏       | 2/9 [02:23<09:43, 83.31s/blocks, ⧗=6, ▶=1, ✔=2, ✗=0, ∅=0]"
     ]
    },
    {
     "name": "stderr",
     "output_type": "stream",
     "text": [
      "\u001b[A"
     ]
    },
    {
     "name": "stderr",
     "output_type": "stream",
     "text": [
      "INFO:/home/runner/work/dacapo-toolbox/dacapo-toolbox/.venv/lib/python3.11/site-packages/volara/blockwise/extract_frags.py:Found 282 fragments\n"
     ]
    },
    {
     "name": "stderr",
     "output_type": "stream",
     "text": [
      "INFO:volara.blockwise.blockwise:getting block\n"
     ]
    },
    {
     "name": "stderr",
     "output_type": "stream",
     "text": [
      "\n"
     ]
    },
    {
     "name": "stderr",
     "output_type": "stream",
     "text": [
      "\r",
      "frags-extract-frags ▶:  22%|██▏       | 2/9 [02:24<09:43, 83.31s/blocks, ⧗=6, ▶=0, ✔=3, ✗=0, ∅=0]"
     ]
    },
    {
     "name": "stderr",
     "output_type": "stream",
     "text": [
      "\u001b[A"
     ]
    },
    {
     "name": "stderr",
     "output_type": "stream",
     "text": [
      "\n"
     ]
    },
    {
     "name": "stderr",
     "output_type": "stream",
     "text": [
      "\r",
      "frags-extract-frags ▶:  33%|███▎      | 3/9 [02:24<04:34, 45.80s/blocks, ⧗=6, ▶=0, ✔=3, ✗=0, ∅=0]"
     ]
    },
    {
     "name": "stderr",
     "output_type": "stream",
     "text": [
      "\u001b[A"
     ]
    },
    {
     "name": "stderr",
     "output_type": "stream",
     "text": [
      "\r",
      "affs-predict ▶:  67%|██████▋   | 6/9 [15:09<06:29, 129.87s/blocks, ⧗=0, ▶=0, ✔=7, ✗=0, ∅=0]"
     ]
    },
    {
     "name": "stderr",
     "output_type": "stream",
     "text": [
      "\r",
      "affs-predict ▶:  78%|███████▊  | 7/9 [15:09<04:22, 131.09s/blocks, ⧗=0, ▶=0, ✔=7, ✗=0, ∅=0]"
     ]
    },
    {
     "name": "stderr",
     "output_type": "stream",
     "text": [
      "\r",
      "affs-predict ▶:  78%|███████▊  | 7/9 [15:09<04:22, 131.09s/blocks, ⧗=0, ▶=1, ✔=7, ✗=0, ∅=0]"
     ]
    },
    {
     "name": "stderr",
     "output_type": "stream",
     "text": [
      "\r",
      "affs-predict ▶:  78%|███████▊  | 7/9 [17:18<04:22, 131.09s/blocks, ⧗=0, ▶=0, ✔=8, ✗=0, ∅=0]"
     ]
    },
    {
     "name": "stderr",
     "output_type": "stream",
     "text": [
      "\r",
      "affs-predict ▶:  89%|████████▉ | 8/9 [17:18<02:10, 130.38s/blocks, ⧗=0, ▶=0, ✔=8, ✗=0, ∅=0]"
     ]
    },
    {
     "name": "stderr",
     "output_type": "stream",
     "text": [
      "\r",
      "affs-predict ▶:  89%|████████▉ | 8/9 [17:18<02:10, 130.38s/blocks, ⧗=0, ▶=1, ✔=8, ✗=0, ∅=0]"
     ]
    },
    {
     "name": "stderr",
     "output_type": "stream",
     "text": [
      "\n"
     ]
    },
    {
     "name": "stderr",
     "output_type": "stream",
     "text": [
      "\r",
      "frags-extract-frags ▶:  33%|███▎      | 3/9 [06:34<04:34, 45.80s/blocks, ⧗=4, ▶=1, ✔=3, ✗=0, ∅=0]"
     ]
    },
    {
     "name": "stderr",
     "output_type": "stream",
     "text": [
      "INFO:volara.blockwise.blockwise:got block frags-extract-frags/2 with read ROI [1760:3200, 1708:3132, 652:2076] (1440, 1424, 1424) and write ROI [1840:3120, 1892:2948, 836:1892] (1280, 1056, 1056)\n"
     ]
    },
    {
     "name": "stderr",
     "output_type": "stream",
     "text": [
      "\u001b[A"
     ]
    },
    {
     "name": "stderr",
     "output_type": "stream",
     "text": [
      "\n"
     ]
    },
    {
     "name": "stderr",
     "output_type": "stream",
     "text": [
      "\r",
      "frags-extract-frags ▶:  33%|███▎      | 3/9 [06:34<04:34, 45.80s/blocks, ⧗=4, ▶=2, ✔=3, ✗=0, ∅=0]"
     ]
    },
    {
     "name": "stderr",
     "output_type": "stream",
     "text": [
      "INFO:volara.blockwise.blockwise:got block frags-extract-frags/7 with read ROI [1760:3200, 2764:4092, 652:2076] (1440, 1328, 1424) and write ROI [1840:3120, 2948:3908, 836:1892] (1280, 960, 1056)\n"
     ]
    },
    {
     "name": "stderr",
     "output_type": "stream",
     "text": [
      "\u001b[A"
     ]
    },
    {
     "name": "stderr",
     "output_type": "stream",
     "text": [
      "INFO:/home/runner/work/dacapo-toolbox/dacapo-toolbox/.venv/lib/python3.11/site-packages/volara/blockwise/extract_frags.py:Found 398 fragments\n"
     ]
    },
    {
     "name": "stderr",
     "output_type": "stream",
     "text": [
      "INFO:volara.blockwise.blockwise:getting block\n"
     ]
    },
    {
     "name": "stderr",
     "output_type": "stream",
     "text": [
      "\n"
     ]
    },
    {
     "name": "stderr",
     "output_type": "stream",
     "text": [
      "\r",
      "frags-extract-frags ▶:  33%|███▎      | 3/9 [06:46<04:34, 45.80s/blocks, ⧗=4, ▶=1, ✔=4, ✗=0, ∅=0]"
     ]
    },
    {
     "name": "stderr",
     "output_type": "stream",
     "text": [
      "\u001b[A"
     ]
    },
    {
     "name": "stderr",
     "output_type": "stream",
     "text": [
      "\n"
     ]
    },
    {
     "name": "stderr",
     "output_type": "stream",
     "text": [
      "\r",
      "frags-extract-frags ▶:  44%|████▍     | 4/9 [06:46<10:54, 130.83s/blocks, ⧗=4, ▶=1, ✔=4, ✗=0, ∅=0]"
     ]
    },
    {
     "name": "stderr",
     "output_type": "stream",
     "text": [
      "\u001b[A"
     ]
    },
    {
     "name": "stderr",
     "output_type": "stream",
     "text": [
      "INFO:/home/runner/work/dacapo-toolbox/dacapo-toolbox/.venv/lib/python3.11/site-packages/volara/blockwise/extract_frags.py:Found 250 fragments\n"
     ]
    },
    {
     "name": "stderr",
     "output_type": "stream",
     "text": [
      "INFO:volara.blockwise.blockwise:getting block\n"
     ]
    },
    {
     "name": "stderr",
     "output_type": "stream",
     "text": [
      "\n"
     ]
    },
    {
     "name": "stderr",
     "output_type": "stream",
     "text": [
      "\r",
      "frags-extract-frags ▶:  44%|████▍     | 4/9 [06:47<10:54, 130.83s/blocks, ⧗=4, ▶=0, ✔=5, ✗=0, ∅=0]"
     ]
    },
    {
     "name": "stderr",
     "output_type": "stream",
     "text": [
      "\u001b[A"
     ]
    },
    {
     "name": "stderr",
     "output_type": "stream",
     "text": [
      "\n"
     ]
    },
    {
     "name": "stderr",
     "output_type": "stream",
     "text": [
      "\r",
      "frags-extract-frags ▶:  56%|█████▌    | 5/9 [06:47<05:36, 84.13s/blocks, ⧗=4, ▶=0, ✔=5, ✗=0, ∅=0] "
     ]
    },
    {
     "name": "stderr",
     "output_type": "stream",
     "text": [
      "\u001b[A"
     ]
    },
    {
     "name": "stderr",
     "output_type": "stream",
     "text": [
      "\r",
      "affs-predict ▶:  89%|████████▉ | 8/9 [19:29<02:10, 130.38s/blocks, ⧗=0, ▶=0, ✔=9, ✗=0, ∅=0]"
     ]
    },
    {
     "name": "stderr",
     "output_type": "stream",
     "text": [
      "\r",
      "affs-predict ▶: 100%|██████████| 9/9 [19:29<00:00, 130.46s/blocks, ⧗=0, ▶=0, ✔=9, ✗=0, ∅=0]"
     ]
    },
    {
     "name": "stderr",
     "output_type": "stream",
     "text": [
      "\r",
      "affs-predict ✔: 100%|██████████| 9/9 [19:29<00:00, 130.46s/blocks, ⧗=0, ▶=0, ✔=9, ✗=0, ∅=0]"
     ]
    },
    {
     "name": "stderr",
     "output_type": "stream",
     "text": [
      "\r",
      "affs-predict ✔: 100%|██████████| 9/9 [19:29<00:00, 129.94s/blocks, ⧗=0, ▶=0, ✔=9, ✗=0, ∅=0]"
     ]
    },
    {
     "name": "stderr",
     "output_type": "stream",
     "text": [
      "\n",
      "\n"
     ]
    },
    {
     "name": "stderr",
     "output_type": "stream",
     "text": [
      "\r",
      "frags-extract-frags ▶:  56%|█████▌    | 5/9 [08:44<05:36, 84.13s/blocks, ⧗=0, ▶=1, ✔=5, ✗=0, ∅=0]"
     ]
    },
    {
     "name": "stderr",
     "output_type": "stream",
     "text": [
      "\u001b[A"
     ]
    },
    {
     "name": "stderr",
     "output_type": "stream",
     "text": [
      "INFO:volara.blockwise.blockwise:got block frags-extract-frags/5 with read ROI [1760:3200, 1708:3132, 1708:3132] (1440, 1424, 1424) and write ROI [1840:3120, 1892:2948, 1892:2948] (1280, 1056, 1056)\n"
     ]
    },
    {
     "name": "stderr",
     "output_type": "stream",
     "text": [
      "\n"
     ]
    },
    {
     "name": "stderr",
     "output_type": "stream",
     "text": [
      "\r",
      "frags-extract-frags ▶:  56%|█████▌    | 5/9 [08:45<05:36, 84.13s/blocks, ⧗=0, ▶=2, ✔=5, ✗=0, ∅=0]"
     ]
    },
    {
     "name": "stderr",
     "output_type": "stream",
     "text": [
      "\u001b[A"
     ]
    },
    {
     "name": "stderr",
     "output_type": "stream",
     "text": [
      "INFO:volara.blockwise.blockwise:got block frags-extract-frags/11 with read ROI [1760:3200, 1708:3132, 2764:4092] (1440, 1424, 1328) and write ROI [1840:3120, 1892:2948, 2948:3908] (1280, 1056, 960)\n"
     ]
    },
    {
     "name": "stderr",
     "output_type": "stream",
     "text": [
      "\n"
     ]
    },
    {
     "name": "stderr",
     "output_type": "stream",
     "text": [
      "\r",
      "frags-extract-frags ▶:  56%|█████▌    | 5/9 [08:45<05:36, 84.13s/blocks, ⧗=0, ▶=3, ✔=5, ✗=0, ∅=0]"
     ]
    },
    {
     "name": "stderr",
     "output_type": "stream",
     "text": [
      "INFO:volara.blockwise.blockwise:got block frags-extract-frags/13 with read ROI [1760:3200, 2764:4092, 1708:3132] (1440, 1328, 1424) and write ROI [1840:3120, 2948:3908, 1892:2948] (1280, 960, 1056)\n"
     ]
    },
    {
     "name": "stderr",
     "output_type": "stream",
     "text": [
      "\u001b[A"
     ]
    },
    {
     "name": "stderr",
     "output_type": "stream",
     "text": [
      "INFO:/home/runner/work/dacapo-toolbox/dacapo-toolbox/.venv/lib/python3.11/site-packages/volara/blockwise/extract_frags.py:Found 479 fragments\n"
     ]
    },
    {
     "name": "stderr",
     "output_type": "stream",
     "text": [
      "INFO:volara.blockwise.blockwise:getting block\n"
     ]
    },
    {
     "name": "stderr",
     "output_type": "stream",
     "text": [
      "\n"
     ]
    },
    {
     "name": "stderr",
     "output_type": "stream",
     "text": [
      "\r",
      "frags-extract-frags ▶:  56%|█████▌    | 5/9 [08:53<05:36, 84.13s/blocks, ⧗=0, ▶=2, ✔=6, ✗=0, ∅=0]"
     ]
    },
    {
     "name": "stderr",
     "output_type": "stream",
     "text": [
      "\u001b[A"
     ]
    },
    {
     "name": "stderr",
     "output_type": "stream",
     "text": [
      "\n"
     ]
    },
    {
     "name": "stderr",
     "output_type": "stream",
     "text": [
      "\r",
      "frags-extract-frags ▶:  67%|██████▋   | 6/9 [08:53<04:55, 98.41s/blocks, ⧗=0, ▶=2, ✔=6, ✗=0, ∅=0]"
     ]
    },
    {
     "name": "stderr",
     "output_type": "stream",
     "text": [
      "\u001b[A"
     ]
    },
    {
     "name": "stderr",
     "output_type": "stream",
     "text": [
      "\n"
     ]
    },
    {
     "name": "stderr",
     "output_type": "stream",
     "text": [
      "\r",
      "frags-extract-frags ▶:  67%|██████▋   | 6/9 [08:53<04:55, 98.41s/blocks, ⧗=0, ▶=3, ✔=6, ✗=0, ∅=0]"
     ]
    },
    {
     "name": "stderr",
     "output_type": "stream",
     "text": [
      "\u001b[A"
     ]
    },
    {
     "name": "stderr",
     "output_type": "stream",
     "text": [
      "INFO:volara.blockwise.blockwise:got block frags-extract-frags/23 with read ROI [1760:3200, 2764:4092, 2764:4092] (1440, 1328, 1328) and write ROI [1840:3120, 2948:3908, 2948:3908] (1280, 960, 960)\n"
     ]
    },
    {
     "name": "stderr",
     "output_type": "stream",
     "text": [
      "INFO:/home/runner/work/dacapo-toolbox/dacapo-toolbox/.venv/lib/python3.11/site-packages/volara/blockwise/extract_frags.py:Found 346 fragments\n"
     ]
    },
    {
     "name": "stderr",
     "output_type": "stream",
     "text": [
      "INFO:volara.blockwise.blockwise:getting block\n"
     ]
    },
    {
     "name": "stderr",
     "output_type": "stream",
     "text": [
      "\n"
     ]
    },
    {
     "name": "stderr",
     "output_type": "stream",
     "text": [
      "\r",
      "frags-extract-frags ▶:  67%|██████▋   | 6/9 [08:55<04:55, 98.41s/blocks, ⧗=0, ▶=2, ✔=7, ✗=0, ∅=0]"
     ]
    },
    {
     "name": "stderr",
     "output_type": "stream",
     "text": [
      "\u001b[A"
     ]
    },
    {
     "name": "stderr",
     "output_type": "stream",
     "text": [
      "\n"
     ]
    },
    {
     "name": "stderr",
     "output_type": "stream",
     "text": [
      "\r",
      "frags-extract-frags ▶:  78%|███████▊  | 7/9 [08:55<02:14, 67.03s/blocks, ⧗=0, ▶=2, ✔=7, ✗=0, ∅=0]"
     ]
    },
    {
     "name": "stderr",
     "output_type": "stream",
     "text": [
      "\u001b[A"
     ]
    },
    {
     "name": "stderr",
     "output_type": "stream",
     "text": [
      "INFO:volara.blockwise.blockwise:got block None\n"
     ]
    },
    {
     "name": "stderr",
     "output_type": "stream",
     "text": [
      "INFO:/home/runner/work/dacapo-toolbox/dacapo-toolbox/.venv/lib/python3.11/site-packages/volara/blockwise/extract_frags.py:Found 306 fragments\n"
     ]
    },
    {
     "name": "stderr",
     "output_type": "stream",
     "text": [
      "INFO:volara.blockwise.blockwise:getting block\n"
     ]
    },
    {
     "name": "stderr",
     "output_type": "stream",
     "text": [
      "\n"
     ]
    },
    {
     "name": "stderr",
     "output_type": "stream",
     "text": [
      "\r",
      "frags-extract-frags ▶:  78%|███████▊  | 7/9 [08:57<02:14, 67.03s/blocks, ⧗=0, ▶=1, ✔=8, ✗=0, ∅=0]"
     ]
    },
    {
     "name": "stderr",
     "output_type": "stream",
     "text": [
      "\u001b[A"
     ]
    },
    {
     "name": "stderr",
     "output_type": "stream",
     "text": [
      "\n"
     ]
    },
    {
     "name": "stderr",
     "output_type": "stream",
     "text": [
      "\r",
      "frags-extract-frags ▶:  89%|████████▉ | 8/9 [08:57<00:46, 46.01s/blocks, ⧗=0, ▶=1, ✔=8, ✗=0, ∅=0]"
     ]
    },
    {
     "name": "stderr",
     "output_type": "stream",
     "text": [
      "\u001b[A"
     ]
    },
    {
     "name": "stderr",
     "output_type": "stream",
     "text": [
      "INFO:volara.blockwise.blockwise:getting block\n"
     ]
    },
    {
     "name": "stderr",
     "output_type": "stream",
     "text": [
      "\r",
      "fragments-aff-agglom ▶:   0%|          | 0/9 [00:00<?, ?blocks/s]"
     ]
    },
    {
     "name": "stderr",
     "output_type": "stream",
     "text": [
      "INFO:volara.blockwise.blockwise:got block fragments-aff-agglom/0 with read ROI [1800:3160, 744:1984, 744:1984] (1360, 1240, 1240) and write ROI [1840:3120, 836:1892, 836:1892] (1280, 1056, 1056)\n"
     ]
    },
    {
     "name": "stderr",
     "output_type": "stream",
     "text": [
      "\r",
      "fragments-aff-agglom ▶:   0%|          | 0/9 [00:00<?, ?blocks/s, ⧗=4, ▶=1, ✔=0, ✗=0, ∅=0]"
     ]
    },
    {
     "name": "stderr",
     "output_type": "stream",
     "text": [
      "INFO:volara.blockwise.blockwise:getting block\n"
     ]
    },
    {
     "name": "stderr",
     "output_type": "stream",
     "text": [
      "\r",
      "fragments-aff-agglom ▶:   0%|          | 0/9 [00:00<?, ?blocks/s, ⧗=4, ▶=2, ✔=0, ✗=0, ∅=0]"
     ]
    },
    {
     "name": "stderr",
     "output_type": "stream",
     "text": [
      "INFO:volara.blockwise.blockwise:got block fragments-aff-agglom/1 with read ROI [1800:3160, 744:1984, 1800:3040] (1360, 1240, 1240) and write ROI [1840:3120, 836:1892, 1892:2948] (1280, 1056, 1056)\n"
     ]
    },
    {
     "name": "stderr",
     "output_type": "stream",
     "text": [
      "INFO:volara.blockwise.blockwise:got block None\n"
     ]
    },
    {
     "name": "stderr",
     "output_type": "stream",
     "text": [
      "INFO:volara.blockwise.blockwise:getting block\n"
     ]
    },
    {
     "name": "stderr",
     "output_type": "stream",
     "text": [
      "\r",
      "fragments-aff-agglom ▶:   0%|          | 0/9 [00:00<?, ?blocks/s, ⧗=4, ▶=3, ✔=0, ✗=0, ∅=0]"
     ]
    },
    {
     "name": "stderr",
     "output_type": "stream",
     "text": [
      "INFO:volara.blockwise.blockwise:got block fragments-aff-agglom/2 with read ROI [1800:3160, 1800:3040, 744:1984] (1360, 1240, 1240) and write ROI [1840:3120, 1892:2948, 836:1892] (1280, 1056, 1056)\n"
     ]
    },
    {
     "name": "stderr",
     "output_type": "stream",
     "text": [
      "INFO:/home/runner/work/dacapo-toolbox/dacapo-toolbox/.venv/lib/python3.11/site-packages/volara/blockwise/extract_frags.py:Found 441 fragments\n"
     ]
    },
    {
     "name": "stderr",
     "output_type": "stream",
     "text": [
      "INFO:volara.blockwise.blockwise:getting block\n"
     ]
    },
    {
     "name": "stderr",
     "output_type": "stream",
     "text": [
      "\r",
      "fragments-aff-agglom ▶:   0%|          | 0/9 [00:06<?, ?blocks/s, ⧗=4, ▶=2, ✔=1, ✗=0, ∅=0]"
     ]
    },
    {
     "name": "stderr",
     "output_type": "stream",
     "text": [
      "\r",
      "fragments-aff-agglom ▶:  11%|█         | 1/9 [00:06<00:55,  6.92s/blocks, ⧗=4, ▶=2, ✔=1, ✗=0, ∅=0]"
     ]
    },
    {
     "name": "stderr",
     "output_type": "stream",
     "text": [
      "\r",
      "fragments-aff-agglom ▶:  11%|█         | 1/9 [00:06<00:55,  6.92s/blocks, ⧗=4, ▶=3, ✔=1, ✗=0, ∅=0]"
     ]
    },
    {
     "name": "stderr",
     "output_type": "stream",
     "text": [
      "INFO:volara.blockwise.blockwise:got block fragments-aff-agglom/4 with read ROI [1800:3160, 744:1984, 2856:4000] (1360, 1240, 1144) and write ROI [1840:3120, 836:1892, 2948:3908] (1280, 1056, 960)\n"
     ]
    },
    {
     "name": "stderr",
     "output_type": "stream",
     "text": [
      "INFO:volara.blockwise.blockwise:getting block\n"
     ]
    },
    {
     "name": "stderr",
     "output_type": "stream",
     "text": [
      "\n"
     ]
    },
    {
     "name": "stderr",
     "output_type": "stream",
     "text": [
      "\r",
      "frags-extract-frags ▶:  89%|████████▉ | 8/9 [09:04<00:46, 46.01s/blocks, ⧗=0, ▶=0, ✔=9, ✗=0, ∅=0]"
     ]
    },
    {
     "name": "stderr",
     "output_type": "stream",
     "text": [
      "\u001b[A"
     ]
    },
    {
     "name": "stderr",
     "output_type": "stream",
     "text": [
      "\n"
     ]
    },
    {
     "name": "stderr",
     "output_type": "stream",
     "text": [
      "\r",
      "frags-extract-frags ▶: 100%|██████████| 9/9 [09:04<00:00, 33.89s/blocks, ⧗=0, ▶=0, ✔=9, ✗=0, ∅=0]"
     ]
    },
    {
     "name": "stderr",
     "output_type": "stream",
     "text": [
      "\u001b[A"
     ]
    },
    {
     "name": "stderr",
     "output_type": "stream",
     "text": [
      "\n"
     ]
    },
    {
     "name": "stderr",
     "output_type": "stream",
     "text": [
      "\r",
      "frags-extract-frags ✔: 100%|██████████| 9/9 [09:04<00:00, 33.89s/blocks, ⧗=0, ▶=0, ✔=9, ✗=0, ∅=0]"
     ]
    },
    {
     "name": "stderr",
     "output_type": "stream",
     "text": [
      "\u001b[A"
     ]
    },
    {
     "name": "stderr",
     "output_type": "stream",
     "text": [
      "\r",
      "frags-extract-frags ✔: 100%|██████████| 9/9 [09:04<00:00, 60.47s/blocks, ⧗=0, ▶=0, ✔=9, ✗=0, ∅=0]"
     ]
    },
    {
     "name": "stderr",
     "output_type": "stream",
     "text": [
      "\n"
     ]
    },
    {
     "name": "stderr",
     "output_type": "stream",
     "text": [
      "INFO:volara.blockwise.blockwise:got block None\n"
     ]
    },
    {
     "name": "stderr",
     "output_type": "stream",
     "text": [
      "INFO:volara.blockwise.blockwise:getting block\n"
     ]
    },
    {
     "name": "stderr",
     "output_type": "stream",
     "text": [
      "\r",
      "fragments-aff-agglom ▶:  11%|█         | 1/9 [00:07<00:55,  6.92s/blocks, ⧗=0, ▶=2, ✔=2, ✗=0, ∅=0]"
     ]
    },
    {
     "name": "stderr",
     "output_type": "stream",
     "text": [
      "\r",
      "fragments-aff-agglom ▶:  22%|██▏       | 2/9 [00:07<00:23,  3.40s/blocks, ⧗=0, ▶=2, ✔=2, ✗=0, ∅=0]"
     ]
    },
    {
     "name": "stderr",
     "output_type": "stream",
     "text": [
      "INFO:volara.blockwise.blockwise:getting block\n"
     ]
    },
    {
     "name": "stderr",
     "output_type": "stream",
     "text": [
      "\r",
      "fragments-aff-agglom ▶:  22%|██▏       | 2/9 [00:07<00:23,  3.40s/blocks, ⧗=0, ▶=1, ✔=3, ✗=0, ∅=0]"
     ]
    },
    {
     "name": "stderr",
     "output_type": "stream",
     "text": [
      "\r",
      "fragments-aff-agglom ▶:  33%|███▎      | 3/9 [00:07<00:20,  3.40s/blocks, ⧗=0, ▶=2, ✔=3, ✗=0, ∅=0]"
     ]
    },
    {
     "name": "stderr",
     "output_type": "stream",
     "text": [
      "INFO:volara.blockwise.blockwise:got block fragments-aff-agglom/7 with read ROI [1800:3160, 2856:4000, 744:1984] (1360, 1144, 1240) and write ROI [1840:3120, 2948:3908, 836:1892] (1280, 960, 1056)\n"
     ]
    },
    {
     "name": "stderr",
     "output_type": "stream",
     "text": [
      "\r",
      "fragments-aff-agglom ▶:  33%|███▎      | 3/9 [00:07<00:20,  3.40s/blocks, ⧗=0, ▶=3, ✔=3, ✗=0, ∅=0]"
     ]
    },
    {
     "name": "stderr",
     "output_type": "stream",
     "text": [
      "INFO:volara.blockwise.blockwise:got block fragments-aff-agglom/5 with read ROI [1800:3160, 1800:3040, 1800:3040] (1360, 1240, 1240) and write ROI [1840:3120, 1892:2948, 1892:2948] (1280, 1056, 1056)\n"
     ]
    },
    {
     "name": "stderr",
     "output_type": "stream",
     "text": [
      "INFO:volara.blockwise.blockwise:getting block\n"
     ]
    },
    {
     "name": "stderr",
     "output_type": "stream",
     "text": [
      "\r",
      "fragments-aff-agglom ▶:  33%|███▎      | 3/9 [00:11<00:20,  3.40s/blocks, ⧗=0, ▶=2, ✔=4, ✗=0, ∅=0]"
     ]
    },
    {
     "name": "stderr",
     "output_type": "stream",
     "text": [
      "\r",
      "fragments-aff-agglom ▶:  44%|████▍     | 4/9 [00:11<00:12,  2.43s/blocks, ⧗=0, ▶=2, ✔=4, ✗=0, ∅=0]"
     ]
    },
    {
     "name": "stderr",
     "output_type": "stream",
     "text": [
      "\r",
      "fragments-aff-agglom ▶:  44%|████▍     | 4/9 [00:11<00:12,  2.43s/blocks, ⧗=0, ▶=3, ✔=4, ✗=0, ∅=0]"
     ]
    },
    {
     "name": "stderr",
     "output_type": "stream",
     "text": [
      "INFO:volara.blockwise.blockwise:got block fragments-aff-agglom/11 with read ROI [1800:3160, 1800:3040, 2856:4000] (1360, 1240, 1144) and write ROI [1840:3120, 1892:2948, 2948:3908] (1280, 1056, 960)\n"
     ]
    },
    {
     "name": "stderr",
     "output_type": "stream",
     "text": [
      "INFO:volara.blockwise.blockwise:getting block\n"
     ]
    },
    {
     "name": "stderr",
     "output_type": "stream",
     "text": [
      "\r",
      "fragments-aff-agglom ▶:  44%|████▍     | 4/9 [00:14<00:12,  2.43s/blocks, ⧗=0, ▶=2, ✔=5, ✗=0, ∅=0]"
     ]
    },
    {
     "name": "stderr",
     "output_type": "stream",
     "text": [
      "\r",
      "fragments-aff-agglom ▶:  56%|█████▌    | 5/9 [00:14<00:10,  2.53s/blocks, ⧗=0, ▶=2, ✔=5, ✗=0, ∅=0]"
     ]
    },
    {
     "name": "stderr",
     "output_type": "stream",
     "text": [
      "\r",
      "fragments-aff-agglom ▶:  56%|█████▌    | 5/9 [00:14<00:10,  2.53s/blocks, ⧗=0, ▶=3, ✔=5, ✗=0, ∅=0]"
     ]
    },
    {
     "name": "stderr",
     "output_type": "stream",
     "text": [
      "INFO:volara.blockwise.blockwise:got block fragments-aff-agglom/13 with read ROI [1800:3160, 2856:4000, 1800:3040] (1360, 1144, 1240) and write ROI [1840:3120, 2948:3908, 1892:2948] (1280, 960, 1056)\n"
     ]
    },
    {
     "name": "stderr",
     "output_type": "stream",
     "text": [
      "INFO:volara.blockwise.blockwise:getting block\n"
     ]
    },
    {
     "name": "stderr",
     "output_type": "stream",
     "text": [
      "\r",
      "fragments-aff-agglom ▶:  56%|█████▌    | 5/9 [00:16<00:10,  2.53s/blocks, ⧗=0, ▶=2, ✔=6, ✗=0, ∅=0]"
     ]
    },
    {
     "name": "stderr",
     "output_type": "stream",
     "text": [
      "\r",
      "fragments-aff-agglom ▶:  67%|██████▋   | 6/9 [00:16<00:07,  2.39s/blocks, ⧗=0, ▶=2, ✔=6, ✗=0, ∅=0]"
     ]
    },
    {
     "name": "stderr",
     "output_type": "stream",
     "text": [
      "\r",
      "fragments-aff-agglom ▶:  67%|██████▋   | 6/9 [00:16<00:07,  2.39s/blocks, ⧗=0, ▶=3, ✔=6, ✗=0, ∅=0]"
     ]
    },
    {
     "name": "stderr",
     "output_type": "stream",
     "text": [
      "INFO:volara.blockwise.blockwise:got block fragments-aff-agglom/23 with read ROI [1800:3160, 2856:4000, 2856:4000] (1360, 1144, 1144) and write ROI [1840:3120, 2948:3908, 2948:3908] (1280, 960, 960)\n"
     ]
    },
    {
     "name": "stderr",
     "output_type": "stream",
     "text": [
      "INFO:volara.blockwise.blockwise:getting block\n"
     ]
    },
    {
     "name": "stderr",
     "output_type": "stream",
     "text": [
      "\r",
      "fragments-aff-agglom ▶:  67%|██████▋   | 6/9 [00:17<00:07,  2.39s/blocks, ⧗=0, ▶=2, ✔=7, ✗=0, ∅=0]"
     ]
    },
    {
     "name": "stderr",
     "output_type": "stream",
     "text": [
      "\r",
      "fragments-aff-agglom ▶:  78%|███████▊  | 7/9 [00:17<00:04,  2.07s/blocks, ⧗=0, ▶=2, ✔=7, ✗=0, ∅=0]"
     ]
    },
    {
     "name": "stderr",
     "output_type": "stream",
     "text": [
      "INFO:volara.blockwise.blockwise:got block None\n"
     ]
    },
    {
     "name": "stderr",
     "output_type": "stream",
     "text": [
      "INFO:volara.blockwise.blockwise:getting block\n"
     ]
    },
    {
     "name": "stderr",
     "output_type": "stream",
     "text": [
      "\r",
      "fragments-aff-agglom ▶:  78%|███████▊  | 7/9 [00:20<00:04,  2.07s/blocks, ⧗=0, ▶=1, ✔=8, ✗=0, ∅=0]"
     ]
    },
    {
     "name": "stderr",
     "output_type": "stream",
     "text": [
      "\r",
      "fragments-aff-agglom ▶:  89%|████████▉ | 8/9 [00:20<00:02,  2.23s/blocks, ⧗=0, ▶=1, ✔=8, ✗=0, ∅=0]"
     ]
    },
    {
     "name": "stderr",
     "output_type": "stream",
     "text": [
      "INFO:volara.blockwise.blockwise:got block None\n"
     ]
    },
    {
     "name": "stderr",
     "output_type": "stream",
     "text": [
      "INFO:volara.blockwise.blockwise:getting block\n"
     ]
    },
    {
     "name": "stderr",
     "output_type": "stream",
     "text": [
      "\r",
      "fragments-aff-agglom ▶:  89%|████████▉ | 8/9 [00:21<00:02,  2.23s/blocks, ⧗=0, ▶=0, ✔=9, ✗=0, ∅=0]"
     ]
    },
    {
     "name": "stderr",
     "output_type": "stream",
     "text": [
      "\r",
      "fragments-aff-agglom ▶: 100%|██████████| 9/9 [00:21<00:00,  1.81s/blocks, ⧗=0, ▶=0, ✔=9, ✗=0, ∅=0]"
     ]
    },
    {
     "name": "stderr",
     "output_type": "stream",
     "text": [
      "\r",
      "fragments-aff-agglom ✔: 100%|██████████| 9/9 [00:21<00:00,  1.81s/blocks, ⧗=0, ▶=0, ✔=9, ✗=0, ∅=0]"
     ]
    },
    {
     "name": "stderr",
     "output_type": "stream",
     "text": [
      "\r",
      "fragments-aff-agglom ✔: 100%|██████████| 9/9 [00:21<00:00,  2.35s/blocks, ⧗=0, ▶=0, ✔=9, ✗=0, ∅=0]"
     ]
    },
    {
     "name": "stderr",
     "output_type": "stream",
     "text": [
      "\n"
     ]
    },
    {
     "name": "stderr",
     "output_type": "stream",
     "text": [
      "INFO:volara.blockwise.blockwise:getting block\n"
     ]
    },
    {
     "name": "stderr",
     "output_type": "stream",
     "text": [
      "INFO:volara.blockwise.blockwise:got block None\n"
     ]
    },
    {
     "name": "stderr",
     "output_type": "stream",
     "text": [
      "\r",
      "lut-graph-mws ▶:   0%|          | 0/1 [00:00<?, ?blocks/s]"
     ]
    },
    {
     "name": "stderr",
     "output_type": "stream",
     "text": [
      "INFO:volara.blockwise.blockwise:got block lut-graph-mws/0 with read ROI [1840:3120, 836:3908, 836:3908] (1280, 3072, 3072) and write ROI [1840:3120, 836:3908, 836:3908] (1280, 3072, 3072)\n"
     ]
    },
    {
     "name": "stderr",
     "output_type": "stream",
     "text": [
      "\r",
      "lut-graph-mws ▶:   0%|          | 0/1 [00:00<?, ?blocks/s, ⧗=0, ▶=1, ✔=0, ✗=0, ∅=0]"
     ]
    },
    {
     "name": "stderr",
     "output_type": "stream",
     "text": [
      "INFO:volara.blockwise.blockwise:getting block\n"
     ]
    },
    {
     "name": "stderr",
     "output_type": "stream",
     "text": [
      "\r",
      "lut-graph-mws ▶:   0%|          | 0/1 [00:00<?, ?blocks/s, ⧗=0, ▶=0, ✔=1, ✗=0, ∅=0]"
     ]
    },
    {
     "name": "stderr",
     "output_type": "stream",
     "text": [
      "\r",
      "lut-graph-mws ▶: 100%|██████████| 1/1 [00:00<00:00,  4.42blocks/s, ⧗=0, ▶=0, ✔=1, ✗=0, ∅=0]"
     ]
    },
    {
     "name": "stderr",
     "output_type": "stream",
     "text": [
      "\r",
      "lut-graph-mws ✔: 100%|██████████| 1/1 [00:00<00:00,  4.42blocks/s, ⧗=0, ▶=0, ✔=1, ✗=0, ∅=0]"
     ]
    },
    {
     "name": "stderr",
     "output_type": "stream",
     "text": [
      "\r",
      "lut-graph-mws ✔: 100%|██████████| 1/1 [00:00<00:00,  4.40blocks/s, ⧗=0, ▶=0, ✔=1, ✗=0, ∅=0]"
     ]
    },
    {
     "name": "stderr",
     "output_type": "stream",
     "text": [
      "\n"
     ]
    },
    {
     "name": "stderr",
     "output_type": "stream",
     "text": [
      "INFO:volara.blockwise.blockwise:getting block\n"
     ]
    },
    {
     "name": "stderr",
     "output_type": "stream",
     "text": [
      "\r",
      "pred_labels-relabel ▶:   0%|          | 0/9 [00:00<?, ?blocks/s]"
     ]
    },
    {
     "name": "stderr",
     "output_type": "stream",
     "text": [
      "INFO:volara.blockwise.blockwise:got block pred_labels-relabel/0 with read ROI [1840:3120, 836:1892, 836:1892] (1280, 1056, 1056) and write ROI [1840:3120, 836:1892, 836:1892] (1280, 1056, 1056)\n"
     ]
    },
    {
     "name": "stderr",
     "output_type": "stream",
     "text": [
      "\r",
      "pred_labels-relabel ▶:   0%|          | 0/9 [00:00<?, ?blocks/s, ⧗=0, ▶=1, ✔=0, ✗=0, ∅=0]"
     ]
    },
    {
     "name": "stderr",
     "output_type": "stream",
     "text": [
      "INFO:volara.blockwise.blockwise:getting block\n"
     ]
    },
    {
     "name": "stderr",
     "output_type": "stream",
     "text": [
      "\r",
      "pred_labels-relabel ▶:   0%|          | 0/9 [00:00<?, ?blocks/s, ⧗=0, ▶=2, ✔=0, ✗=0, ∅=0]"
     ]
    },
    {
     "name": "stderr",
     "output_type": "stream",
     "text": [
      "INFO:volara.blockwise.blockwise:got block pred_labels-relabel/1 with read ROI [1840:3120, 836:1892, 1892:2948] (1280, 1056, 1056) and write ROI [1840:3120, 836:1892, 1892:2948] (1280, 1056, 1056)\n"
     ]
    },
    {
     "name": "stderr",
     "output_type": "stream",
     "text": [
      "INFO:volara.blockwise.blockwise:got block None\n"
     ]
    },
    {
     "name": "stderr",
     "output_type": "stream",
     "text": [
      "INFO:volara.blockwise.blockwise:getting block\n"
     ]
    },
    {
     "name": "stderr",
     "output_type": "stream",
     "text": [
      "\r",
      "pred_labels-relabel ▶:   0%|          | 0/9 [00:00<?, ?blocks/s, ⧗=0, ▶=3, ✔=0, ✗=0, ∅=0]"
     ]
    },
    {
     "name": "stderr",
     "output_type": "stream",
     "text": [
      "INFO:volara.blockwise.blockwise:got block pred_labels-relabel/2 with read ROI [1840:3120, 1892:2948, 836:1892] (1280, 1056, 1056) and write ROI [1840:3120, 1892:2948, 836:1892] (1280, 1056, 1056)\n"
     ]
    },
    {
     "name": "stderr",
     "output_type": "stream",
     "text": [
      "INFO:volara.blockwise.blockwise:getting block\n"
     ]
    },
    {
     "name": "stderr",
     "output_type": "stream",
     "text": [
      "\r",
      "pred_labels-relabel ▶:   0%|          | 0/9 [00:02<?, ?blocks/s, ⧗=0, ▶=2, ✔=1, ✗=0, ∅=0]"
     ]
    },
    {
     "name": "stderr",
     "output_type": "stream",
     "text": [
      "\r",
      "pred_labels-relabel ▶:  11%|█         | 1/9 [00:02<00:18,  2.29s/blocks, ⧗=0, ▶=2, ✔=1, ✗=0, ∅=0]"
     ]
    },
    {
     "name": "stderr",
     "output_type": "stream",
     "text": [
      "\r",
      "pred_labels-relabel ▶:  11%|█         | 1/9 [00:02<00:18,  2.29s/blocks, ⧗=0, ▶=3, ✔=1, ✗=0, ∅=0]"
     ]
    },
    {
     "name": "stderr",
     "output_type": "stream",
     "text": [
      "INFO:volara.blockwise.blockwise:got block pred_labels-relabel/4 with read ROI [1840:3120, 836:1892, 2948:3908] (1280, 1056, 960) and write ROI [1840:3120, 836:1892, 2948:3908] (1280, 1056, 960)\n"
     ]
    },
    {
     "name": "stderr",
     "output_type": "stream",
     "text": [
      "INFO:volara.blockwise.blockwise:getting block\n"
     ]
    },
    {
     "name": "stderr",
     "output_type": "stream",
     "text": [
      "\r",
      "pred_labels-relabel ▶:  11%|█         | 1/9 [00:02<00:18,  2.29s/blocks, ⧗=0, ▶=2, ✔=2, ✗=0, ∅=0]"
     ]
    },
    {
     "name": "stderr",
     "output_type": "stream",
     "text": [
      "\r",
      "pred_labels-relabel ▶:  22%|██▏       | 2/9 [00:02<00:07,  1.02s/blocks, ⧗=0, ▶=2, ✔=2, ✗=0, ∅=0]"
     ]
    },
    {
     "name": "stderr",
     "output_type": "stream",
     "text": [
      "\r",
      "pred_labels-relabel ▶:  22%|██▏       | 2/9 [00:02<00:07,  1.02s/blocks, ⧗=0, ▶=3, ✔=2, ✗=0, ∅=0]"
     ]
    },
    {
     "name": "stderr",
     "output_type": "stream",
     "text": [
      "INFO:volara.blockwise.blockwise:got block pred_labels-relabel/5 with read ROI [1840:3120, 1892:2948, 1892:2948] (1280, 1056, 1056) and write ROI [1840:3120, 1892:2948, 1892:2948] (1280, 1056, 1056)\n"
     ]
    },
    {
     "name": "stderr",
     "output_type": "stream",
     "text": [
      "INFO:volara.blockwise.blockwise:getting block\n"
     ]
    },
    {
     "name": "stderr",
     "output_type": "stream",
     "text": [
      "\r",
      "pred_labels-relabel ▶:  22%|██▏       | 2/9 [00:02<00:07,  1.02s/blocks, ⧗=0, ▶=2, ✔=3, ✗=0, ∅=0]"
     ]
    },
    {
     "name": "stderr",
     "output_type": "stream",
     "text": [
      "\r",
      "pred_labels-relabel ▶:  33%|███▎      | 3/9 [00:02<00:03,  1.61blocks/s, ⧗=0, ▶=2, ✔=3, ✗=0, ∅=0]"
     ]
    },
    {
     "name": "stderr",
     "output_type": "stream",
     "text": [
      "\r",
      "pred_labels-relabel ▶:  33%|███▎      | 3/9 [00:02<00:03,  1.61blocks/s, ⧗=0, ▶=3, ✔=3, ✗=0, ∅=0]"
     ]
    },
    {
     "name": "stderr",
     "output_type": "stream",
     "text": [
      "INFO:volara.blockwise.blockwise:got block pred_labels-relabel/7 with read ROI [1840:3120, 2948:3908, 836:1892] (1280, 960, 1056) and write ROI [1840:3120, 2948:3908, 836:1892] (1280, 960, 1056)\n"
     ]
    },
    {
     "name": "stderr",
     "output_type": "stream",
     "text": [
      "INFO:volara.blockwise.blockwise:getting block\n"
     ]
    },
    {
     "name": "stderr",
     "output_type": "stream",
     "text": [
      "\r",
      "pred_labels-relabel ▶:  33%|███▎      | 3/9 [00:02<00:03,  1.61blocks/s, ⧗=0, ▶=2, ✔=4, ✗=0, ∅=0]"
     ]
    },
    {
     "name": "stderr",
     "output_type": "stream",
     "text": [
      "\r",
      "pred_labels-relabel ▶:  44%|████▍     | 4/9 [00:02<00:02,  2.34blocks/s, ⧗=0, ▶=2, ✔=4, ✗=0, ∅=0]"
     ]
    },
    {
     "name": "stderr",
     "output_type": "stream",
     "text": [
      "\r",
      "pred_labels-relabel ▶:  44%|████▍     | 4/9 [00:02<00:02,  2.34blocks/s, ⧗=0, ▶=3, ✔=4, ✗=0, ∅=0]"
     ]
    },
    {
     "name": "stderr",
     "output_type": "stream",
     "text": [
      "INFO:volara.blockwise.blockwise:got block pred_labels-relabel/11 with read ROI [1840:3120, 1892:2948, 2948:3908] (1280, 1056, 960) and write ROI [1840:3120, 1892:2948, 2948:3908] (1280, 1056, 960)\n"
     ]
    },
    {
     "name": "stderr",
     "output_type": "stream",
     "text": [
      "INFO:volara.blockwise.blockwise:getting block\n"
     ]
    },
    {
     "name": "stderr",
     "output_type": "stream",
     "text": [
      "\r",
      "pred_labels-relabel ▶:  44%|████▍     | 4/9 [00:02<00:02,  2.34blocks/s, ⧗=0, ▶=2, ✔=5, ✗=0, ∅=0]"
     ]
    },
    {
     "name": "stderr",
     "output_type": "stream",
     "text": [
      "\r",
      "pred_labels-relabel ▶:  56%|█████▌    | 5/9 [00:02<00:01,  3.13blocks/s, ⧗=0, ▶=2, ✔=5, ✗=0, ∅=0]"
     ]
    },
    {
     "name": "stderr",
     "output_type": "stream",
     "text": [
      "\r",
      "pred_labels-relabel ▶:  56%|█████▌    | 5/9 [00:02<00:01,  3.13blocks/s, ⧗=0, ▶=3, ✔=5, ✗=0, ∅=0]"
     ]
    },
    {
     "name": "stderr",
     "output_type": "stream",
     "text": [
      "INFO:volara.blockwise.blockwise:got block pred_labels-relabel/13 with read ROI [1840:3120, 2948:3908, 1892:2948] (1280, 960, 1056) and write ROI [1840:3120, 2948:3908, 1892:2948] (1280, 960, 1056)\n"
     ]
    },
    {
     "name": "stderr",
     "output_type": "stream",
     "text": [
      "INFO:volara.blockwise.blockwise:getting block\n"
     ]
    },
    {
     "name": "stderr",
     "output_type": "stream",
     "text": [
      "\r",
      "pred_labels-relabel ▶:  56%|█████▌    | 5/9 [00:02<00:01,  3.13blocks/s, ⧗=0, ▶=2, ✔=6, ✗=0, ∅=0]"
     ]
    },
    {
     "name": "stderr",
     "output_type": "stream",
     "text": [
      "INFO:volara.blockwise.blockwise:getting block\n"
     ]
    },
    {
     "name": "stderr",
     "output_type": "stream",
     "text": [
      "\r",
      "pred_labels-relabel ▶:  67%|██████▋   | 6/9 [00:02<00:00,  3.13blocks/s, ⧗=0, ▶=1, ✔=7, ✗=0, ∅=0]"
     ]
    },
    {
     "name": "stderr",
     "output_type": "stream",
     "text": [
      "\r",
      "pred_labels-relabel ▶:  78%|███████▊  | 7/9 [00:02<00:00,  3.13blocks/s, ⧗=0, ▶=2, ✔=7, ✗=0, ∅=0]"
     ]
    },
    {
     "name": "stderr",
     "output_type": "stream",
     "text": [
      "\r",
      "pred_labels-relabel ▶:  78%|███████▊  | 7/9 [00:02<00:00,  5.43blocks/s, ⧗=0, ▶=2, ✔=7, ✗=0, ∅=0]"
     ]
    },
    {
     "name": "stderr",
     "output_type": "stream",
     "text": [
      "INFO:volara.blockwise.blockwise:got block pred_labels-relabel/23 with read ROI [1840:3120, 2948:3908, 2948:3908] (1280, 960, 960) and write ROI [1840:3120, 2948:3908, 2948:3908] (1280, 960, 960)\n"
     ]
    },
    {
     "name": "stderr",
     "output_type": "stream",
     "text": [
      "INFO:volara.blockwise.blockwise:getting block\n"
     ]
    },
    {
     "name": "stderr",
     "output_type": "stream",
     "text": [
      "\r",
      "pred_labels-relabel ▶:  78%|███████▊  | 7/9 [00:02<00:00,  5.43blocks/s, ⧗=0, ▶=1, ✔=8, ✗=0, ∅=0]"
     ]
    },
    {
     "name": "stderr",
     "output_type": "stream",
     "text": [
      "INFO:volara.blockwise.blockwise:getting block\n"
     ]
    },
    {
     "name": "stderr",
     "output_type": "stream",
     "text": [
      "\r",
      "pred_labels-relabel ▶:  89%|████████▉ | 8/9 [00:02<00:00,  5.43blocks/s, ⧗=0, ▶=0, ✔=9, ✗=0, ∅=0]"
     ]
    },
    {
     "name": "stderr",
     "output_type": "stream",
     "text": [
      "\r",
      "pred_labels-relabel ✔: 100%|██████████| 9/9 [00:02<00:00,  5.43blocks/s, ⧗=0, ▶=0, ✔=9, ✗=0, ∅=0]"
     ]
    },
    {
     "name": "stderr",
     "output_type": "stream",
     "text": [
      "\r",
      "pred_labels-relabel ✔: 100%|██████████| 9/9 [00:02<00:00,  3.01blocks/s, ⧗=0, ▶=0, ✔=9, ✗=0, ∅=0]"
     ]
    },
    {
     "name": "stderr",
     "output_type": "stream",
     "text": [
      "\n"
     ]
    },
    {
     "name": "stderr",
     "output_type": "stream",
     "text": [
      "INFO:volara.blockwise.blockwise:got block None\n"
     ]
    },
    {
     "name": "stdout",
     "output_type": "stream",
     "text": [
      "\n",
      "Execution Summary\n",
      "-----------------\n",
      "\n",
      "  Task affs-predict:\n",
      "\n",
      "    num blocks : 9\n",
      "    completed ✔: 9 (skipped 0)\n",
      "    failed    ✗: 0\n",
      "    orphaned  ∅: 0\n",
      "\n",
      "    all blocks processed successfully\n",
      "\n",
      "  Task frags-extract-frags:\n",
      "\n",
      "    num blocks : 9\n",
      "    completed ✔: 9 (skipped 0)\n",
      "    failed    ✗: 0\n",
      "    orphaned  ∅: 0\n",
      "\n",
      "    all blocks processed successfully\n",
      "\n",
      "  Task fragments-aff-agglom:\n",
      "\n",
      "    num blocks : 9\n",
      "    completed ✔: 9 (skipped 0)\n",
      "    failed    ✗: 0\n",
      "    orphaned  ∅: 0\n",
      "\n",
      "    all blocks processed successfully\n",
      "\n",
      "  Task lut-graph-mws:\n",
      "\n",
      "    num blocks : 1\n",
      "    completed ✔: 1 (skipped 0)\n",
      "    failed    ✗: 0\n",
      "    orphaned  ∅: 0\n",
      "\n",
      "    all blocks processed successfully\n",
      "\n",
      "  Task pred_labels-relabel:\n",
      "\n",
      "    num blocks : 9\n",
      "    completed ✔: 9 (skipped 0)\n",
      "    failed    ✗: 0\n",
      "    orphaned  ∅: 0\n",
      "\n",
      "    all blocks processed successfully\n"
     ]
    }
   ],
   "source": [
    "from dacapo_toolbox.postprocessing import blockwise_predict_mutex\n",
    "from volara.workers import LocalWorker\n",
    "\n",
    "\n",
    "unet = unet.eval()\n",
    "scripted_unet = torch.jit.script(module)\n",
    "torch.jit.save(scripted_unet, \"cremi.zarr/affs_unet.pt\")\n",
    "torch.save(scripted_unet.state_dict(), \"cremi.zarr/weights.pth\")\n",
    "\n",
    "blocksize = Coordinate(unet.min_output_shape) + blocksize\n",
    "\n",
    "# default biases:\n",
    "# interpolate log offset distances to a range of [-0.2, -0.8]\n",
    "\n",
    "blockwise_predict_mutex(\n",
    "    raw_store=\"cremi.zarr/test/raw\",\n",
    "    affs_store=\"cremi.zarr/test/affs\",  # optional, provided for visualization\n",
    "    frags_store=\"cremi.zarr/test/frags\",  # optional, provided for visualization\n",
    "    labels_store=\"cremi.zarr/test/pred_labels\",\n",
    "    neighborhood=neighborhood,\n",
    "    blocksize=blocksize,\n",
    "    model_path=\"cremi.zarr/affs_unet.pt\",\n",
    "    in_channels=1,\n",
    "    model_context=unet.context // 2,\n",
    "    predict_worker=LocalWorker(),  # optional, see docstring\n",
    "    extract_frag_bias=[\n",
    "        -0.5,\n",
    "        -0.2,\n",
    "        -0.2,\n",
    "        -0.5,\n",
    "        -0.5,\n",
    "        -0.8,\n",
    "        -0.8,\n",
    "    ],  # optional, TODO: defaults not very good yet\n",
    "    edge_scores=[  # optional, TODO: defaults not very good yet\n",
    "        (\"affs_z\", [Coordinate(1, 0, 0)], -0.5),\n",
    "        (\"affs_xy\", [Coordinate(0, 1, 0), Coordinate(0, 0, 1)], -0.2),\n",
    "        (\n",
    "            \"affs_long_xy\",\n",
    "            [\n",
    "                Coordinate(0, 7, 0),\n",
    "                Coordinate(0, 0, 7),\n",
    "                Coordinate(0, 23, 0),\n",
    "                Coordinate(0, 0, 23),\n",
    "            ],\n",
    "            -0.8,\n",
    "        ),\n",
    "    ],\n",
    "    num_extract_frag_workers=3,\n",
    "    num_aff_agglom_workers=3,\n",
    "    num_relabel_workers=3,\n",
    "    roi=large_eval_roi,\n",
    ")"
   ]
  },
  {
   "cell_type": "markdown",
   "id": "f1d59aa5",
   "metadata": {},
   "source": [
    "## Visualizing the results"
   ]
  },
  {
   "cell_type": "code",
   "execution_count": 17,
   "id": "6cb6ab74",
   "metadata": {
    "execution": {
     "iopub.execute_input": "2025-09-16T07:31:18.107931Z",
     "iopub.status.busy": "2025-09-16T07:31:18.106912Z",
     "iopub.status.idle": "2025-09-16T07:31:49.631972Z",
     "shell.execute_reply": "2025-09-16T07:31:49.631395Z"
    }
   },
   "outputs": [
    {
     "name": "stderr",
     "output_type": "stream",
     "text": [
      "INFO:matplotlib.animation:Animation.save using <class 'matplotlib.animation.PillowWriter'>\n"
     ]
    }
   ],
   "source": [
    "from funlib.persistence import open_ds\n",
    "\n",
    "affs = open_ds(\"cremi.zarr/test/affs\")\n",
    "affs.lazy_op(lambda x: x[[0, 3, 4]] / 255.0)\n",
    "raw = open_ds(\"cremi.zarr/test/raw\")\n",
    "raw.lazy_op(large_eval_roi)\n",
    "gif_2d(\n",
    "    arrays={\n",
    "        \"Raw\": raw,\n",
    "        \"Affs\": affs,\n",
    "        \"Frags\": open_ds(\"cremi.zarr/test/frags\"),\n",
    "        \"Pred Labels\": open_ds(\"cremi.zarr/test/pred_labels\"),\n",
    "    },\n",
    "    array_types={\n",
    "        \"Raw\": \"raw\",\n",
    "        \"Affs\": \"affs\",\n",
    "        \"Frags\": \"labels\",\n",
    "        \"Pred Labels\": \"labels\",\n",
    "    },\n",
    "    title=\"CREMI Affs Prediction\",\n",
    "    filename=\"_static/cremi/cremi-prediction.gif\",\n",
    "    fps=10,\n",
    ")\n",
    "cube(\n",
    "    arrays={\n",
    "        \"raw\": raw,\n",
    "        \"affs\": affs,\n",
    "        \"frags\": open_ds(\"cremi.zarr/test/frags\"),\n",
    "        \"pred_labels\": open_ds(\"cremi.zarr/test/pred_labels\"),\n",
    "    },\n",
    "    array_types={\n",
    "        \"raw\": \"raw\",\n",
    "        \"affs\": \"affs\",\n",
    "        \"frags\": \"labels\",\n",
    "        \"pred_labels\": \"labels\",\n",
    "    },\n",
    "    title=\"CREMI Affs Prediction\",\n",
    "    filename=\"_static/cremi/cremi-prediction.jpg\",\n",
    ")"
   ]
  },
  {
   "cell_type": "markdown",
   "id": "55ec2dd0",
   "metadata": {},
   "source": [
    "Here we visualize the prediction results:\n",
    "![cremi-prediction](_static/cremi/cremi-prediction.gif)\n",
    "![cremi-prediction-cube](_static/cremi/cremi-prediction.jpg)"
   ]
  }
 ],
 "metadata": {
  "jupytext": {
   "cell_metadata_filter": "-all",
   "main_language": "python",
   "notebook_metadata_filter": "-all"
  },
  "language_info": {
   "codemirror_mode": {
    "name": "ipython",
    "version": 3
   },
   "file_extension": ".py",
   "mimetype": "text/x-python",
   "name": "python",
   "nbconvert_exporter": "python",
   "pygments_lexer": "ipython3",
   "version": "3.11.13"
  }
 },
 "nbformat": 4,
 "nbformat_minor": 5
}
